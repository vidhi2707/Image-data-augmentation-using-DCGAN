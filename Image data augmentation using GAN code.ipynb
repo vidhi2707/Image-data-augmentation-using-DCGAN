{
  "nbformat": 4,
  "nbformat_minor": 0,
  "metadata": {
    "colab": {
      "name": "DCGAN_ins_96 (1).ipynb",
      "provenance": [],
      "collapsed_sections": [],
      "toc_visible": true
    },
    "kernelspec": {
      "name": "python3",
      "display_name": "Python 3"
    },
    "accelerator": "GPU"
  },
  "cells": [
    {
      "cell_type": "markdown",
      "metadata": {
        "id": "ZXEScjhKvR27",
        "colab_type": "text"
      },
      "source": [
        "# PreProcessing\n"
      ]
    },
    {
      "cell_type": "markdown",
      "metadata": {
        "id": "J1uzgVILwIrf",
        "colab_type": "text"
      },
      "source": [
        "**The following packages will be used to implement a basic GAN system in Python/Keras. Importing libraries and layers from tensorflow.**"
      ]
    },
    {
      "cell_type": "code",
      "metadata": {
        "id": "qf58yyr7vekn",
        "colab_type": "code",
        "colab": {
          "base_uri": "https://localhost:8080/",
          "height": 34
        },
        "outputId": "98da3841-90a8-478f-d3f5-cb962c101736"
      },
      "source": [
        "import tensorflow as tf\n",
        "from tensorflow.keras.layers import Input, Reshape, Dropout, Dense \n",
        "from tensorflow.keras.layers import Flatten, BatchNormalization\n",
        "from tensorflow.keras.layers import Activation, ZeroPadding2D\n",
        "from tensorflow.keras.layers import LeakyReLU\n",
        "from tensorflow.keras.layers import UpSampling2D, Conv2D\n",
        "from tensorflow.keras.models import Sequential, Model, load_model\n",
        "from tensorflow.keras.optimizers import Adam\n",
        "from tensorflow import keras\n",
        "import numpy as np\n",
        "from PIL import Image\n",
        "from tqdm import tqdm\n",
        "import os \n",
        "import time\n",
        "import matplotlib.pyplot as plt\n",
        "from keras.models import load_model"
      ],
      "execution_count": 5,
      "outputs": [
        {
          "output_type": "stream",
          "text": [
            "Using TensorFlow backend.\n"
          ],
          "name": "stderr"
        }
      ]
    },
    {
      "cell_type": "markdown",
      "metadata": {
        "id": "rPEnlYN5mn71",
        "colab_type": "text"
      },
      "source": [
        "**The following code mounts Google drive for use with Google CoLab**\n"
      ]
    },
    {
      "cell_type": "code",
      "metadata": {
        "id": "_Qd1Wm40CbTU",
        "colab_type": "code",
        "colab": {
          "base_uri": "https://localhost:8080/",
          "height": 125
        },
        "outputId": "f8167f6d-d6de-46c6-eba3-a35056976d58"
      },
      "source": [
        "from google.colab import drive\n",
        "drive.mount('/content/drive')"
      ],
      "execution_count": 1,
      "outputs": [
        {
          "output_type": "stream",
          "text": [
            "Go to this URL in a browser: https://accounts.google.com/o/oauth2/auth?client_id=947318989803-6bn6qk8qdgf4n4g3pfee6491hc0brc4i.apps.googleusercontent.com&redirect_uri=urn%3aietf%3awg%3aoauth%3a2.0%3aoob&response_type=code&scope=email%20https%3a%2f%2fwww.googleapis.com%2fauth%2fdocs.test%20https%3a%2f%2fwww.googleapis.com%2fauth%2fdrive%20https%3a%2f%2fwww.googleapis.com%2fauth%2fdrive.photos.readonly%20https%3a%2f%2fwww.googleapis.com%2fauth%2fpeopleapi.readonly\n",
            "\n",
            "Enter your authorization code:\n",
            "··········\n",
            "Mounted at /content/drive\n"
          ],
          "name": "stdout"
        }
      ]
    },
    {
      "cell_type": "markdown",
      "metadata": {
        "id": "lLKhJmIQwbd2",
        "colab_type": "text"
      },
      "source": [
        " **DATASET for cropped aloa lactinea insect- https://drive.google.com/file/d/1xS3R77DSzf443uuPWKEa7duSmwBykUes/view?usp=sharing This dataset has 999 cropped images of the aloa lactinea insect and is of 26 MB(uncompressed).Download the dataset and upload to colab directly or upload zipped version of the file and mount your drive and later unzip them for using.**"
      ]
    },
    {
      "cell_type": "markdown",
      "metadata": {
        "id": "e_i3Rj8TwPfp",
        "colab_type": "text"
      },
      "source": [
        "\n",
        "\n",
        "**Unzipping dataset to the below mentioned path directory in google drive.**"
      ]
    },
    {
      "cell_type": "code",
      "metadata": {
        "id": "rolaaj0PvgwP",
        "colab_type": "code",
        "colab": {
          "base_uri": "https://localhost:8080/",
          "height": 1000
        },
        "outputId": "84d5dbfe-bba6-4115-f07e-1b30e02ac6a4"
      },
      "source": [
        "!unzip \"/content/drive/My Drive/minor/cropped aloa lectinea.zip\" #link of compressed dataset"
      ],
      "execution_count": 2,
      "outputs": [
        {
          "output_type": "stream",
          "text": [
            "Archive:  /content/drive/My Drive/minor/cropped aloa lectinea.zip\n",
            "  inflating: cropped aloa lectinea/insect (1).jpg  \n",
            "  inflating: cropped aloa lectinea/insect (10).jpg  \n",
            "  inflating: cropped aloa lectinea/insect (100).jpg  \n",
            "  inflating: cropped aloa lectinea/insect (101).jpg  \n",
            "  inflating: cropped aloa lectinea/insect (102).jpg  \n",
            "  inflating: cropped aloa lectinea/insect (103).jpg  \n",
            "  inflating: cropped aloa lectinea/insect (104).jpg  \n",
            "  inflating: cropped aloa lectinea/insect (105).jpg  \n",
            "  inflating: cropped aloa lectinea/insect (106).jpg  \n",
            "  inflating: cropped aloa lectinea/insect (107).jpg  \n",
            "  inflating: cropped aloa lectinea/insect (108).jpg  \n",
            "  inflating: cropped aloa lectinea/insect (109).jpg  \n",
            "  inflating: cropped aloa lectinea/insect (11).jpg  \n",
            "  inflating: cropped aloa lectinea/insect (110).jpg  \n",
            "  inflating: cropped aloa lectinea/insect (111).jpg  \n",
            "  inflating: cropped aloa lectinea/insect (112).jpg  \n",
            "  inflating: cropped aloa lectinea/insect (113).jpg  \n",
            "  inflating: cropped aloa lectinea/insect (114).jpg  \n",
            "  inflating: cropped aloa lectinea/insect (115).jpg  \n",
            "  inflating: cropped aloa lectinea/insect (116).jpg  \n",
            "  inflating: cropped aloa lectinea/insect (117).jpg  \n",
            "  inflating: cropped aloa lectinea/insect (118).jpg  \n",
            "  inflating: cropped aloa lectinea/insect (119).jpg  \n",
            "  inflating: cropped aloa lectinea/insect (12).jpg  \n",
            "  inflating: cropped aloa lectinea/insect (120).jpg  \n",
            "  inflating: cropped aloa lectinea/insect (121).jpg  \n",
            "  inflating: cropped aloa lectinea/insect (122).jpg  \n",
            "  inflating: cropped aloa lectinea/insect (123).jpg  \n",
            "  inflating: cropped aloa lectinea/insect (124).jpg  \n",
            "  inflating: cropped aloa lectinea/insect (125).jpg  \n",
            "  inflating: cropped aloa lectinea/insect (126).jpg  \n",
            "  inflating: cropped aloa lectinea/insect (127).jpg  \n",
            "  inflating: cropped aloa lectinea/insect (128).jpg  \n",
            "  inflating: cropped aloa lectinea/insect (129).jpg  \n",
            "  inflating: cropped aloa lectinea/insect (13).jpg  \n",
            "  inflating: cropped aloa lectinea/insect (130).jpg  \n",
            "  inflating: cropped aloa lectinea/insect (131).jpg  \n",
            "  inflating: cropped aloa lectinea/insect (132).jpg  \n",
            "  inflating: cropped aloa lectinea/insect (133).jpg  \n",
            "  inflating: cropped aloa lectinea/insect (134).jpg  \n",
            "  inflating: cropped aloa lectinea/insect (135).jpg  \n",
            "  inflating: cropped aloa lectinea/insect (136).jpg  \n",
            "  inflating: cropped aloa lectinea/insect (137).jpg  \n",
            "  inflating: cropped aloa lectinea/insect (138).jpg  \n",
            "  inflating: cropped aloa lectinea/insect (139).jpg  \n",
            "  inflating: cropped aloa lectinea/insect (14).jpg  \n",
            "  inflating: cropped aloa lectinea/insect (140).jpg  \n",
            "  inflating: cropped aloa lectinea/insect (141).jpg  \n",
            "  inflating: cropped aloa lectinea/insect (142).jpg  \n",
            "  inflating: cropped aloa lectinea/insect (143).jpg  \n",
            "  inflating: cropped aloa lectinea/insect (144).jpg  \n",
            "  inflating: cropped aloa lectinea/insect (145).jpg  \n",
            "  inflating: cropped aloa lectinea/insect (146).jpg  \n",
            "  inflating: cropped aloa lectinea/insect (147).jpg  \n",
            "  inflating: cropped aloa lectinea/insect (148).jpg  \n",
            "  inflating: cropped aloa lectinea/insect (149).jpg  \n",
            "  inflating: cropped aloa lectinea/insect (15).jpg  \n",
            "  inflating: cropped aloa lectinea/insect (150).jpg  \n",
            "  inflating: cropped aloa lectinea/insect (151).jpg  \n",
            "  inflating: cropped aloa lectinea/insect (152).jpg  \n",
            "  inflating: cropped aloa lectinea/insect (153).jpg  \n",
            "  inflating: cropped aloa lectinea/insect (154).jpg  \n",
            "  inflating: cropped aloa lectinea/insect (155).jpg  \n",
            "  inflating: cropped aloa lectinea/insect (156).jpg  \n",
            "  inflating: cropped aloa lectinea/insect (157).jpg  \n",
            "  inflating: cropped aloa lectinea/insect (158).jpg  \n",
            "  inflating: cropped aloa lectinea/insect (159).jpg  \n",
            "  inflating: cropped aloa lectinea/insect (16).jpg  \n",
            "  inflating: cropped aloa lectinea/insect (160).jpg  \n",
            "  inflating: cropped aloa lectinea/insect (161).jpg  \n",
            "  inflating: cropped aloa lectinea/insect (162).jpg  \n",
            "  inflating: cropped aloa lectinea/insect (163).jpg  \n",
            "  inflating: cropped aloa lectinea/insect (164).jpg  \n",
            "  inflating: cropped aloa lectinea/insect (165).jpg  \n",
            "  inflating: cropped aloa lectinea/insect (166).jpg  \n",
            "  inflating: cropped aloa lectinea/insect (167).jpg  \n",
            "  inflating: cropped aloa lectinea/insect (168).jpg  \n",
            "  inflating: cropped aloa lectinea/insect (169).jpg  \n",
            "  inflating: cropped aloa lectinea/insect (17).jpg  \n",
            "  inflating: cropped aloa lectinea/insect (170).jpg  \n",
            "  inflating: cropped aloa lectinea/insect (171).jpg  \n",
            "  inflating: cropped aloa lectinea/insect (172).jpg  \n",
            "  inflating: cropped aloa lectinea/insect (173).jpg  \n",
            "  inflating: cropped aloa lectinea/insect (174).jpg  \n",
            "  inflating: cropped aloa lectinea/insect (175).jpg  \n",
            "  inflating: cropped aloa lectinea/insect (176).jpg  \n",
            "  inflating: cropped aloa lectinea/insect (177).jpg  \n",
            "  inflating: cropped aloa lectinea/insect (178).jpg  \n",
            "  inflating: cropped aloa lectinea/insect (179).jpg  \n",
            "  inflating: cropped aloa lectinea/insect (18).jpg  \n",
            "  inflating: cropped aloa lectinea/insect (180).jpg  \n",
            "  inflating: cropped aloa lectinea/insect (181).jpg  \n",
            "  inflating: cropped aloa lectinea/insect (182).jpg  \n",
            "  inflating: cropped aloa lectinea/insect (183).jpg  \n",
            "  inflating: cropped aloa lectinea/insect (184).jpg  \n",
            "  inflating: cropped aloa lectinea/insect (185).jpg  \n",
            "  inflating: cropped aloa lectinea/insect (186).jpg  \n",
            "  inflating: cropped aloa lectinea/insect (187).jpg  \n",
            "  inflating: cropped aloa lectinea/insect (188).jpg  \n",
            "  inflating: cropped aloa lectinea/insect (189).jpg  \n",
            "  inflating: cropped aloa lectinea/insect (19).jpg  \n",
            "  inflating: cropped aloa lectinea/insect (190).jpg  \n",
            "  inflating: cropped aloa lectinea/insect (191).jpg  \n",
            "  inflating: cropped aloa lectinea/insect (192).jpg  \n",
            "  inflating: cropped aloa lectinea/insect (193).jpg  \n",
            "  inflating: cropped aloa lectinea/insect (194).jpg  \n",
            "  inflating: cropped aloa lectinea/insect (195).jpg  \n",
            "  inflating: cropped aloa lectinea/insect (196).jpg  \n",
            "  inflating: cropped aloa lectinea/insect (197).jpg  \n",
            "  inflating: cropped aloa lectinea/insect (198).jpg  \n",
            "  inflating: cropped aloa lectinea/insect (199).jpg  \n",
            "  inflating: cropped aloa lectinea/insect (2).jpg  \n",
            "  inflating: cropped aloa lectinea/insect (20).jpg  \n",
            "  inflating: cropped aloa lectinea/insect (200).jpg  \n",
            "  inflating: cropped aloa lectinea/insect (201).jpg  \n",
            "  inflating: cropped aloa lectinea/insect (202).jpg  \n",
            "  inflating: cropped aloa lectinea/insect (203).jpg  \n",
            "  inflating: cropped aloa lectinea/insect (204).jpg  \n",
            "  inflating: cropped aloa lectinea/insect (205).jpg  \n",
            "  inflating: cropped aloa lectinea/insect (206).jpg  \n",
            "  inflating: cropped aloa lectinea/insect (207).jpg  \n",
            "  inflating: cropped aloa lectinea/insect (208).jpg  \n",
            "  inflating: cropped aloa lectinea/insect (209).jpg  \n",
            "  inflating: cropped aloa lectinea/insect (21).jpg  \n",
            "  inflating: cropped aloa lectinea/insect (210).jpg  \n",
            "  inflating: cropped aloa lectinea/insect (211).jpg  \n",
            "  inflating: cropped aloa lectinea/insect (212).jpg  \n",
            "  inflating: cropped aloa lectinea/insect (213).jpg  \n",
            "  inflating: cropped aloa lectinea/insect (214).jpg  \n",
            "  inflating: cropped aloa lectinea/insect (215).jpg  \n",
            "  inflating: cropped aloa lectinea/insect (216).jpg  \n",
            "  inflating: cropped aloa lectinea/insect (217).jpg  \n",
            "  inflating: cropped aloa lectinea/insect (218).jpg  \n",
            "  inflating: cropped aloa lectinea/insect (219).jpg  \n",
            "  inflating: cropped aloa lectinea/insect (22).jpg  \n",
            "  inflating: cropped aloa lectinea/insect (220).jpg  \n",
            "  inflating: cropped aloa lectinea/insect (221).jpg  \n",
            "  inflating: cropped aloa lectinea/insect (222).jpg  \n",
            "  inflating: cropped aloa lectinea/insect (223).jpg  \n",
            "  inflating: cropped aloa lectinea/insect (224).jpg  \n",
            "  inflating: cropped aloa lectinea/insect (225).jpg  \n",
            "  inflating: cropped aloa lectinea/insect (226).jpg  \n",
            "  inflating: cropped aloa lectinea/insect (227).jpg  \n",
            "  inflating: cropped aloa lectinea/insect (228).jpg  \n",
            "  inflating: cropped aloa lectinea/insect (229).jpg  \n",
            "  inflating: cropped aloa lectinea/insect (23).jpg  \n",
            "  inflating: cropped aloa lectinea/insect (230).jpg  \n",
            "  inflating: cropped aloa lectinea/insect (231).jpg  \n",
            "  inflating: cropped aloa lectinea/insect (232).jpg  \n",
            "  inflating: cropped aloa lectinea/insect (233).jpg  \n",
            "  inflating: cropped aloa lectinea/insect (234).jpg  \n",
            "  inflating: cropped aloa lectinea/insect (235).jpg  \n",
            "  inflating: cropped aloa lectinea/insect (236).jpg  \n",
            "  inflating: cropped aloa lectinea/insect (237).jpg  \n",
            "  inflating: cropped aloa lectinea/insect (238).jpg  \n",
            "  inflating: cropped aloa lectinea/insect (239).jpg  \n",
            "  inflating: cropped aloa lectinea/insect (24).jpg  \n",
            "  inflating: cropped aloa lectinea/insect (240).jpg  \n",
            "  inflating: cropped aloa lectinea/insect (241).jpg  \n",
            "  inflating: cropped aloa lectinea/insect (242).jpg  \n",
            "  inflating: cropped aloa lectinea/insect (243).jpg  \n",
            "  inflating: cropped aloa lectinea/insect (244).jpg  \n",
            "  inflating: cropped aloa lectinea/insect (245).jpg  \n",
            "  inflating: cropped aloa lectinea/insect (246).jpg  \n",
            "  inflating: cropped aloa lectinea/insect (247).jpg  \n",
            "  inflating: cropped aloa lectinea/insect (248).jpg  \n",
            "  inflating: cropped aloa lectinea/insect (249).jpg  \n",
            "  inflating: cropped aloa lectinea/insect (25).jpg  \n",
            "  inflating: cropped aloa lectinea/insect (250).jpg  \n",
            "  inflating: cropped aloa lectinea/insect (251).jpg  \n",
            "  inflating: cropped aloa lectinea/insect (252).jpg  \n",
            "  inflating: cropped aloa lectinea/insect (253).jpg  \n",
            "  inflating: cropped aloa lectinea/insect (254).jpg  \n",
            "  inflating: cropped aloa lectinea/insect (255).jpg  \n",
            "  inflating: cropped aloa lectinea/insect (256).jpg  \n",
            "  inflating: cropped aloa lectinea/insect (257).jpg  \n",
            "  inflating: cropped aloa lectinea/insect (258).jpg  \n",
            "  inflating: cropped aloa lectinea/insect (259).jpg  \n",
            "  inflating: cropped aloa lectinea/insect (26).jpg  \n",
            "  inflating: cropped aloa lectinea/insect (260).jpg  \n",
            "  inflating: cropped aloa lectinea/insect (261).jpg  \n",
            "  inflating: cropped aloa lectinea/insect (262).jpg  \n",
            "  inflating: cropped aloa lectinea/insect (263).jpg  \n",
            "  inflating: cropped aloa lectinea/insect (264).jpg  \n",
            "  inflating: cropped aloa lectinea/insect (265).jpg  \n",
            "  inflating: cropped aloa lectinea/insect (266).jpg  \n",
            "  inflating: cropped aloa lectinea/insect (267).jpg  \n",
            "  inflating: cropped aloa lectinea/insect (268).jpg  \n",
            "  inflating: cropped aloa lectinea/insect (269).jpg  \n",
            "  inflating: cropped aloa lectinea/insect (27).jpg  \n",
            "  inflating: cropped aloa lectinea/insect (270).jpg  \n",
            "  inflating: cropped aloa lectinea/insect (271).jpg  \n",
            "  inflating: cropped aloa lectinea/insect (272).jpg  \n",
            "  inflating: cropped aloa lectinea/insect (273).jpg  \n",
            "  inflating: cropped aloa lectinea/insect (274).jpg  \n",
            "  inflating: cropped aloa lectinea/insect (275).jpg  \n",
            "  inflating: cropped aloa lectinea/insect (276).jpg  \n",
            "  inflating: cropped aloa lectinea/insect (277).jpg  \n",
            "  inflating: cropped aloa lectinea/insect (278).jpg  \n",
            "  inflating: cropped aloa lectinea/insect (279).jpg  \n",
            "  inflating: cropped aloa lectinea/insect (28).jpg  \n",
            "  inflating: cropped aloa lectinea/insect (280).jpg  \n",
            "  inflating: cropped aloa lectinea/insect (281).jpg  \n",
            "  inflating: cropped aloa lectinea/insect (282).jpg  \n",
            "  inflating: cropped aloa lectinea/insect (283).jpg  \n",
            "  inflating: cropped aloa lectinea/insect (284).jpg  \n",
            "  inflating: cropped aloa lectinea/insect (285).jpg  \n",
            "  inflating: cropped aloa lectinea/insect (286).jpg  \n",
            "  inflating: cropped aloa lectinea/insect (287).jpg  \n",
            "  inflating: cropped aloa lectinea/insect (288).jpg  \n",
            "  inflating: cropped aloa lectinea/insect (289).jpg  \n",
            "  inflating: cropped aloa lectinea/insect (29).jpg  \n",
            "  inflating: cropped aloa lectinea/insect (290).jpg  \n",
            "  inflating: cropped aloa lectinea/insect (291).jpg  \n",
            "  inflating: cropped aloa lectinea/insect (292).jpg  \n",
            "  inflating: cropped aloa lectinea/insect (293).jpg  \n",
            "  inflating: cropped aloa lectinea/insect (294).jpg  \n",
            "  inflating: cropped aloa lectinea/insect (295).jpg  \n",
            "  inflating: cropped aloa lectinea/insect (296).jpg  \n",
            "  inflating: cropped aloa lectinea/insect (297).jpg  \n",
            "  inflating: cropped aloa lectinea/insect (298).jpg  \n",
            "  inflating: cropped aloa lectinea/insect (299).jpg  \n",
            "  inflating: cropped aloa lectinea/insect (3).jpg  \n",
            "  inflating: cropped aloa lectinea/insect (30).jpg  \n",
            "  inflating: cropped aloa lectinea/insect (300).jpg  \n",
            "  inflating: cropped aloa lectinea/insect (301).jpg  \n",
            "  inflating: cropped aloa lectinea/insect (302).jpg  \n",
            "  inflating: cropped aloa lectinea/insect (303).jpg  \n",
            "  inflating: cropped aloa lectinea/insect (304).jpg  \n",
            "  inflating: cropped aloa lectinea/insect (305).jpg  \n",
            "  inflating: cropped aloa lectinea/insect (306).jpg  \n",
            "  inflating: cropped aloa lectinea/insect (307).jpg  \n",
            "  inflating: cropped aloa lectinea/insect (308).jpg  \n",
            "  inflating: cropped aloa lectinea/insect (309).jpg  \n",
            "  inflating: cropped aloa lectinea/insect (31).jpg  \n",
            "  inflating: cropped aloa lectinea/insect (310).jpg  \n",
            "  inflating: cropped aloa lectinea/insect (311).jpg  \n",
            "  inflating: cropped aloa lectinea/insect (312).jpg  \n",
            "  inflating: cropped aloa lectinea/insect (313).jpg  \n",
            "  inflating: cropped aloa lectinea/insect (314).jpg  \n",
            "  inflating: cropped aloa lectinea/insect (315).jpg  \n",
            "  inflating: cropped aloa lectinea/insect (316).jpg  \n",
            "  inflating: cropped aloa lectinea/insect (317).jpg  \n",
            "  inflating: cropped aloa lectinea/insect (318).jpg  \n",
            "  inflating: cropped aloa lectinea/insect (319).jpg  \n",
            "  inflating: cropped aloa lectinea/insect (32).jpg  \n",
            "  inflating: cropped aloa lectinea/insect (320).jpg  \n",
            "  inflating: cropped aloa lectinea/insect (321).jpg  \n",
            "  inflating: cropped aloa lectinea/insect (322).jpg  \n",
            "  inflating: cropped aloa lectinea/insect (323).jpg  \n",
            "  inflating: cropped aloa lectinea/insect (324).jpg  \n",
            "  inflating: cropped aloa lectinea/insect (325).jpg  \n",
            "  inflating: cropped aloa lectinea/insect (326).jpg  \n",
            "  inflating: cropped aloa lectinea/insect (327).jpg  \n",
            "  inflating: cropped aloa lectinea/insect (328).jpg  \n",
            "  inflating: cropped aloa lectinea/insect (329).jpg  \n",
            "  inflating: cropped aloa lectinea/insect (33).jpg  \n",
            "  inflating: cropped aloa lectinea/insect (330).jpg  \n",
            "  inflating: cropped aloa lectinea/insect (331).jpg  \n",
            "  inflating: cropped aloa lectinea/insect (332).jpg  \n",
            "  inflating: cropped aloa lectinea/insect (333).jpg  \n",
            "  inflating: cropped aloa lectinea/insect (334).jpg  \n",
            "  inflating: cropped aloa lectinea/insect (335).jpg  \n",
            "  inflating: cropped aloa lectinea/insect (336).jpg  \n",
            "  inflating: cropped aloa lectinea/insect (337).jpg  \n",
            "  inflating: cropped aloa lectinea/insect (338).jpg  \n",
            "  inflating: cropped aloa lectinea/insect (339).jpg  \n",
            "  inflating: cropped aloa lectinea/insect (34).jpg  \n",
            "  inflating: cropped aloa lectinea/insect (340).jpg  \n",
            "  inflating: cropped aloa lectinea/insect (341).jpg  \n",
            "  inflating: cropped aloa lectinea/insect (342).jpg  \n",
            "  inflating: cropped aloa lectinea/insect (343).jpg  \n",
            "  inflating: cropped aloa lectinea/insect (344).jpg  \n",
            "  inflating: cropped aloa lectinea/insect (345).jpg  \n",
            "  inflating: cropped aloa lectinea/insect (346).jpg  \n",
            "  inflating: cropped aloa lectinea/insect (347).jpg  \n",
            "  inflating: cropped aloa lectinea/insect (348).jpg  \n",
            "  inflating: cropped aloa lectinea/insect (349).jpg  \n",
            "  inflating: cropped aloa lectinea/insect (35).jpg  \n",
            "  inflating: cropped aloa lectinea/insect (350).jpg  \n",
            "  inflating: cropped aloa lectinea/insect (351).jpg  \n",
            "  inflating: cropped aloa lectinea/insect (352).jpg  \n",
            "  inflating: cropped aloa lectinea/insect (353).jpg  \n",
            "  inflating: cropped aloa lectinea/insect (354).jpg  \n",
            "  inflating: cropped aloa lectinea/insect (355).jpg  \n",
            "  inflating: cropped aloa lectinea/insect (356).jpg  \n",
            "  inflating: cropped aloa lectinea/insect (357).jpg  \n",
            "  inflating: cropped aloa lectinea/insect (358).jpg  \n",
            "  inflating: cropped aloa lectinea/insect (359).jpg  \n",
            "  inflating: cropped aloa lectinea/insect (36).jpg  \n",
            "  inflating: cropped aloa lectinea/insect (360).jpg  \n",
            "  inflating: cropped aloa lectinea/insect (361).jpg  \n",
            "  inflating: cropped aloa lectinea/insect (362).jpg  \n",
            "  inflating: cropped aloa lectinea/insect (363).jpg  \n",
            "  inflating: cropped aloa lectinea/insect (364).jpg  \n",
            "  inflating: cropped aloa lectinea/insect (365).jpg  \n",
            "  inflating: cropped aloa lectinea/insect (366).jpg  \n",
            "  inflating: cropped aloa lectinea/insect (367).jpg  \n",
            "  inflating: cropped aloa lectinea/insect (368).jpg  \n",
            "  inflating: cropped aloa lectinea/insect (369).jpg  \n",
            "  inflating: cropped aloa lectinea/insect (37).jpg  \n",
            "  inflating: cropped aloa lectinea/insect (370).jpg  \n",
            "  inflating: cropped aloa lectinea/insect (371).jpg  \n",
            "  inflating: cropped aloa lectinea/insect (372).jpg  \n",
            "  inflating: cropped aloa lectinea/insect (373).jpg  \n",
            "  inflating: cropped aloa lectinea/insect (374).jpg  \n",
            "  inflating: cropped aloa lectinea/insect (375).jpg  \n",
            "  inflating: cropped aloa lectinea/insect (376).jpg  \n",
            "  inflating: cropped aloa lectinea/insect (377).jpg  \n",
            "  inflating: cropped aloa lectinea/insect (378).jpg  \n",
            "  inflating: cropped aloa lectinea/insect (379).jpg  \n",
            "  inflating: cropped aloa lectinea/insect (38).jpg  \n",
            "  inflating: cropped aloa lectinea/insect (380).jpg  \n",
            "  inflating: cropped aloa lectinea/insect (381).jpg  \n",
            "  inflating: cropped aloa lectinea/insect (382).jpg  \n",
            "  inflating: cropped aloa lectinea/insect (383).jpg  \n",
            "  inflating: cropped aloa lectinea/insect (384).jpg  \n",
            "  inflating: cropped aloa lectinea/insect (385).jpg  \n",
            "  inflating: cropped aloa lectinea/insect (386).jpg  \n",
            "  inflating: cropped aloa lectinea/insect (387).jpg  \n",
            "  inflating: cropped aloa lectinea/insect (388).jpg  \n",
            "  inflating: cropped aloa lectinea/insect (389).jpg  \n",
            "  inflating: cropped aloa lectinea/insect (39).jpg  \n",
            "  inflating: cropped aloa lectinea/insect (390).jpg  \n",
            "  inflating: cropped aloa lectinea/insect (391).jpg  \n",
            "  inflating: cropped aloa lectinea/insect (392).jpg  \n",
            "  inflating: cropped aloa lectinea/insect (393).jpg  \n",
            "  inflating: cropped aloa lectinea/insect (394).jpg  \n",
            "  inflating: cropped aloa lectinea/insect (395).jpg  \n",
            "  inflating: cropped aloa lectinea/insect (396).jpg  \n",
            "  inflating: cropped aloa lectinea/insect (397).jpg  \n",
            "  inflating: cropped aloa lectinea/insect (398).jpg  \n",
            "  inflating: cropped aloa lectinea/insect (399).jpg  \n",
            "  inflating: cropped aloa lectinea/insect (4).jpg  \n",
            "  inflating: cropped aloa lectinea/insect (40).jpg  \n",
            "  inflating: cropped aloa lectinea/insect (400).jpg  \n",
            "  inflating: cropped aloa lectinea/insect (401).jpg  \n",
            "  inflating: cropped aloa lectinea/insect (402).jpg  \n",
            "  inflating: cropped aloa lectinea/insect (403).jpg  \n",
            "  inflating: cropped aloa lectinea/insect (404).jpg  \n",
            "  inflating: cropped aloa lectinea/insect (405).jpg  \n",
            "  inflating: cropped aloa lectinea/insect (406).jpg  \n",
            "  inflating: cropped aloa lectinea/insect (407).jpg  \n",
            "  inflating: cropped aloa lectinea/insect (408).jpg  \n",
            "  inflating: cropped aloa lectinea/insect (409).jpg  \n",
            "  inflating: cropped aloa lectinea/insect (41).jpg  \n",
            "  inflating: cropped aloa lectinea/insect (410).jpg  \n",
            "  inflating: cropped aloa lectinea/insect (411).jpg  \n",
            "  inflating: cropped aloa lectinea/insect (412).jpg  \n",
            "  inflating: cropped aloa lectinea/insect (413).jpg  \n",
            "  inflating: cropped aloa lectinea/insect (414).jpg  \n",
            "  inflating: cropped aloa lectinea/insect (415).jpg  \n",
            "  inflating: cropped aloa lectinea/insect (416).jpg  \n",
            "  inflating: cropped aloa lectinea/insect (417).jpg  \n",
            "  inflating: cropped aloa lectinea/insect (418).jpg  \n",
            "  inflating: cropped aloa lectinea/insect (419).jpg  \n",
            "  inflating: cropped aloa lectinea/insect (42).jpg  \n",
            "  inflating: cropped aloa lectinea/insect (420).jpg  \n",
            "  inflating: cropped aloa lectinea/insect (421).jpg  \n",
            "  inflating: cropped aloa lectinea/insect (422).jpg  \n",
            "  inflating: cropped aloa lectinea/insect (423).jpg  \n",
            "  inflating: cropped aloa lectinea/insect (424).jpg  \n",
            "  inflating: cropped aloa lectinea/insect (425).jpg  \n",
            "  inflating: cropped aloa lectinea/insect (426).jpg  \n",
            "  inflating: cropped aloa lectinea/insect (427).jpg  \n",
            "  inflating: cropped aloa lectinea/insect (428).jpg  \n",
            "  inflating: cropped aloa lectinea/insect (429).jpg  \n",
            "  inflating: cropped aloa lectinea/insect (43).jpg  \n",
            "  inflating: cropped aloa lectinea/insect (430).jpg  \n",
            "  inflating: cropped aloa lectinea/insect (431).jpg  \n",
            "  inflating: cropped aloa lectinea/insect (432).jpg  \n",
            "  inflating: cropped aloa lectinea/insect (433).jpg  \n",
            "  inflating: cropped aloa lectinea/insect (434).jpg  \n",
            "  inflating: cropped aloa lectinea/insect (435).jpg  \n",
            "  inflating: cropped aloa lectinea/insect (436).jpg  \n",
            "  inflating: cropped aloa lectinea/insect (437).jpg  \n",
            "  inflating: cropped aloa lectinea/insect (438).jpg  \n",
            "  inflating: cropped aloa lectinea/insect (439).jpg  \n",
            "  inflating: cropped aloa lectinea/insect (44).jpg  \n",
            "  inflating: cropped aloa lectinea/insect (440).jpg  \n",
            "  inflating: cropped aloa lectinea/insect (441).jpg  \n",
            "  inflating: cropped aloa lectinea/insect (442).jpg  \n",
            "  inflating: cropped aloa lectinea/insect (443).jpg  \n",
            "  inflating: cropped aloa lectinea/insect (444).jpg  \n",
            "  inflating: cropped aloa lectinea/insect (445).jpg  \n",
            "  inflating: cropped aloa lectinea/insect (446).jpg  \n",
            "  inflating: cropped aloa lectinea/insect (447).jpg  \n",
            "  inflating: cropped aloa lectinea/insect (448).jpg  \n",
            "  inflating: cropped aloa lectinea/insect (449).jpg  \n",
            "  inflating: cropped aloa lectinea/insect (45).jpg  \n",
            "  inflating: cropped aloa lectinea/insect (450).jpg  \n",
            "  inflating: cropped aloa lectinea/insect (451).jpg  \n",
            "  inflating: cropped aloa lectinea/insect (452).jpg  \n",
            "  inflating: cropped aloa lectinea/insect (453).jpg  \n",
            "  inflating: cropped aloa lectinea/insect (454).jpg  \n",
            "  inflating: cropped aloa lectinea/insect (455).jpg  \n",
            "  inflating: cropped aloa lectinea/insect (456).jpg  \n",
            "  inflating: cropped aloa lectinea/insect (457).jpg  \n",
            "  inflating: cropped aloa lectinea/insect (458).jpg  \n",
            "  inflating: cropped aloa lectinea/insect (459).jpg  \n",
            "  inflating: cropped aloa lectinea/insect (46).jpg  \n",
            "  inflating: cropped aloa lectinea/insect (460).jpg  \n",
            "  inflating: cropped aloa lectinea/insect (461).jpg  \n",
            "  inflating: cropped aloa lectinea/insect (462).jpg  \n",
            "  inflating: cropped aloa lectinea/insect (463).jpg  \n",
            "  inflating: cropped aloa lectinea/insect (464).jpg  \n",
            "  inflating: cropped aloa lectinea/insect (465).jpg  \n",
            "  inflating: cropped aloa lectinea/insect (466).jpg  \n",
            "  inflating: cropped aloa lectinea/insect (467).jpg  \n",
            "  inflating: cropped aloa lectinea/insect (468).jpg  \n",
            "  inflating: cropped aloa lectinea/insect (469).jpg  \n",
            "  inflating: cropped aloa lectinea/insect (47).jpg  \n",
            "  inflating: cropped aloa lectinea/insect (470).jpg  \n",
            "  inflating: cropped aloa lectinea/insect (471).jpg  \n",
            "  inflating: cropped aloa lectinea/insect (472).jpg  \n",
            "  inflating: cropped aloa lectinea/insect (473).jpg  \n",
            "  inflating: cropped aloa lectinea/insect (474).jpg  \n",
            "  inflating: cropped aloa lectinea/insect (475).jpg  \n",
            "  inflating: cropped aloa lectinea/insect (476).jpg  \n",
            "  inflating: cropped aloa lectinea/insect (477).jpg  \n",
            "  inflating: cropped aloa lectinea/insect (478).jpg  \n",
            "  inflating: cropped aloa lectinea/insect (479).jpg  \n",
            "  inflating: cropped aloa lectinea/insect (48).jpg  \n",
            "  inflating: cropped aloa lectinea/insect (480).jpg  \n",
            "  inflating: cropped aloa lectinea/insect (481).jpg  \n",
            "  inflating: cropped aloa lectinea/insect (482).jpg  \n",
            "  inflating: cropped aloa lectinea/insect (483).jpg  \n",
            "  inflating: cropped aloa lectinea/insect (484).jpg  \n",
            "  inflating: cropped aloa lectinea/insect (485).jpg  \n",
            "  inflating: cropped aloa lectinea/insect (486).jpg  \n",
            "  inflating: cropped aloa lectinea/insect (487).jpg  \n",
            "  inflating: cropped aloa lectinea/insect (488).jpg  \n",
            "  inflating: cropped aloa lectinea/insect (489).jpg  \n",
            "  inflating: cropped aloa lectinea/insect (49).jpg  \n",
            "  inflating: cropped aloa lectinea/insect (490).jpg  \n",
            "  inflating: cropped aloa lectinea/insect (491).jpg  \n",
            "  inflating: cropped aloa lectinea/insect (492).jpg  \n",
            "  inflating: cropped aloa lectinea/insect (493).jpg  \n",
            "  inflating: cropped aloa lectinea/insect (494).jpg  \n",
            "  inflating: cropped aloa lectinea/insect (495).jpg  \n",
            "  inflating: cropped aloa lectinea/insect (496).jpg  \n",
            "  inflating: cropped aloa lectinea/insect (497).jpg  \n",
            "  inflating: cropped aloa lectinea/insect (498).jpg  \n",
            "  inflating: cropped aloa lectinea/insect (499).jpg  \n",
            "  inflating: cropped aloa lectinea/insect (5).jpg  \n",
            "  inflating: cropped aloa lectinea/insect (50).jpg  \n",
            "  inflating: cropped aloa lectinea/insect (500).jpg  \n",
            "  inflating: cropped aloa lectinea/insect (501).jpg  \n",
            "  inflating: cropped aloa lectinea/insect (502).jpg  \n",
            "  inflating: cropped aloa lectinea/insect (503).jpg  \n",
            "  inflating: cropped aloa lectinea/insect (504).jpg  \n",
            "  inflating: cropped aloa lectinea/insect (505).jpg  \n",
            "  inflating: cropped aloa lectinea/insect (506).jpg  \n",
            "  inflating: cropped aloa lectinea/insect (507).jpg  \n",
            "  inflating: cropped aloa lectinea/insect (508).jpg  \n",
            "  inflating: cropped aloa lectinea/insect (509).jpg  \n",
            "  inflating: cropped aloa lectinea/insect (51).jpg  \n",
            "  inflating: cropped aloa lectinea/insect (510).jpg  \n",
            "  inflating: cropped aloa lectinea/insect (511).jpg  \n",
            "  inflating: cropped aloa lectinea/insect (512).jpg  \n",
            "  inflating: cropped aloa lectinea/insect (513).jpg  \n",
            "  inflating: cropped aloa lectinea/insect (514).jpg  \n",
            "  inflating: cropped aloa lectinea/insect (515).jpg  \n",
            "  inflating: cropped aloa lectinea/insect (516).jpg  \n",
            "  inflating: cropped aloa lectinea/insect (517).jpg  \n",
            "  inflating: cropped aloa lectinea/insect (518).jpg  \n",
            "  inflating: cropped aloa lectinea/insect (519).jpg  \n",
            "  inflating: cropped aloa lectinea/insect (52).jpg  \n",
            "  inflating: cropped aloa lectinea/insect (520).jpg  \n",
            "  inflating: cropped aloa lectinea/insect (521).jpg  \n",
            "  inflating: cropped aloa lectinea/insect (522).jpg  \n",
            "  inflating: cropped aloa lectinea/insect (523).jpg  \n",
            "  inflating: cropped aloa lectinea/insect (524).jpg  \n",
            "  inflating: cropped aloa lectinea/insect (525).jpg  \n",
            "  inflating: cropped aloa lectinea/insect (526).jpg  \n",
            "  inflating: cropped aloa lectinea/insect (527).jpg  \n",
            "  inflating: cropped aloa lectinea/insect (528).jpg  \n",
            "  inflating: cropped aloa lectinea/insect (529).jpg  \n",
            "  inflating: cropped aloa lectinea/insect (53).jpg  \n",
            "  inflating: cropped aloa lectinea/insect (530).jpg  \n",
            "  inflating: cropped aloa lectinea/insect (531).jpg  \n",
            "  inflating: cropped aloa lectinea/insect (532).jpg  \n",
            "  inflating: cropped aloa lectinea/insect (533).jpg  \n",
            "  inflating: cropped aloa lectinea/insect (534).jpg  \n",
            "  inflating: cropped aloa lectinea/insect (535).jpg  \n",
            "  inflating: cropped aloa lectinea/insect (536).jpg  \n",
            "  inflating: cropped aloa lectinea/insect (537).jpg  \n",
            "  inflating: cropped aloa lectinea/insect (538).jpg  \n",
            "  inflating: cropped aloa lectinea/insect (539).jpg  \n",
            "  inflating: cropped aloa lectinea/insect (54).jpg  \n",
            "  inflating: cropped aloa lectinea/insect (540).jpg  \n",
            "  inflating: cropped aloa lectinea/insect (541).jpg  \n",
            "  inflating: cropped aloa lectinea/insect (542).jpg  \n",
            "  inflating: cropped aloa lectinea/insect (543).jpg  \n",
            "  inflating: cropped aloa lectinea/insect (544).jpg  \n",
            "  inflating: cropped aloa lectinea/insect (545).jpg  \n",
            "  inflating: cropped aloa lectinea/insect (546).jpg  \n",
            "  inflating: cropped aloa lectinea/insect (547).jpg  \n",
            "  inflating: cropped aloa lectinea/insect (548).jpg  \n",
            "  inflating: cropped aloa lectinea/insect (549).jpg  \n",
            "  inflating: cropped aloa lectinea/insect (55).jpg  \n",
            "  inflating: cropped aloa lectinea/insect (550).jpg  \n",
            "  inflating: cropped aloa lectinea/insect (551).jpg  \n",
            "  inflating: cropped aloa lectinea/insect (552).jpg  \n",
            "  inflating: cropped aloa lectinea/insect (553).jpg  \n",
            "  inflating: cropped aloa lectinea/insect (554).jpg  \n",
            "  inflating: cropped aloa lectinea/insect (555).jpg  \n",
            "  inflating: cropped aloa lectinea/insect (556).jpg  \n",
            "  inflating: cropped aloa lectinea/insect (557).jpg  \n",
            "  inflating: cropped aloa lectinea/insect (558).jpg  \n",
            "  inflating: cropped aloa lectinea/insect (559).jpg  \n",
            "  inflating: cropped aloa lectinea/insect (56).jpg  \n",
            "  inflating: cropped aloa lectinea/insect (560).jpg  \n",
            "  inflating: cropped aloa lectinea/insect (561).jpg  \n",
            "  inflating: cropped aloa lectinea/insect (562).jpg  \n",
            "  inflating: cropped aloa lectinea/insect (563).jpg  \n",
            "  inflating: cropped aloa lectinea/insect (564).jpg  \n",
            "  inflating: cropped aloa lectinea/insect (565).jpg  \n",
            "  inflating: cropped aloa lectinea/insect (566).jpg  \n",
            "  inflating: cropped aloa lectinea/insect (567).jpg  \n",
            "  inflating: cropped aloa lectinea/insect (568).jpg  \n",
            "  inflating: cropped aloa lectinea/insect (569).jpg  \n",
            "  inflating: cropped aloa lectinea/insect (57).jpg  \n",
            "  inflating: cropped aloa lectinea/insect (570).jpg  \n",
            "  inflating: cropped aloa lectinea/insect (571).jpg  \n",
            "  inflating: cropped aloa lectinea/insect (572).jpg  \n",
            "  inflating: cropped aloa lectinea/insect (573).jpg  \n",
            "  inflating: cropped aloa lectinea/insect (574).jpg  \n",
            "  inflating: cropped aloa lectinea/insect (575).jpg  \n",
            "  inflating: cropped aloa lectinea/insect (576).jpg  \n",
            "  inflating: cropped aloa lectinea/insect (577).jpg  \n",
            "  inflating: cropped aloa lectinea/insect (578).jpg  \n",
            "  inflating: cropped aloa lectinea/insect (579).jpg  \n",
            "  inflating: cropped aloa lectinea/insect (58).jpg  \n",
            "  inflating: cropped aloa lectinea/insect (580).jpg  \n",
            "  inflating: cropped aloa lectinea/insect (581).jpg  \n",
            "  inflating: cropped aloa lectinea/insect (582).jpg  \n",
            "  inflating: cropped aloa lectinea/insect (583).jpg  \n",
            "  inflating: cropped aloa lectinea/insect (584).jpg  \n",
            "  inflating: cropped aloa lectinea/insect (585).jpg  \n",
            "  inflating: cropped aloa lectinea/insect (586).jpg  \n",
            "  inflating: cropped aloa lectinea/insect (587).jpg  \n",
            "  inflating: cropped aloa lectinea/insect (588).jpg  \n",
            "  inflating: cropped aloa lectinea/insect (589).jpg  \n",
            "  inflating: cropped aloa lectinea/insect (59).jpg  \n",
            "  inflating: cropped aloa lectinea/insect (590).jpg  \n",
            "  inflating: cropped aloa lectinea/insect (591).jpg  \n",
            "  inflating: cropped aloa lectinea/insect (592).jpg  \n",
            "  inflating: cropped aloa lectinea/insect (593).jpg  \n",
            "  inflating: cropped aloa lectinea/insect (594).jpg  \n",
            "  inflating: cropped aloa lectinea/insect (595).jpg  \n",
            "  inflating: cropped aloa lectinea/insect (596).jpg  \n",
            "  inflating: cropped aloa lectinea/insect (597).jpg  \n",
            "  inflating: cropped aloa lectinea/insect (598).jpg  \n",
            "  inflating: cropped aloa lectinea/insect (599).jpg  \n",
            "  inflating: cropped aloa lectinea/insect (6).jpg  \n",
            "  inflating: cropped aloa lectinea/insect (60).jpg  \n",
            "  inflating: cropped aloa lectinea/insect (600).jpg  \n",
            "  inflating: cropped aloa lectinea/insect (601).jpg  \n",
            "  inflating: cropped aloa lectinea/insect (602).jpg  \n",
            "  inflating: cropped aloa lectinea/insect (603).jpg  \n",
            "  inflating: cropped aloa lectinea/insect (604).jpg  \n",
            "  inflating: cropped aloa lectinea/insect (605).jpg  \n",
            "  inflating: cropped aloa lectinea/insect (606).jpg  \n",
            "  inflating: cropped aloa lectinea/insect (607).jpg  \n",
            "  inflating: cropped aloa lectinea/insect (608).jpg  \n",
            "  inflating: cropped aloa lectinea/insect (609).jpg  \n",
            "  inflating: cropped aloa lectinea/insect (61).jpg  \n",
            "  inflating: cropped aloa lectinea/insect (610).jpg  \n",
            "  inflating: cropped aloa lectinea/insect (611).jpg  \n",
            "  inflating: cropped aloa lectinea/insect (612).jpg  \n",
            "  inflating: cropped aloa lectinea/insect (613).jpg  \n",
            "  inflating: cropped aloa lectinea/insect (614).jpg  \n",
            "  inflating: cropped aloa lectinea/insect (615).jpg  \n",
            "  inflating: cropped aloa lectinea/insect (616).jpg  \n",
            "  inflating: cropped aloa lectinea/insect (617).jpg  \n",
            "  inflating: cropped aloa lectinea/insect (618).jpg  \n",
            "  inflating: cropped aloa lectinea/insect (619).jpg  \n",
            "  inflating: cropped aloa lectinea/insect (62).jpg  \n",
            "  inflating: cropped aloa lectinea/insect (620).jpg  \n",
            "  inflating: cropped aloa lectinea/insect (621).jpg  \n",
            "  inflating: cropped aloa lectinea/insect (622).jpg  \n",
            "  inflating: cropped aloa lectinea/insect (623).jpg  \n",
            "  inflating: cropped aloa lectinea/insect (624).jpg  \n",
            "  inflating: cropped aloa lectinea/insect (625).jpg  \n",
            "  inflating: cropped aloa lectinea/insect (626).jpg  \n",
            "  inflating: cropped aloa lectinea/insect (627).jpg  \n",
            "  inflating: cropped aloa lectinea/insect (628).jpg  \n",
            "  inflating: cropped aloa lectinea/insect (629).jpg  \n",
            "  inflating: cropped aloa lectinea/insect (63).jpg  \n",
            "  inflating: cropped aloa lectinea/insect (630).jpg  \n",
            "  inflating: cropped aloa lectinea/insect (631).jpg  \n",
            "  inflating: cropped aloa lectinea/insect (632).jpg  \n",
            "  inflating: cropped aloa lectinea/insect (633).jpg  \n",
            "  inflating: cropped aloa lectinea/insect (634).jpg  \n",
            "  inflating: cropped aloa lectinea/insect (635).jpg  \n",
            "  inflating: cropped aloa lectinea/insect (636).jpg  \n",
            "  inflating: cropped aloa lectinea/insect (637).jpg  \n",
            "  inflating: cropped aloa lectinea/insect (638).jpg  \n",
            "  inflating: cropped aloa lectinea/insect (639).jpg  \n",
            "  inflating: cropped aloa lectinea/insect (64).jpg  \n",
            "  inflating: cropped aloa lectinea/insect (640).jpg  \n",
            "  inflating: cropped aloa lectinea/insect (641).jpg  \n",
            "  inflating: cropped aloa lectinea/insect (642).jpg  \n",
            "  inflating: cropped aloa lectinea/insect (643).jpg  \n",
            "  inflating: cropped aloa lectinea/insect (644).jpg  \n",
            "  inflating: cropped aloa lectinea/insect (645).jpg  \n",
            "  inflating: cropped aloa lectinea/insect (646).jpg  \n",
            "  inflating: cropped aloa lectinea/insect (647).jpg  \n",
            "  inflating: cropped aloa lectinea/insect (648).jpg  \n",
            "  inflating: cropped aloa lectinea/insect (649).jpg  \n",
            "  inflating: cropped aloa lectinea/insect (65).jpg  \n",
            "  inflating: cropped aloa lectinea/insect (650).jpg  \n",
            "  inflating: cropped aloa lectinea/insect (651).jpg  \n",
            "  inflating: cropped aloa lectinea/insect (652).jpg  \n",
            "  inflating: cropped aloa lectinea/insect (653).jpg  \n",
            "  inflating: cropped aloa lectinea/insect (654).jpg  \n",
            "  inflating: cropped aloa lectinea/insect (655).jpg  \n",
            "  inflating: cropped aloa lectinea/insect (656).jpg  \n",
            "  inflating: cropped aloa lectinea/insect (657).jpg  \n",
            "  inflating: cropped aloa lectinea/insect (658).jpg  \n",
            "  inflating: cropped aloa lectinea/insect (659).jpg  \n",
            "  inflating: cropped aloa lectinea/insect (66).jpg  \n",
            "  inflating: cropped aloa lectinea/insect (660).jpg  \n",
            "  inflating: cropped aloa lectinea/insect (661).jpg  \n",
            "  inflating: cropped aloa lectinea/insect (662).jpg  \n",
            "  inflating: cropped aloa lectinea/insect (663).jpg  \n",
            "  inflating: cropped aloa lectinea/insect (664).jpg  \n",
            "  inflating: cropped aloa lectinea/insect (665).jpg  \n",
            "  inflating: cropped aloa lectinea/insect (666).jpg  \n",
            "  inflating: cropped aloa lectinea/insect (667).jpg  \n",
            "  inflating: cropped aloa lectinea/insect (668).jpg  \n",
            "  inflating: cropped aloa lectinea/insect (669).jpg  \n",
            "  inflating: cropped aloa lectinea/insect (67).jpg  \n",
            "  inflating: cropped aloa lectinea/insect (670).jpg  \n",
            "  inflating: cropped aloa lectinea/insect (671).jpg  \n",
            "  inflating: cropped aloa lectinea/insect (672).jpg  \n",
            "  inflating: cropped aloa lectinea/insect (673).jpg  \n",
            "  inflating: cropped aloa lectinea/insect (674).jpg  \n",
            "  inflating: cropped aloa lectinea/insect (675).jpg  \n",
            "  inflating: cropped aloa lectinea/insect (676).jpg  \n",
            "  inflating: cropped aloa lectinea/insect (677).jpg  \n",
            "  inflating: cropped aloa lectinea/insect (678).jpg  \n",
            "  inflating: cropped aloa lectinea/insect (679).jpg  \n",
            "  inflating: cropped aloa lectinea/insect (68).jpg  \n",
            "  inflating: cropped aloa lectinea/insect (680).jpg  \n",
            "  inflating: cropped aloa lectinea/insect (681).jpg  \n",
            "  inflating: cropped aloa lectinea/insect (682).jpg  \n",
            "  inflating: cropped aloa lectinea/insect (683).jpg  \n",
            "  inflating: cropped aloa lectinea/insect (684).jpg  \n",
            "  inflating: cropped aloa lectinea/insect (685).jpg  \n",
            "  inflating: cropped aloa lectinea/insect (686).jpg  \n",
            "  inflating: cropped aloa lectinea/insect (687).jpg  \n",
            "  inflating: cropped aloa lectinea/insect (688).jpg  \n",
            "  inflating: cropped aloa lectinea/insect (689).jpg  \n",
            "  inflating: cropped aloa lectinea/insect (69).jpg  \n",
            "  inflating: cropped aloa lectinea/insect (690).jpg  \n",
            "  inflating: cropped aloa lectinea/insect (691).jpg  \n",
            "  inflating: cropped aloa lectinea/insect (692).jpg  \n",
            "  inflating: cropped aloa lectinea/insect (693).jpg  \n",
            "  inflating: cropped aloa lectinea/insect (694).jpg  \n",
            "  inflating: cropped aloa lectinea/insect (695).jpg  \n",
            "  inflating: cropped aloa lectinea/insect (696).jpg  \n",
            "  inflating: cropped aloa lectinea/insect (697).jpg  \n",
            "  inflating: cropped aloa lectinea/insect (698).jpg  \n",
            "  inflating: cropped aloa lectinea/insect (699).jpg  \n",
            "  inflating: cropped aloa lectinea/insect (7).jpg  \n",
            "  inflating: cropped aloa lectinea/insect (70).jpg  \n",
            "  inflating: cropped aloa lectinea/insect (700).jpg  \n",
            "  inflating: cropped aloa lectinea/insect (701).jpg  \n",
            "  inflating: cropped aloa lectinea/insect (702).jpg  \n",
            "  inflating: cropped aloa lectinea/insect (703).jpg  \n",
            "  inflating: cropped aloa lectinea/insect (704).jpg  \n",
            "  inflating: cropped aloa lectinea/insect (705).jpg  \n",
            "  inflating: cropped aloa lectinea/insect (706).jpg  \n",
            "  inflating: cropped aloa lectinea/insect (707).jpg  \n",
            "  inflating: cropped aloa lectinea/insect (708).jpg  \n",
            "  inflating: cropped aloa lectinea/insect (709).jpg  \n",
            "  inflating: cropped aloa lectinea/insect (71).jpg  \n",
            "  inflating: cropped aloa lectinea/insect (710).jpg  \n",
            "  inflating: cropped aloa lectinea/insect (711).jpg  \n",
            "  inflating: cropped aloa lectinea/insect (712).jpg  \n",
            "  inflating: cropped aloa lectinea/insect (713).jpg  \n",
            "  inflating: cropped aloa lectinea/insect (714).jpg  \n",
            "  inflating: cropped aloa lectinea/insect (715).jpg  \n",
            "  inflating: cropped aloa lectinea/insect (716).jpg  \n",
            "  inflating: cropped aloa lectinea/insect (717).jpg  \n",
            "  inflating: cropped aloa lectinea/insect (718).jpg  \n",
            "  inflating: cropped aloa lectinea/insect (719).jpg  \n",
            "  inflating: cropped aloa lectinea/insect (72).jpg  \n",
            "  inflating: cropped aloa lectinea/insect (720).jpg  \n",
            "  inflating: cropped aloa lectinea/insect (721).jpg  \n",
            "  inflating: cropped aloa lectinea/insect (722).jpg  \n",
            "  inflating: cropped aloa lectinea/insect (723).jpg  \n",
            "  inflating: cropped aloa lectinea/insect (724).jpg  \n",
            "  inflating: cropped aloa lectinea/insect (725).jpg  \n",
            "  inflating: cropped aloa lectinea/insect (726).jpg  \n",
            "  inflating: cropped aloa lectinea/insect (727).jpg  \n",
            "  inflating: cropped aloa lectinea/insect (728).jpg  \n",
            "  inflating: cropped aloa lectinea/insect (729).jpg  \n",
            "  inflating: cropped aloa lectinea/insect (73).jpg  \n",
            "  inflating: cropped aloa lectinea/insect (730).jpg  \n",
            "  inflating: cropped aloa lectinea/insect (731).jpg  \n",
            "  inflating: cropped aloa lectinea/insect (732).jpg  \n",
            "  inflating: cropped aloa lectinea/insect (733).jpg  \n",
            "  inflating: cropped aloa lectinea/insect (734).jpg  \n",
            "  inflating: cropped aloa lectinea/insect (735).jpg  \n",
            "  inflating: cropped aloa lectinea/insect (736).jpg  \n",
            "  inflating: cropped aloa lectinea/insect (737).jpg  \n",
            "  inflating: cropped aloa lectinea/insect (738).jpg  \n",
            "  inflating: cropped aloa lectinea/insect (739).jpg  \n",
            "  inflating: cropped aloa lectinea/insect (74).jpg  \n",
            "  inflating: cropped aloa lectinea/insect (740).jpg  \n",
            "  inflating: cropped aloa lectinea/insect (741).jpg  \n",
            "  inflating: cropped aloa lectinea/insect (742).jpg  \n",
            "  inflating: cropped aloa lectinea/insect (743).jpg  \n",
            "  inflating: cropped aloa lectinea/insect (744).jpg  \n",
            "  inflating: cropped aloa lectinea/insect (745).jpg  \n",
            "  inflating: cropped aloa lectinea/insect (746).jpg  \n",
            "  inflating: cropped aloa lectinea/insect (747).jpg  \n",
            "  inflating: cropped aloa lectinea/insect (748).jpg  \n",
            "  inflating: cropped aloa lectinea/insect (749).jpg  \n",
            "  inflating: cropped aloa lectinea/insect (75).jpg  \n",
            "  inflating: cropped aloa lectinea/insect (750).jpg  \n",
            "  inflating: cropped aloa lectinea/insect (751).jpg  \n",
            "  inflating: cropped aloa lectinea/insect (752).jpg  \n",
            "  inflating: cropped aloa lectinea/insect (753).jpg  \n",
            "  inflating: cropped aloa lectinea/insect (754).jpg  \n",
            "  inflating: cropped aloa lectinea/insect (755).jpg  \n",
            "  inflating: cropped aloa lectinea/insect (756).jpg  \n",
            "  inflating: cropped aloa lectinea/insect (757).jpg  \n",
            "  inflating: cropped aloa lectinea/insect (758).jpg  \n",
            "  inflating: cropped aloa lectinea/insect (759).jpg  \n",
            "  inflating: cropped aloa lectinea/insect (76).jpg  \n",
            "  inflating: cropped aloa lectinea/insect (760).jpg  \n",
            "  inflating: cropped aloa lectinea/insect (761).jpg  \n",
            "  inflating: cropped aloa lectinea/insect (762).jpg  \n",
            "  inflating: cropped aloa lectinea/insect (763).jpg  \n",
            "  inflating: cropped aloa lectinea/insect (764).jpg  \n",
            "  inflating: cropped aloa lectinea/insect (765).jpg  \n",
            "  inflating: cropped aloa lectinea/insect (766).jpg  \n",
            "  inflating: cropped aloa lectinea/insect (767).jpg  \n",
            "  inflating: cropped aloa lectinea/insect (768).jpg  \n",
            "  inflating: cropped aloa lectinea/insect (769).jpg  \n",
            "  inflating: cropped aloa lectinea/insect (77).jpg  \n",
            "  inflating: cropped aloa lectinea/insect (770).jpg  \n",
            "  inflating: cropped aloa lectinea/insect (771).jpg  \n",
            "  inflating: cropped aloa lectinea/insect (772).jpg  \n",
            "  inflating: cropped aloa lectinea/insect (773).jpg  \n",
            "  inflating: cropped aloa lectinea/insect (774).jpg  \n",
            "  inflating: cropped aloa lectinea/insect (775).jpg  \n",
            "  inflating: cropped aloa lectinea/insect (776).jpg  \n",
            "  inflating: cropped aloa lectinea/insect (777).jpg  \n",
            "  inflating: cropped aloa lectinea/insect (778).jpg  \n",
            "  inflating: cropped aloa lectinea/insect (779).jpg  \n",
            "  inflating: cropped aloa lectinea/insect (78).jpg  \n",
            "  inflating: cropped aloa lectinea/insect (780).jpg  \n",
            "  inflating: cropped aloa lectinea/insect (781).jpg  \n",
            "  inflating: cropped aloa lectinea/insect (782).jpg  \n",
            "  inflating: cropped aloa lectinea/insect (783).jpg  \n",
            "  inflating: cropped aloa lectinea/insect (784).jpg  \n",
            "  inflating: cropped aloa lectinea/insect (785).jpg  \n",
            "  inflating: cropped aloa lectinea/insect (786).jpg  \n",
            "  inflating: cropped aloa lectinea/insect (787).jpg  \n",
            "  inflating: cropped aloa lectinea/insect (788).jpg  \n",
            "  inflating: cropped aloa lectinea/insect (789).jpg  \n",
            "  inflating: cropped aloa lectinea/insect (79).jpg  \n",
            "  inflating: cropped aloa lectinea/insect (790).jpg  \n",
            "  inflating: cropped aloa lectinea/insect (791).jpg  \n",
            "  inflating: cropped aloa lectinea/insect (792).jpg  \n",
            "  inflating: cropped aloa lectinea/insect (793).jpg  \n",
            "  inflating: cropped aloa lectinea/insect (794).jpg  \n",
            "  inflating: cropped aloa lectinea/insect (795).jpg  \n",
            "  inflating: cropped aloa lectinea/insect (796).jpg  \n",
            "  inflating: cropped aloa lectinea/insect (797).jpg  \n",
            "  inflating: cropped aloa lectinea/insect (798).jpg  \n",
            "  inflating: cropped aloa lectinea/insect (799).jpg  \n",
            "  inflating: cropped aloa lectinea/insect (8).jpg  \n",
            "  inflating: cropped aloa lectinea/insect (80).jpg  \n",
            "  inflating: cropped aloa lectinea/insect (800).jpg  \n",
            "  inflating: cropped aloa lectinea/insect (801).jpg  \n",
            "  inflating: cropped aloa lectinea/insect (802).jpg  \n",
            "  inflating: cropped aloa lectinea/insect (803).jpg  \n",
            "  inflating: cropped aloa lectinea/insect (804).jpg  \n",
            "  inflating: cropped aloa lectinea/insect (805).jpg  \n",
            "  inflating: cropped aloa lectinea/insect (806).jpg  \n",
            "  inflating: cropped aloa lectinea/insect (807).jpg  \n",
            "  inflating: cropped aloa lectinea/insect (808).jpg  \n",
            "  inflating: cropped aloa lectinea/insect (809).jpg  \n",
            "  inflating: cropped aloa lectinea/insect (81).jpg  \n",
            "  inflating: cropped aloa lectinea/insect (810).jpg  \n",
            "  inflating: cropped aloa lectinea/insect (811).jpg  \n",
            "  inflating: cropped aloa lectinea/insect (812).jpg  \n",
            "  inflating: cropped aloa lectinea/insect (813).jpg  \n",
            "  inflating: cropped aloa lectinea/insect (814).jpg  \n",
            "  inflating: cropped aloa lectinea/insect (815).jpg  \n",
            "  inflating: cropped aloa lectinea/insect (816).jpg  \n",
            "  inflating: cropped aloa lectinea/insect (817).jpg  \n",
            "  inflating: cropped aloa lectinea/insect (818).jpg  \n",
            "  inflating: cropped aloa lectinea/insect (819).jpg  \n",
            "  inflating: cropped aloa lectinea/insect (82).jpg  \n",
            "  inflating: cropped aloa lectinea/insect (820).jpg  \n",
            "  inflating: cropped aloa lectinea/insect (821).jpg  \n",
            "  inflating: cropped aloa lectinea/insect (822).jpg  \n",
            "  inflating: cropped aloa lectinea/insect (823).jpg  \n",
            "  inflating: cropped aloa lectinea/insect (824).jpg  \n",
            "  inflating: cropped aloa lectinea/insect (825).jpg  \n",
            "  inflating: cropped aloa lectinea/insect (826).jpg  \n",
            "  inflating: cropped aloa lectinea/insect (827).jpg  \n",
            "  inflating: cropped aloa lectinea/insect (828).jpg  \n",
            "  inflating: cropped aloa lectinea/insect (829).jpg  \n",
            "  inflating: cropped aloa lectinea/insect (83).jpg  \n",
            "  inflating: cropped aloa lectinea/insect (830).jpg  \n",
            "  inflating: cropped aloa lectinea/insect (831).jpg  \n",
            "  inflating: cropped aloa lectinea/insect (832).jpg  \n",
            "  inflating: cropped aloa lectinea/insect (833).jpg  \n",
            "  inflating: cropped aloa lectinea/insect (834).jpg  \n",
            "  inflating: cropped aloa lectinea/insect (835).jpg  \n",
            "  inflating: cropped aloa lectinea/insect (836).jpg  \n",
            "  inflating: cropped aloa lectinea/insect (837).jpg  \n",
            "  inflating: cropped aloa lectinea/insect (838).jpg  \n",
            "  inflating: cropped aloa lectinea/insect (839).jpg  \n",
            "  inflating: cropped aloa lectinea/insect (84).jpg  \n",
            "  inflating: cropped aloa lectinea/insect (840).jpg  \n",
            "  inflating: cropped aloa lectinea/insect (841).jpg  \n",
            "  inflating: cropped aloa lectinea/insect (842).jpg  \n",
            "  inflating: cropped aloa lectinea/insect (843).jpg  \n",
            "  inflating: cropped aloa lectinea/insect (844).jpg  \n",
            "  inflating: cropped aloa lectinea/insect (845).jpg  \n",
            "  inflating: cropped aloa lectinea/insect (846).jpg  \n",
            "  inflating: cropped aloa lectinea/insect (847).jpg  \n",
            "  inflating: cropped aloa lectinea/insect (848).jpg  \n",
            "  inflating: cropped aloa lectinea/insect (849).jpg  \n",
            "  inflating: cropped aloa lectinea/insect (85).jpg  \n",
            "  inflating: cropped aloa lectinea/insect (850).jpg  \n",
            "  inflating: cropped aloa lectinea/insect (851).jpg  \n",
            "  inflating: cropped aloa lectinea/insect (852).jpg  \n",
            "  inflating: cropped aloa lectinea/insect (853).jpg  \n",
            "  inflating: cropped aloa lectinea/insect (854).jpg  \n",
            "  inflating: cropped aloa lectinea/insect (855).jpg  \n",
            "  inflating: cropped aloa lectinea/insect (856).jpg  \n",
            "  inflating: cropped aloa lectinea/insect (857).jpg  \n",
            "  inflating: cropped aloa lectinea/insect (858).jpg  \n",
            "  inflating: cropped aloa lectinea/insect (859).jpg  \n",
            "  inflating: cropped aloa lectinea/insect (86).jpg  \n",
            "  inflating: cropped aloa lectinea/insect (860).jpg  \n",
            "  inflating: cropped aloa lectinea/insect (861).jpg  \n",
            "  inflating: cropped aloa lectinea/insect (862).jpg  \n",
            "  inflating: cropped aloa lectinea/insect (863).jpg  \n",
            "  inflating: cropped aloa lectinea/insect (864).jpg  \n",
            "  inflating: cropped aloa lectinea/insect (865).jpg  \n",
            "  inflating: cropped aloa lectinea/insect (866).jpg  \n",
            "  inflating: cropped aloa lectinea/insect (867).jpg  \n",
            "  inflating: cropped aloa lectinea/insect (868).jpg  \n",
            "  inflating: cropped aloa lectinea/insect (869).jpg  \n",
            "  inflating: cropped aloa lectinea/insect (87).jpg  \n",
            "  inflating: cropped aloa lectinea/insect (870).jpg  \n",
            "  inflating: cropped aloa lectinea/insect (871).jpg  \n",
            "  inflating: cropped aloa lectinea/insect (872).jpg  \n",
            "  inflating: cropped aloa lectinea/insect (873).jpg  \n",
            "  inflating: cropped aloa lectinea/insect (874).jpg  \n",
            "  inflating: cropped aloa lectinea/insect (875).jpg  \n",
            "  inflating: cropped aloa lectinea/insect (876).jpg  \n",
            "  inflating: cropped aloa lectinea/insect (877).jpg  \n",
            "  inflating: cropped aloa lectinea/insect (878).jpg  \n",
            "  inflating: cropped aloa lectinea/insect (879).jpg  \n",
            "  inflating: cropped aloa lectinea/insect (88).jpg  \n",
            "  inflating: cropped aloa lectinea/insect (880).jpg  \n",
            "  inflating: cropped aloa lectinea/insect (881).jpg  \n",
            "  inflating: cropped aloa lectinea/insect (882).jpg  \n",
            "  inflating: cropped aloa lectinea/insect (883).jpg  \n",
            "  inflating: cropped aloa lectinea/insect (884).jpg  \n",
            "  inflating: cropped aloa lectinea/insect (885).jpg  \n",
            "  inflating: cropped aloa lectinea/insect (886).jpg  \n",
            "  inflating: cropped aloa lectinea/insect (887).jpg  \n",
            "  inflating: cropped aloa lectinea/insect (888).jpg  \n",
            "  inflating: cropped aloa lectinea/insect (889).jpg  \n",
            "  inflating: cropped aloa lectinea/insect (89).jpg  \n",
            "  inflating: cropped aloa lectinea/insect (890).jpg  \n",
            "  inflating: cropped aloa lectinea/insect (891).jpg  \n",
            "  inflating: cropped aloa lectinea/insect (892).jpg  \n",
            "  inflating: cropped aloa lectinea/insect (893).jpg  \n",
            "  inflating: cropped aloa lectinea/insect (894).jpg  \n",
            "  inflating: cropped aloa lectinea/insect (895).jpg  \n",
            "  inflating: cropped aloa lectinea/insect (896).jpg  \n",
            "  inflating: cropped aloa lectinea/insect (897).jpg  \n",
            "  inflating: cropped aloa lectinea/insect (898).jpg  \n",
            "  inflating: cropped aloa lectinea/insect (899).jpg  \n",
            "  inflating: cropped aloa lectinea/insect (9).jpg  \n",
            "  inflating: cropped aloa lectinea/insect (90).jpg  \n",
            "  inflating: cropped aloa lectinea/insect (900).jpg  \n",
            "  inflating: cropped aloa lectinea/insect (901).jpg  \n",
            "  inflating: cropped aloa lectinea/insect (902).jpg  \n",
            "  inflating: cropped aloa lectinea/insect (903).jpg  \n",
            "  inflating: cropped aloa lectinea/insect (904).jpg  \n",
            "  inflating: cropped aloa lectinea/insect (905).jpg  \n",
            "  inflating: cropped aloa lectinea/insect (906).jpg  \n",
            "  inflating: cropped aloa lectinea/insect (907).jpg  \n",
            "  inflating: cropped aloa lectinea/insect (908).jpg  \n",
            "  inflating: cropped aloa lectinea/insect (909).jpg  \n",
            "  inflating: cropped aloa lectinea/insect (91).jpg  \n",
            "  inflating: cropped aloa lectinea/insect (910).jpg  \n",
            "  inflating: cropped aloa lectinea/insect (911).jpg  \n",
            "  inflating: cropped aloa lectinea/insect (912).jpg  \n",
            "  inflating: cropped aloa lectinea/insect (913).jpg  \n",
            "  inflating: cropped aloa lectinea/insect (914).jpg  \n",
            "  inflating: cropped aloa lectinea/insect (915).jpg  \n",
            "  inflating: cropped aloa lectinea/insect (916).jpg  \n",
            "  inflating: cropped aloa lectinea/insect (917).jpg  \n",
            "  inflating: cropped aloa lectinea/insect (918).jpg  \n",
            "  inflating: cropped aloa lectinea/insect (919).jpg  \n",
            "  inflating: cropped aloa lectinea/insect (92).jpg  \n",
            "  inflating: cropped aloa lectinea/insect (920).jpg  \n",
            "  inflating: cropped aloa lectinea/insect (921).jpg  \n",
            "  inflating: cropped aloa lectinea/insect (922).jpg  \n",
            "  inflating: cropped aloa lectinea/insect (923).jpg  \n",
            "  inflating: cropped aloa lectinea/insect (924).jpg  \n",
            "  inflating: cropped aloa lectinea/insect (925).jpg  \n",
            "  inflating: cropped aloa lectinea/insect (926).jpg  \n",
            "  inflating: cropped aloa lectinea/insect (927).jpg  \n",
            "  inflating: cropped aloa lectinea/insect (928).jpg  \n",
            "  inflating: cropped aloa lectinea/insect (929).jpg  \n",
            "  inflating: cropped aloa lectinea/insect (93).jpg  \n",
            "  inflating: cropped aloa lectinea/insect (930).jpg  \n",
            "  inflating: cropped aloa lectinea/insect (931).jpg  \n",
            "  inflating: cropped aloa lectinea/insect (932).jpg  \n",
            "  inflating: cropped aloa lectinea/insect (933).jpg  \n",
            "  inflating: cropped aloa lectinea/insect (934).jpg  \n",
            "  inflating: cropped aloa lectinea/insect (935).jpg  \n",
            "  inflating: cropped aloa lectinea/insect (936).jpg  \n",
            "  inflating: cropped aloa lectinea/insect (937).jpg  \n",
            "  inflating: cropped aloa lectinea/insect (938).jpg  \n",
            "  inflating: cropped aloa lectinea/insect (939).jpg  \n",
            "  inflating: cropped aloa lectinea/insect (94).jpg  \n",
            "  inflating: cropped aloa lectinea/insect (940).jpg  \n",
            "  inflating: cropped aloa lectinea/insect (941).jpg  \n",
            "  inflating: cropped aloa lectinea/insect (942).jpg  \n",
            "  inflating: cropped aloa lectinea/insect (943).jpg  \n",
            "  inflating: cropped aloa lectinea/insect (944).jpg  \n",
            "  inflating: cropped aloa lectinea/insect (945).jpg  \n",
            "  inflating: cropped aloa lectinea/insect (946).jpg  \n",
            "  inflating: cropped aloa lectinea/insect (947).jpg  \n",
            "  inflating: cropped aloa lectinea/insect (948).jpg  \n",
            "  inflating: cropped aloa lectinea/insect (949).jpg  \n",
            "  inflating: cropped aloa lectinea/insect (95).jpg  \n",
            "  inflating: cropped aloa lectinea/insect (950).jpg  \n",
            "  inflating: cropped aloa lectinea/insect (951).jpg  \n",
            "  inflating: cropped aloa lectinea/insect (952).jpg  \n",
            "  inflating: cropped aloa lectinea/insect (953).jpg  \n",
            "  inflating: cropped aloa lectinea/insect (954).jpg  \n",
            "  inflating: cropped aloa lectinea/insect (955).jpg  \n",
            "  inflating: cropped aloa lectinea/insect (956).jpg  \n",
            "  inflating: cropped aloa lectinea/insect (957).jpg  \n",
            "  inflating: cropped aloa lectinea/insect (958).jpg  \n",
            "  inflating: cropped aloa lectinea/insect (959).jpg  \n",
            "  inflating: cropped aloa lectinea/insect (96).jpg  \n",
            "  inflating: cropped aloa lectinea/insect (960).jpg  \n",
            "  inflating: cropped aloa lectinea/insect (961).jpg  \n",
            "  inflating: cropped aloa lectinea/insect (962).jpg  \n",
            "  inflating: cropped aloa lectinea/insect (963).jpg  \n",
            "  inflating: cropped aloa lectinea/insect (964).jpg  \n",
            "  inflating: cropped aloa lectinea/insect (965).jpg  \n",
            "  inflating: cropped aloa lectinea/insect (966).jpg  \n",
            "  inflating: cropped aloa lectinea/insect (967).jpg  \n",
            "  inflating: cropped aloa lectinea/insect (968).jpg  \n",
            "  inflating: cropped aloa lectinea/insect (969).jpg  \n",
            "  inflating: cropped aloa lectinea/insect (97).jpg  \n",
            "  inflating: cropped aloa lectinea/insect (970).jpg  \n",
            "  inflating: cropped aloa lectinea/insect (971).jpg  \n",
            "  inflating: cropped aloa lectinea/insect (972).jpg  \n",
            "  inflating: cropped aloa lectinea/insect (973).jpg  \n",
            "  inflating: cropped aloa lectinea/insect (974).jpg  \n",
            "  inflating: cropped aloa lectinea/insect (975).jpg  \n",
            "  inflating: cropped aloa lectinea/insect (976).jpg  \n",
            "  inflating: cropped aloa lectinea/insect (977).jpg  \n",
            "  inflating: cropped aloa lectinea/insect (978).jpg  \n",
            "  inflating: cropped aloa lectinea/insect (979).jpg  \n",
            "  inflating: cropped aloa lectinea/insect (98).jpg  \n",
            "  inflating: cropped aloa lectinea/insect (980).jpg  \n",
            "  inflating: cropped aloa lectinea/insect (981).jpg  \n",
            "  inflating: cropped aloa lectinea/insect (982).jpg  \n",
            "  inflating: cropped aloa lectinea/insect (983).jpg  \n",
            "  inflating: cropped aloa lectinea/insect (984).jpg  \n",
            "  inflating: cropped aloa lectinea/insect (985).jpg  \n",
            "  inflating: cropped aloa lectinea/insect (986).jpg  \n",
            "  inflating: cropped aloa lectinea/insect (987).jpg  \n",
            "  inflating: cropped aloa lectinea/insect (988).jpg  \n",
            "  inflating: cropped aloa lectinea/insect (989).jpg  \n",
            "  inflating: cropped aloa lectinea/insect (99).jpg  \n",
            "  inflating: cropped aloa lectinea/insect (990).jpg  \n",
            "  inflating: cropped aloa lectinea/insect (991).jpg  \n",
            "  inflating: cropped aloa lectinea/insect (992).jpg  \n",
            "  inflating: cropped aloa lectinea/insect (993).jpg  \n",
            "  inflating: cropped aloa lectinea/insect (994).jpg  \n",
            "  inflating: cropped aloa lectinea/insect (995).jpg  \n",
            "  inflating: cropped aloa lectinea/insect (996).jpg  \n",
            "  inflating: cropped aloa lectinea/insect (997).jpg  \n",
            "  inflating: cropped aloa lectinea/insect (998).jpg  \n",
            "  inflating: cropped aloa lectinea/insect (999).jpg  \n"
          ],
          "name": "stdout"
        }
      ]
    },
    {
      "cell_type": "markdown",
      "metadata": {
        "id": "AFPMfpc7w5A_",
        "colab_type": "text"
      },
      "source": [
        "**Setting hyperparameters for computation.Here, we mention parameters for image resolution, preview image size details,seed size,epochs,batch size and buffer size.**\n"
      ]
    },
    {
      "cell_type": "code",
      "metadata": {
        "id": "2o7c1lwdvxiA",
        "colab_type": "code",
        "colab": {
          "base_uri": "https://localhost:8080/",
          "height": 34
        },
        "outputId": "fdaaf229-4abf-4378-8148-5d0632882da1"
      },
      "source": [
        "#resolution of images\n",
        "GENERATE_SQUARE = 96 #96x96\n",
        "IMAGE_CHANNELS = 3  #RGB\n",
        "\n",
        "# Preview images for viewing samples during training\n",
        "PREVIEW_ROWS = 4\n",
        "PREVIEW_COLS = 7\n",
        "PREVIEW_MARGIN = 16\n",
        "\n",
        "# Size vector to generate images from (noise vector)\n",
        "SEED_SIZE = 100  \n",
        "\n",
        "# Configuration\n",
        "DATA_PATH = '/content/cropped aloa lectinea' #copy file location of unzipped data\n",
        "EPOCHS = 2000\n",
        "BATCH_SIZE = 32\n",
        "BUFFER_SIZE = 600\n",
        "\n",
        "print(f\"Will generate {GENERATE_SQUARE}px square images.\")"
      ],
      "execution_count": 3,
      "outputs": [
        {
          "output_type": "stream",
          "text": [
            "Will generate 96px square images.\n"
          ],
          "name": "stdout"
        }
      ]
    },
    {
      "cell_type": "markdown",
      "metadata": {
        "id": "k91Wf_obvYTi",
        "colab_type": "text"
      },
      "source": [
        "**We store the processed file as a binary. This way we can simply reload the processed training data and quickly use it. It is most efficient to only perform this operation once. The dimensions of the image are encoded into the filename of the binary file because we need to regenerate it if these change. Converting input images from the dataset to arrays. As the colored images have values of varying from (0,255) pixel values, scaling it to (-1, 1) as of generator's last layer's activation Tanh range.**"
      ]
    },
    {
      "cell_type": "code",
      "metadata": {
        "id": "PGj4-cXsv2Tm",
        "colab_type": "code",
        "colab": {
          "base_uri": "https://localhost:8080/",
          "height": 1000
        },
        "outputId": "2797647d-1dc7-41a0-adef-7c141b2b8f74"
      },
      "source": [
        "#converting of (255,255) pixel value to (-1, 1) as of generator's last layer's activation Tanh range\n",
        "\n",
        "training_binary_path = os.path.join(DATA_PATH,\n",
        "        f'training_data_{GENERATE_SQUARE}_{GENERATE_SQUARE}.npy')\n",
        "\n",
        "\n",
        "print(f\"Looking for file: {training_binary_path}\")\n",
        "\n",
        "if not os.path.isfile(training_binary_path):\n",
        "  print(\"Loading training images...\")\n",
        "\n",
        "  training_data = []\n",
        "  faces_path = DATA_PATH\n",
        "  for filename in tqdm(os.listdir(faces_path)):\n",
        "      path = os.path.join(faces_path,filename)\n",
        "      image = Image.open(path).resize((GENERATE_SQUARE,GENERATE_SQUARE),Image.ANTIALIAS)\n",
        "      training_data.append(np.asarray(image))\n",
        "  training_data = np.reshape(training_data,(-1,GENERATE_SQUARE,GENERATE_SQUARE,IMAGE_CHANNELS))\n",
        "  training_data = training_data.astype(np.float32)\n",
        "  training_data = training_data / 127.5 - 1.\n",
        "\n",
        "\n",
        "  print(\"Saving training image binary...\")\n",
        "  np.save(training_binary_path,training_data)\n",
        "else:\n",
        "  print(\"Loading previous training pickle...\")\n",
        "  training_data = np.load(training_binary_path)\n",
        "\n"
      ],
      "execution_count": 7,
      "outputs": [
        {
          "output_type": "stream",
          "text": [
            "\n",
            "  0%|          | 0/999 [00:00<?, ?it/s]\u001b[A\n",
            "  1%|          | 9/999 [00:00<00:13, 73.27it/s]\u001b[A"
          ],
          "name": "stderr"
        },
        {
          "output_type": "stream",
          "text": [
            "Looking for file: /content/cropped aloa lectinea/training_data_96_96.npy\n",
            "Loading training images...\n"
          ],
          "name": "stdout"
        },
        {
          "output_type": "stream",
          "text": [
            "\n",
            "  2%|▏         | 19/999 [00:00<00:12, 79.54it/s]\u001b[A\n",
            "  3%|▎         | 29/999 [00:00<00:11, 84.36it/s]\u001b[A\n",
            "  4%|▍         | 41/999 [00:00<00:10, 91.35it/s]\u001b[A\n",
            "  5%|▌         | 53/999 [00:00<00:09, 97.48it/s]\u001b[A\n",
            "  7%|▋         | 66/999 [00:00<00:08, 105.25it/s]\u001b[A\n",
            "  8%|▊         | 78/999 [00:00<00:08, 109.22it/s]\u001b[A\n",
            "  9%|▉         | 90/999 [00:00<00:08, 111.44it/s]\u001b[A\n",
            " 10%|█         | 101/999 [00:00<00:08, 108.49it/s]\u001b[A\n",
            " 11%|█         | 112/999 [00:01<00:08, 104.10it/s]\u001b[A\n",
            " 12%|█▏        | 123/999 [00:01<00:09, 96.31it/s] \u001b[A\n",
            " 13%|█▎        | 133/999 [00:01<00:09, 96.00it/s]\u001b[A\n",
            " 14%|█▍        | 143/999 [00:01<00:08, 95.73it/s]\u001b[A\n",
            " 15%|█▌        | 153/999 [00:01<00:08, 94.44it/s]\u001b[A\n",
            " 16%|█▋        | 163/999 [00:01<00:09, 90.66it/s]\u001b[A\n",
            " 17%|█▋        | 174/999 [00:01<00:08, 94.57it/s]\u001b[A\n",
            " 19%|█▉        | 188/999 [00:01<00:07, 101.64it/s]\u001b[A\n",
            " 20%|█▉        | 199/999 [00:01<00:07, 100.34it/s]\u001b[A\n",
            " 21%|██        | 210/999 [00:02<00:07, 100.10it/s]\u001b[A\n",
            " 22%|██▏       | 221/999 [00:02<00:08, 95.06it/s] \u001b[A\n",
            " 23%|██▎       | 233/999 [00:02<00:07, 100.78it/s]\u001b[A\n",
            " 24%|██▍       | 244/999 [00:02<00:07, 97.85it/s] \u001b[A\n",
            " 26%|██▌       | 256/999 [00:02<00:07, 101.70it/s]\u001b[A\n",
            " 27%|██▋       | 267/999 [00:02<00:07, 103.92it/s]\u001b[A\n",
            " 28%|██▊       | 278/999 [00:02<00:06, 104.55it/s]\u001b[A\n",
            " 29%|██▉       | 289/999 [00:02<00:06, 103.93it/s]\u001b[A\n",
            " 30%|███       | 300/999 [00:02<00:06, 105.49it/s]\u001b[A\n",
            " 31%|███       | 311/999 [00:03<00:06, 105.50it/s]\u001b[A\n",
            " 32%|███▏      | 323/999 [00:03<00:06, 106.51it/s]\u001b[A\n",
            " 33%|███▎      | 334/999 [00:03<00:06, 107.22it/s]\u001b[A\n",
            " 35%|███▍      | 345/999 [00:03<00:06, 106.47it/s]\u001b[A\n",
            " 36%|███▌      | 356/999 [00:03<00:06, 102.94it/s]\u001b[A\n",
            " 37%|███▋      | 367/999 [00:03<00:06, 103.02it/s]\u001b[A\n",
            " 38%|███▊      | 378/999 [00:03<00:05, 103.81it/s]\u001b[A\n",
            " 39%|███▉      | 389/999 [00:03<00:06, 101.39it/s]\u001b[A\n",
            " 40%|████      | 401/999 [00:03<00:05, 104.63it/s]\u001b[A\n",
            " 41%|████      | 412/999 [00:04<00:05, 104.78it/s]\u001b[A\n",
            " 43%|████▎     | 425/999 [00:04<00:05, 109.95it/s]\u001b[A\n",
            " 44%|████▎     | 437/999 [00:04<00:05, 103.70it/s]\u001b[A\n",
            " 45%|████▍     | 449/999 [00:04<00:05, 107.30it/s]\u001b[A\n",
            " 46%|████▌     | 460/999 [00:04<00:05, 104.76it/s]\u001b[A\n",
            " 47%|████▋     | 471/999 [00:04<00:05, 105.11it/s]\u001b[A\n",
            " 48%|████▊     | 482/999 [00:04<00:05, 102.64it/s]\u001b[A\n",
            " 49%|████▉     | 494/999 [00:04<00:04, 105.79it/s]\u001b[A\n",
            " 51%|█████     | 505/999 [00:04<00:04, 102.96it/s]\u001b[A\n",
            " 52%|█████▏    | 517/999 [00:05<00:04, 106.75it/s]\u001b[A\n",
            " 53%|█████▎    | 528/999 [00:05<00:04, 99.45it/s] \u001b[A\n",
            " 54%|█████▍    | 539/999 [00:05<00:04, 100.62it/s]\u001b[A\n",
            " 55%|█████▌    | 550/999 [00:05<00:04, 99.19it/s] \u001b[A\n",
            " 56%|█████▋    | 562/999 [00:05<00:04, 104.13it/s]\u001b[A\n",
            " 57%|█████▋    | 573/999 [00:05<00:04, 104.84it/s]\u001b[A\n",
            " 58%|█████▊    | 584/999 [00:05<00:04, 103.14it/s]\u001b[A\n",
            " 60%|█████▉    | 595/999 [00:05<00:03, 103.33it/s]\u001b[A\n",
            " 61%|██████    | 606/999 [00:05<00:03, 99.49it/s] \u001b[A\n",
            " 62%|██████▏   | 617/999 [00:06<00:04, 90.87it/s]\u001b[A\n",
            " 63%|██████▎   | 629/999 [00:06<00:03, 96.77it/s]\u001b[A\n",
            " 64%|██████▍   | 641/999 [00:06<00:03, 101.93it/s]\u001b[A\n",
            " 65%|██████▌   | 652/999 [00:06<00:03, 102.50it/s]\u001b[A\n",
            " 66%|██████▋   | 663/999 [00:06<00:03, 102.72it/s]\u001b[A\n",
            " 67%|██████▋   | 674/999 [00:06<00:03, 104.70it/s]\u001b[A\n",
            " 69%|██████▉   | 687/999 [00:06<00:02, 110.46it/s]\u001b[A\n",
            " 70%|██████▉   | 699/999 [00:06<00:02, 101.61it/s]\u001b[A\n",
            " 71%|███████   | 711/999 [00:06<00:02, 105.69it/s]\u001b[A\n",
            " 72%|███████▏  | 723/999 [00:07<00:02, 107.83it/s]\u001b[A\n",
            " 73%|███████▎  | 734/999 [00:07<00:02, 106.00it/s]\u001b[A\n",
            " 75%|███████▍  | 745/999 [00:07<00:02, 96.71it/s] \u001b[A\n",
            " 76%|███████▌  | 757/999 [00:07<00:02, 102.29it/s]\u001b[A\n",
            " 77%|███████▋  | 768/999 [00:07<00:02, 99.85it/s] \u001b[A\n",
            " 78%|███████▊  | 779/999 [00:07<00:02, 95.91it/s]\u001b[A\n",
            " 79%|███████▉  | 789/999 [00:07<00:02, 95.94it/s]\u001b[A\n",
            " 80%|███████▉  | 799/999 [00:07<00:02, 96.51it/s]\u001b[A\n",
            " 81%|████████  | 811/999 [00:07<00:01, 101.08it/s]\u001b[A\n",
            " 82%|████████▏ | 823/999 [00:08<00:01, 105.17it/s]\u001b[A\n",
            " 84%|████████▎ | 835/999 [00:08<00:01, 107.11it/s]\u001b[A\n",
            " 85%|████████▍ | 848/999 [00:08<00:01, 108.96it/s]\u001b[A\n",
            " 86%|████████▌ | 859/999 [00:08<00:01, 105.34it/s]\u001b[A\n",
            " 87%|████████▋ | 870/999 [00:08<00:01, 102.22it/s]\u001b[A\n",
            " 88%|████████▊ | 881/999 [00:08<00:01, 104.38it/s]\u001b[A\n",
            " 89%|████████▉ | 892/999 [00:08<00:01, 103.46it/s]\u001b[A\n",
            " 90%|█████████ | 903/999 [00:08<00:00, 98.19it/s] \u001b[A\n",
            " 91%|█████████▏| 914/999 [00:08<00:00, 99.76it/s]\u001b[A\n",
            " 93%|█████████▎| 926/999 [00:09<00:00, 102.81it/s]\u001b[A\n",
            " 94%|█████████▍| 937/999 [00:09<00:00, 100.09it/s]\u001b[A\n",
            " 95%|█████████▍| 948/999 [00:09<00:00, 102.25it/s]\u001b[A\n",
            " 96%|█████████▌| 961/999 [00:09<00:00, 107.00it/s]\u001b[A\n",
            " 97%|█████████▋| 972/999 [00:09<00:00, 105.70it/s]\u001b[A\n",
            " 98%|█████████▊| 983/999 [00:09<00:00, 100.57it/s]\u001b[A\n",
            "100%|██████████| 999/999 [00:09<00:00, 102.89it/s]\n"
          ],
          "name": "stderr"
        },
        {
          "output_type": "stream",
          "text": [
            "Saving training image binary...\n"
          ],
          "name": "stdout"
        }
      ]
    },
    {
      "cell_type": "markdown",
      "metadata": {
        "id": "qDgenb7MvdlB",
        "colab_type": "text"
      },
      "source": [
        "**We will use a TensorFlow Dataset object to actually hold the images. This allows the data to be quickly shuffled int divided into the appropriate batch sizes for training.Making batches of dataset for training the model in batches.**"
      ]
    },
    {
      "cell_type": "code",
      "metadata": {
        "id": "YlH6DaqWv-7r",
        "colab_type": "code",
        "colab": {}
      },
      "source": [
        "#making batches of data\n",
        "train_dataset = tf.data.Dataset.from_tensor_slices(training_data).shuffle(BUFFER_SIZE).batch(BATCH_SIZE)"
      ],
      "execution_count": 8,
      "outputs": []
    },
    {
      "cell_type": "markdown",
      "metadata": {
        "id": "b4ZsFJzzwFNz",
        "colab_type": "text"
      },
      "source": [
        "# GAN"
      ]
    },
    {
      "cell_type": "markdown",
      "metadata": {
        "id": "O0MLB9GI2Vsi",
        "colab_type": "text"
      },
      "source": [
        "**Making a generator network using Sequential model to add the following layers.**"
      ]
    },
    {
      "cell_type": "code",
      "metadata": {
        "id": "aZQLbagtwCPH",
        "colab_type": "code",
        "colab": {}
      },
      "source": [
        "#generator network\n",
        "generator = keras.models.Sequential([\n",
        "    keras.layers.Dense(6*6*256, input_shape=[SEED_SIZE]),\n",
        "    keras.layers.Reshape([6, 6, 256]),\n",
        "    keras.layers.Conv2DTranspose(64, (5,5), (2,2), padding=\"same\"),\n",
        "    keras.layers.ReLU(),\n",
        "    keras.layers.BatchNormalization(),\n",
        "    keras.layers.Conv2DTranspose(32, (5,5), (2,2), padding=\"same\"),\n",
        "    keras.layers.ReLU(),\n",
        "    keras.layers.BatchNormalization(),\n",
        "    keras.layers.Conv2DTranspose(32, (5,5), (2,2), padding=\"same\"),\n",
        "    keras.layers.ReLU(),\n",
        "    keras.layers.Conv2DTranspose(3, (5,5), (2,2), padding=\"same\", activation=\"tanh\"),\n",
        "])"
      ],
      "execution_count": 9,
      "outputs": []
    },
    {
      "cell_type": "markdown",
      "metadata": {
        "id": "2QURmMl5yP9O",
        "colab_type": "text"
      },
      "source": [
        "**Input, output dimensions and parameters of every layer of generator**"
      ]
    },
    {
      "cell_type": "code",
      "metadata": {
        "id": "NkC2p9MEXNu4",
        "colab_type": "code",
        "colab": {
          "base_uri": "https://localhost:8080/",
          "height": 545
        },
        "outputId": "858bfc4e-dd8a-4424-9ae3-2bd1e8262db7"
      },
      "source": [
        "generator.summary()"
      ],
      "execution_count": 10,
      "outputs": [
        {
          "output_type": "stream",
          "text": [
            "Model: \"sequential\"\n",
            "_________________________________________________________________\n",
            "Layer (type)                 Output Shape              Param #   \n",
            "=================================================================\n",
            "dense (Dense)                (None, 9216)              930816    \n",
            "_________________________________________________________________\n",
            "reshape (Reshape)            (None, 6, 6, 256)         0         \n",
            "_________________________________________________________________\n",
            "conv2d_transpose (Conv2DTran (None, 12, 12, 64)        409664    \n",
            "_________________________________________________________________\n",
            "re_lu (ReLU)                 (None, 12, 12, 64)        0         \n",
            "_________________________________________________________________\n",
            "batch_normalization (BatchNo (None, 12, 12, 64)        256       \n",
            "_________________________________________________________________\n",
            "conv2d_transpose_1 (Conv2DTr (None, 24, 24, 32)        51232     \n",
            "_________________________________________________________________\n",
            "re_lu_1 (ReLU)               (None, 24, 24, 32)        0         \n",
            "_________________________________________________________________\n",
            "batch_normalization_1 (Batch (None, 24, 24, 32)        128       \n",
            "_________________________________________________________________\n",
            "conv2d_transpose_2 (Conv2DTr (None, 48, 48, 32)        25632     \n",
            "_________________________________________________________________\n",
            "re_lu_2 (ReLU)               (None, 48, 48, 32)        0         \n",
            "_________________________________________________________________\n",
            "conv2d_transpose_3 (Conv2DTr (None, 96, 96, 3)         2403      \n",
            "=================================================================\n",
            "Total params: 1,420,131\n",
            "Trainable params: 1,419,939\n",
            "Non-trainable params: 192\n",
            "_________________________________________________________________\n"
          ],
          "name": "stdout"
        }
      ]
    },
    {
      "cell_type": "markdown",
      "metadata": {
        "id": "riyatdem2s1e",
        "colab_type": "text"
      },
      "source": [
        "**Making a discriminator network using Sequential model to add the following layers.**"
      ]
    },
    {
      "cell_type": "code",
      "metadata": {
        "id": "d5WjRovywMva",
        "colab_type": "code",
        "colab": {}
      },
      "source": [
        "#discriminator network\n",
        "discriminator = keras.models.Sequential([\n",
        "    keras.layers.Conv2D(32, (5,5), (2,2), padding=\"same\", input_shape=[96, 96, 3]),\n",
        "    keras.layers.LeakyReLU(0.2),\n",
        "    keras.layers.Dropout(0.3),\n",
        "    keras.layers.Conv2D(64, (5,5), (2,2), padding=\"same\"),\n",
        "    keras.layers.LeakyReLU(0.2),\n",
        "    keras.layers.Dropout(0.3),\n",
        "    keras.layers.BatchNormalization(),\n",
        "    keras.layers.Conv2D(64, (5,5), (2,2), padding=\"same\"),\n",
        "    keras.layers.LeakyReLU(0.2),\n",
        "    keras.layers.Dropout(0.3),\n",
        "    keras.layers.BatchNormalization(),\n",
        "    keras.layers.Conv2D(128, (5,5), (2,2), padding=\"same\"),\n",
        "    keras.layers.LeakyReLU(0.2),\n",
        "    keras.layers.Dropout(0.3),\n",
        "    keras.layers.Flatten(),\n",
        "    keras.layers.Dense(1, activation='sigmoid')\n",
        "])"
      ],
      "execution_count": 11,
      "outputs": []
    },
    {
      "cell_type": "markdown",
      "metadata": {
        "id": "_1HYltmvynVi",
        "colab_type": "text"
      },
      "source": [
        "**Input,output dimensions and parameters of every layer of discriminator**"
      ]
    },
    {
      "cell_type": "code",
      "metadata": {
        "id": "HU7kcmANwTTM",
        "colab_type": "code",
        "colab": {
          "base_uri": "https://localhost:8080/",
          "height": 721
        },
        "outputId": "1da76141-dd52-44c7-d072-e5887aed5f83"
      },
      "source": [
        "discriminator.summary()"
      ],
      "execution_count": 12,
      "outputs": [
        {
          "output_type": "stream",
          "text": [
            "Model: \"sequential_1\"\n",
            "_________________________________________________________________\n",
            "Layer (type)                 Output Shape              Param #   \n",
            "=================================================================\n",
            "conv2d (Conv2D)              (None, 48, 48, 32)        2432      \n",
            "_________________________________________________________________\n",
            "leaky_re_lu (LeakyReLU)      (None, 48, 48, 32)        0         \n",
            "_________________________________________________________________\n",
            "dropout (Dropout)            (None, 48, 48, 32)        0         \n",
            "_________________________________________________________________\n",
            "conv2d_1 (Conv2D)            (None, 24, 24, 64)        51264     \n",
            "_________________________________________________________________\n",
            "leaky_re_lu_1 (LeakyReLU)    (None, 24, 24, 64)        0         \n",
            "_________________________________________________________________\n",
            "dropout_1 (Dropout)          (None, 24, 24, 64)        0         \n",
            "_________________________________________________________________\n",
            "batch_normalization_2 (Batch (None, 24, 24, 64)        256       \n",
            "_________________________________________________________________\n",
            "conv2d_2 (Conv2D)            (None, 12, 12, 64)        102464    \n",
            "_________________________________________________________________\n",
            "leaky_re_lu_2 (LeakyReLU)    (None, 12, 12, 64)        0         \n",
            "_________________________________________________________________\n",
            "dropout_2 (Dropout)          (None, 12, 12, 64)        0         \n",
            "_________________________________________________________________\n",
            "batch_normalization_3 (Batch (None, 12, 12, 64)        256       \n",
            "_________________________________________________________________\n",
            "conv2d_3 (Conv2D)            (None, 6, 6, 128)         204928    \n",
            "_________________________________________________________________\n",
            "leaky_re_lu_3 (LeakyReLU)    (None, 6, 6, 128)         0         \n",
            "_________________________________________________________________\n",
            "dropout_3 (Dropout)          (None, 6, 6, 128)         0         \n",
            "_________________________________________________________________\n",
            "flatten (Flatten)            (None, 4608)              0         \n",
            "_________________________________________________________________\n",
            "dense_1 (Dense)              (None, 1)                 4609      \n",
            "=================================================================\n",
            "Total params: 366,209\n",
            "Trainable params: 365,953\n",
            "Non-trainable params: 256\n",
            "_________________________________________________________________\n"
          ],
          "name": "stdout"
        }
      ]
    },
    {
      "cell_type": "markdown",
      "metadata": {
        "id": "ozZqo8DcwWVJ",
        "colab_type": "text"
      },
      "source": [
        "# Saving images"
      ]
    },
    {
      "cell_type": "markdown",
      "metadata": {
        "id": "t5q__tZ_29fH",
        "colab_type": "text"
      },
      "source": [
        "**OUT_PATH gives the destination to store the images that our deep-convolutional gan network will generate.**"
      ]
    },
    {
      "cell_type": "code",
      "metadata": {
        "id": "XUWSNGBBD5Pw",
        "colab_type": "code",
        "colab": {}
      },
      "source": [
        "mkdir '/content/drive/My Drive/minor/final_aloa'"
      ],
      "execution_count": 13,
      "outputs": []
    },
    {
      "cell_type": "code",
      "metadata": {
        "id": "2qwqT3lD_A2_",
        "colab_type": "code",
        "colab": {}
      },
      "source": [
        "OUT_PATH='/content/drive/My Drive/minor/final_aloa'"
      ],
      "execution_count": 14,
      "outputs": []
    },
    {
      "cell_type": "markdown",
      "metadata": {
        "id": "6o23aoA93nkn",
        "colab_type": "text"
      },
      "source": [
        "**As we progress through training images will be produced to show the progress.These images will contain a number of rendered insects that show how good the generator has become.Below cell has a function to save coloured images generated by dcgan in 7x4 grid to preview the images.** "
      ]
    },
    {
      "cell_type": "code",
      "metadata": {
        "id": "hIa-hk2xwYNf",
        "colab_type": "code",
        "colab": {}
      },
      "source": [
        "def save_images(cnt,noise):\n",
        "  image_array = np.full(( \n",
        "      PREVIEW_MARGIN + (PREVIEW_ROWS * (GENERATE_SQUARE+PREVIEW_MARGIN)), \n",
        "      PREVIEW_MARGIN + (PREVIEW_COLS * (GENERATE_SQUARE+PREVIEW_MARGIN)), 3), \n",
        "      255, dtype=np.uint8)\n",
        "  \n",
        "  generated_images = generator.predict(noise)\n",
        "\n",
        "  generated_images = 0.5 * generated_images + 0.5\n",
        "\n",
        "  image_count = 0\n",
        "  for row in range(PREVIEW_ROWS):\n",
        "      for col in range(PREVIEW_COLS):\n",
        "        r = row * (GENERATE_SQUARE+16) + PREVIEW_MARGIN\n",
        "        c = col * (GENERATE_SQUARE+16) + PREVIEW_MARGIN\n",
        "        image_array[r:r+GENERATE_SQUARE,c:c+GENERATE_SQUARE] = generated_images[image_count] * 255\n",
        "        image_count += 1\n",
        "\n",
        "          \n",
        "  output_path = os.path.join(OUT_PATH,f\"output-{cnt}\")\n",
        "  if not os.path.exists(output_path):\n",
        "    os.makedirs(output_path)\n",
        "  \n",
        "  filename = os.path.join(output_path,f\"train-{cnt}.png\")\n",
        "  im = Image.fromarray(image_array)\n",
        "  im.save(filename)\n",
        "  generator.save(os.path.join(output_path,f\"face_generator-{cnt}.h5\"))"
      ],
      "execution_count": 15,
      "outputs": []
    },
    {
      "cell_type": "markdown",
      "metadata": {
        "id": "U8hVXBrKwaAE",
        "colab_type": "text"
      },
      "source": [
        "# Testing networks"
      ]
    },
    {
      "cell_type": "markdown",
      "metadata": {
        "id": "zOrLDh2N44B4",
        "colab_type": "text"
      },
      "source": [
        "**Before training the model, generate random sample by adding noise in generator network and specifying training as false.**"
      ]
    },
    {
      "cell_type": "code",
      "metadata": {
        "id": "5K12WtZvwdQ6",
        "colab_type": "code",
        "colab": {
          "base_uri": "https://localhost:8080/",
          "height": 286
        },
        "outputId": "a3fc1978-e30e-45b6-a273-ea3bf9112742"
      },
      "source": [
        "#generating random sample before training\n",
        "noise = tf.random.normal([1, SEED_SIZE])\n",
        "generated_image = generator(noise, training=False)\n",
        "\n",
        "plt.imshow(generated_image[0, :, :, 0])"
      ],
      "execution_count": 16,
      "outputs": [
        {
          "output_type": "execute_result",
          "data": {
            "text/plain": [
              "<matplotlib.image.AxesImage at 0x7fe2e01fd518>"
            ]
          },
          "metadata": {
            "tags": []
          },
          "execution_count": 16
        },
        {
          "output_type": "display_data",
          "data": {
            "image/png": "[encoded data removed]",
            "text/plain": [
              "<Figure size 432x288 with 1 Axes>"
            ]
          },
          "metadata": {
            "tags": [],
            "needs_background": "light"
          }
        }
      ]
    },
    {
      "cell_type": "markdown",
      "metadata": {
        "id": "wlM1Qmqg5ONX",
        "colab_type": "text"
      },
      "source": [
        "**Checking discriminator's decision on the random sample generated.**"
      ]
    },
    {
      "cell_type": "code",
      "metadata": {
        "id": "ftgn9MTtwfAc",
        "colab_type": "code",
        "colab": {
          "base_uri": "https://localhost:8080/",
          "height": 34
        },
        "outputId": "ec3022b3-1387-4e60-b952-f4832ca183be"
      },
      "source": [
        "image_shape = (GENERATE_SQUARE,GENERATE_SQUARE,IMAGE_CHANNELS)\n",
        "decision = discriminator(generated_image)\n",
        "print (decision)"
      ],
      "execution_count": 17,
      "outputs": [
        {
          "output_type": "stream",
          "text": [
            "tf.Tensor([[0.4998739]], shape=(1, 1), dtype=float32)\n"
          ],
          "name": "stdout"
        }
      ]
    },
    {
      "cell_type": "markdown",
      "metadata": {
        "id": "1-fE0lUxwnzr",
        "colab_type": "text"
      },
      "source": [
        "# Compiling Gan"
      ]
    },
    {
      "cell_type": "markdown",
      "metadata": {
        "id": "O6wCaCTW5oHp",
        "colab_type": "text"
      },
      "source": [
        "**For the generator training set, the $x$ contains the random seeds to generate images and the $y$ always contains the value of 1, because the optimal is for the generator to have generated such good images that the discriminiator was fooled into assigning them a probability near 1.Defining loss for generator and discriminator networks. Binary crossentropy loss has been used. For the generator network the loss is only determined by the fake output that it generates.For discriminator network,total loss is the sum of loss for real and fake outputs.**"
      ]
    },
    {
      "cell_type": "code",
      "metadata": {
        "id": "l9lBubrA-mbt",
        "colab_type": "code",
        "colab": {}
      },
      "source": [
        "#defining losses\n",
        "cross_entropy = tf.keras.losses.BinaryCrossentropy(from_logits=True)\n",
        "\n",
        "def discriminator_loss(real_output, fake_output):\n",
        "    real_loss = cross_entropy(tf.ones_like(real_output), real_output)\n",
        "    fake_loss = cross_entropy(tf.zeros_like(fake_output), fake_output)\n",
        "    total_loss = real_loss + fake_loss\n",
        "    return total_loss\n",
        "\n",
        "def generator_loss(fake_output):\n",
        "    return cross_entropy(tf.ones_like(fake_output), fake_output)"
      ],
      "execution_count": 18,
      "outputs": []
    },
    {
      "cell_type": "markdown",
      "metadata": {
        "id": "JYWb8pE_6VZE",
        "colab_type": "text"
      },
      "source": [
        "**In this cell optimizer for the generator and discriminator networks have been defined. Adam optimizer(with a learning rate of 1.5e-4) is used for both the networks.**"
      ]
    },
    {
      "cell_type": "code",
      "metadata": {
        "id": "LruvslEq-rtz",
        "colab_type": "code",
        "colab": {}
      },
      "source": [
        "#defining otptimizer\n",
        "generator_optimizer = tf.keras.optimizers.Adam(1.5e-4,0.5)\n",
        "discriminator_optimizer = tf.keras.optimizers.Adam(1.5e-4,0.5)"
      ],
      "execution_count": 19,
      "outputs": []
    },
    {
      "cell_type": "markdown",
      "metadata": {
        "id": "ENsy6NUg-uBM",
        "colab_type": "text"
      },
      "source": [
        "# Training the Gan\n"
      ]
    },
    {
      "cell_type": "markdown",
      "metadata": {
        "id": "m6EwKX8Y9T_5",
        "colab_type": "text"
      },
      "source": [
        "**Defining a fuction for train the dcgan. We train the model by giving randomly generated seed values to the generator. The generator gives an output image, this image along with real image is feeded to the discriminator network. Gradients are calculated for both these network in the basis of generator loss and discriminator loss. Later, optimization is done using these gradients.**"
      ]
    },
    {
      "cell_type": "code",
      "metadata": {
        "id": "EZBGWwud-wL0",
        "colab_type": "code",
        "colab": {}
      },
      "source": [
        "@tf.function\n",
        "def train_step(images):\n",
        "  seed = tf.random.normal([BATCH_SIZE, SEED_SIZE])\n",
        "\n",
        "  with tf.GradientTape() as gen_tape, tf.GradientTape() as disc_tape:\n",
        "    generated_images = generator(seed, training=True)\n",
        "\n",
        "    real_output = discriminator(images, training=True)\n",
        "    fake_output = discriminator(generated_images, training=True)\n",
        "\n",
        "    gen_loss = generator_loss(fake_output)\n",
        "    disc_loss = discriminator_loss(real_output, fake_output)\n",
        "    \n",
        "\n",
        "    gradients_of_generator = gen_tape.gradient(gen_loss, generator.trainable_variables)#calculating gradients of generator\n",
        "    gradients_of_discriminator = disc_tape.gradient(disc_loss, discriminator.trainable_variables)#calculating gradients of discriminator\n",
        "\n",
        "    generator_optimizer.apply_gradients(zip(gradients_of_generator, generator.trainable_variables))#applying gradients with the optimizer\n",
        "    discriminator_optimizer.apply_gradients(zip(gradients_of_discriminator, discriminator.trainable_variables))#applying gradients with the optimizer\n",
        "  return gen_loss,disc_loss"
      ],
      "execution_count": 20,
      "outputs": []
    },
    {
      "cell_type": "code",
      "metadata": {
        "id": "oIzn7Gjn-xfx",
        "colab_type": "code",
        "colab": {}
      },
      "source": [
        "def train(dataset, epochs):\n",
        "  fixed_seed = np.random.normal(0, 1, (PREVIEW_ROWS * PREVIEW_COLS, SEED_SIZE))\n",
        "\n",
        "  for epoch in tqdm(range(epochs)):\n",
        "\n",
        "\n",
        "    gen_loss_list = []\n",
        "    disc_loss_list = []\n",
        "\n",
        "    for image_batch in dataset:\n",
        "      t = train_step(image_batch)\n",
        "      gen_loss_list.append(t[0])\n",
        "      disc_loss_list.append(t[1])\n",
        "\n",
        "    g_loss = sum(gen_loss_list) / len(gen_loss_list)\n",
        "    d_loss = sum(disc_loss_list) / len(disc_loss_list)\n",
        "\n",
        "\n",
        "    print (f'Epoch {epoch+1}, gen loss={g_loss},disc loss={d_loss}')\n",
        "    if epoch%100==0:\n",
        "      save_images(epoch,fixed_seed)\n",
        "\n",
        "\n",
        "  print (f'Training time: {hms_string(epoch_elapsed)}')"
      ],
      "execution_count": 21,
      "outputs": []
    },
    {
      "cell_type": "markdown",
      "metadata": {
        "id": "C8z7xr0u_3iO",
        "colab_type": "text"
      },
      "source": [
        "**Calling the train fuction to start train the gan model for desired number of epochs.**"
      ]
    },
    {
      "cell_type": "code",
      "metadata": {
        "id": "RxTf-xVv-9-n",
        "colab_type": "code",
        "colab": {
          "base_uri": "https://localhost:8080/",
          "height": 1000
        },
        "outputId": "5f6c166a-e361-43d6-e47f-b08e93d06eea"
      },
      "source": [
        "train(train_dataset, EPOCHS)"
      ],
      "execution_count": 22,
      "outputs": [
        {
          "output_type": "stream",
          "text": [
            "\n",
            "  0%|          | 0/2000 [00:00<?, ?it/s]\u001b[A"
          ],
          "name": "stderr"
        },
        {
          "output_type": "stream",
          "text": [
            "Epoch 1, gen loss=0.6136048436164856,disc loss=1.150124430656433\n"
          ],
          "name": "stdout"
        },
        {
          "output_type": "stream",
          "text": [
            "\n",
            "  0%|          | 1/2000 [00:06<3:40:49,  6.63s/it]\u001b[A\n",
            "  0%|          | 2/2000 [00:08<2:55:35,  5.27s/it]\u001b[A"
          ],
          "name": "stderr"
        },
        {
          "output_type": "stream",
          "text": [
            "Epoch 2, gen loss=0.6760309338569641,disc loss=1.0350135564804077\n"
          ],
          "name": "stdout"
        },
        {
          "output_type": "stream",
          "text": [
            "\n",
            "  0%|          | 3/2000 [00:10<2:23:44,  4.32s/it]\u001b[A"
          ],
          "name": "stderr"
        },
        {
          "output_type": "stream",
          "text": [
            "Epoch 3, gen loss=0.6852465867996216,disc loss=1.0207791328430176\n"
          ],
          "name": "stdout"
        },
        {
          "output_type": "stream",
          "text": [
            "\n",
            "  0%|          | 4/2000 [00:12<2:01:21,  3.65s/it]\u001b[A"
          ],
          "name": "stderr"
        },
        {
          "output_type": "stream",
          "text": [
            "Epoch 4, gen loss=0.6895169615745544,disc loss=1.0136432647705078\n"
          ],
          "name": "stdout"
        },
        {
          "output_type": "stream",
          "text": [
            "\n",
            "  0%|          | 5/2000 [00:15<1:45:50,  3.18s/it]\u001b[A"
          ],
          "name": "stderr"
        },
        {
          "output_type": "stream",
          "text": [
            "Epoch 5, gen loss=0.6907926797866821,disc loss=1.01139497756958\n"
          ],
          "name": "stdout"
        },
        {
          "output_type": "stream",
          "text": [
            "\n",
            "  0%|          | 6/2000 [00:17<1:34:50,  2.85s/it]\u001b[A"
          ],
          "name": "stderr"
        },
        {
          "output_type": "stream",
          "text": [
            "Epoch 6, gen loss=0.6918479204177856,disc loss=1.0093562602996826\n"
          ],
          "name": "stdout"
        },
        {
          "output_type": "stream",
          "text": [
            "\n",
            "  0%|          | 7/2000 [00:19<1:27:09,  2.62s/it]\u001b[A"
          ],
          "name": "stderr"
        },
        {
          "output_type": "stream",
          "text": [
            "Epoch 7, gen loss=0.6920564770698547,disc loss=1.0089313983917236\n"
          ],
          "name": "stdout"
        },
        {
          "output_type": "stream",
          "text": [
            "\n",
            "  0%|          | 8/2000 [00:21<1:21:46,  2.46s/it]\u001b[A"
          ],
          "name": "stderr"
        },
        {
          "output_type": "stream",
          "text": [
            "Epoch 8, gen loss=0.6925296783447266,disc loss=1.0079082250595093\n"
          ],
          "name": "stdout"
        },
        {
          "output_type": "stream",
          "text": [
            "\n",
            "  0%|          | 9/2000 [00:23<1:17:58,  2.35s/it]\u001b[A"
          ],
          "name": "stderr"
        },
        {
          "output_type": "stream",
          "text": [
            "Epoch 9, gen loss=0.6924771666526794,disc loss=1.007838487625122\n"
          ],
          "name": "stdout"
        },
        {
          "output_type": "stream",
          "text": [
            "\n",
            "  0%|          | 10/2000 [00:25<1:15:27,  2.28s/it]\u001b[A"
          ],
          "name": "stderr"
        },
        {
          "output_type": "stream",
          "text": [
            "Epoch 10, gen loss=0.6923859715461731,disc loss=1.007658839225769\n"
          ],
          "name": "stdout"
        },
        {
          "output_type": "stream",
          "text": [
            "\n",
            "  1%|          | 11/2000 [00:27<1:13:33,  2.22s/it]\u001b[A"
          ],
          "name": "stderr"
        },
        {
          "output_type": "stream",
          "text": [
            "Epoch 11, gen loss=0.6925653219223022,disc loss=1.0076930522918701\n"
          ],
          "name": "stdout"
        },
        {
          "output_type": "stream",
          "text": [
            "\n",
            "  1%|          | 12/2000 [00:29<1:12:08,  2.18s/it]\u001b[A"
          ],
          "name": "stderr"
        },
        {
          "output_type": "stream",
          "text": [
            "Epoch 12, gen loss=0.6927602291107178,disc loss=1.0073628425598145\n"
          ],
          "name": "stdout"
        },
        {
          "output_type": "stream",
          "text": [
            "\n",
            "  1%|          | 13/2000 [00:31<1:11:06,  2.15s/it]\u001b[A"
          ],
          "name": "stderr"
        },
        {
          "output_type": "stream",
          "text": [
            "Epoch 13, gen loss=0.6929221749305725,disc loss=1.0069197416305542\n"
          ],
          "name": "stdout"
        },
        {
          "output_type": "stream",
          "text": [
            "\n",
            "  1%|          | 14/2000 [00:33<1:10:20,  2.13s/it]\u001b[A"
          ],
          "name": "stderr"
        },
        {
          "output_type": "stream",
          "text": [
            "Epoch 14, gen loss=0.6929503679275513,disc loss=1.0069059133529663\n"
          ],
          "name": "stdout"
        },
        {
          "output_type": "stream",
          "text": [
            "\n",
            "  1%|          | 15/2000 [00:35<1:09:48,  2.11s/it]\u001b[A"
          ],
          "name": "stderr"
        },
        {
          "output_type": "stream",
          "text": [
            "Epoch 15, gen loss=0.6930544376373291,disc loss=1.0066674947738647\n"
          ],
          "name": "stdout"
        },
        {
          "output_type": "stream",
          "text": [
            "\n",
            "  1%|          | 16/2000 [00:37<1:09:36,  2.11s/it]\u001b[A"
          ],
          "name": "stderr"
        },
        {
          "output_type": "stream",
          "text": [
            "Epoch 16, gen loss=0.6930676102638245,disc loss=1.0066540241241455\n"
          ],
          "name": "stdout"
        },
        {
          "output_type": "stream",
          "text": [
            "\n",
            "  1%|          | 17/2000 [00:40<1:09:21,  2.10s/it]\u001b[A"
          ],
          "name": "stderr"
        },
        {
          "output_type": "stream",
          "text": [
            "Epoch 17, gen loss=0.6930795907974243,disc loss=1.0065953731536865\n"
          ],
          "name": "stdout"
        },
        {
          "output_type": "stream",
          "text": [
            "\n",
            "  1%|          | 18/2000 [00:42<1:09:05,  2.09s/it]\u001b[A"
          ],
          "name": "stderr"
        },
        {
          "output_type": "stream",
          "text": [
            "Epoch 18, gen loss=0.6930832266807556,disc loss=1.0065639019012451\n"
          ],
          "name": "stdout"
        },
        {
          "output_type": "stream",
          "text": [
            "\n",
            "  1%|          | 19/2000 [00:44<1:09:04,  2.09s/it]\u001b[A"
          ],
          "name": "stderr"
        },
        {
          "output_type": "stream",
          "text": [
            "Epoch 19, gen loss=0.6930932402610779,disc loss=1.0065293312072754\n"
          ],
          "name": "stdout"
        },
        {
          "output_type": "stream",
          "text": [
            "\n",
            "  1%|          | 20/2000 [00:46<1:08:59,  2.09s/it]\u001b[A"
          ],
          "name": "stderr"
        },
        {
          "output_type": "stream",
          "text": [
            "Epoch 20, gen loss=0.6930950880050659,disc loss=1.0065650939941406\n"
          ],
          "name": "stdout"
        },
        {
          "output_type": "stream",
          "text": [
            "\n",
            "  1%|          | 21/2000 [00:48<1:08:57,  2.09s/it]\u001b[A"
          ],
          "name": "stderr"
        },
        {
          "output_type": "stream",
          "text": [
            "Epoch 21, gen loss=0.6931077241897583,disc loss=1.0065062046051025\n"
          ],
          "name": "stdout"
        },
        {
          "output_type": "stream",
          "text": [
            "\n",
            "  1%|          | 22/2000 [00:50<1:08:52,  2.09s/it]\u001b[A"
          ],
          "name": "stderr"
        },
        {
          "output_type": "stream",
          "text": [
            "Epoch 22, gen loss=0.6931183338165283,disc loss=1.006492257118225\n"
          ],
          "name": "stdout"
        },
        {
          "output_type": "stream",
          "text": [
            "\n",
            "  1%|          | 23/2000 [00:52<1:08:45,  2.09s/it]\u001b[A"
          ],
          "name": "stderr"
        },
        {
          "output_type": "stream",
          "text": [
            "Epoch 23, gen loss=0.6931119561195374,disc loss=1.006498098373413\n"
          ],
          "name": "stdout"
        },
        {
          "output_type": "stream",
          "text": [
            "\n",
            "  1%|          | 24/2000 [00:54<1:08:35,  2.08s/it]\u001b[A"
          ],
          "name": "stderr"
        },
        {
          "output_type": "stream",
          "text": [
            "Epoch 24, gen loss=0.693130373954773,disc loss=1.0064795017242432\n"
          ],
          "name": "stdout"
        },
        {
          "output_type": "stream",
          "text": [
            "\n",
            "  1%|▏         | 25/2000 [00:56<1:08:24,  2.08s/it]\u001b[A"
          ],
          "name": "stderr"
        },
        {
          "output_type": "stream",
          "text": [
            "Epoch 25, gen loss=0.693122148513794,disc loss=1.006473422050476\n"
          ],
          "name": "stdout"
        },
        {
          "output_type": "stream",
          "text": [
            "\n",
            "  1%|▏         | 26/2000 [00:58<1:08:19,  2.08s/it]\u001b[A"
          ],
          "name": "stderr"
        },
        {
          "output_type": "stream",
          "text": [
            "Epoch 26, gen loss=0.6931287050247192,disc loss=1.0064642429351807\n"
          ],
          "name": "stdout"
        },
        {
          "output_type": "stream",
          "text": [
            "\n",
            "  1%|▏         | 27/2000 [01:00<1:08:17,  2.08s/it]\u001b[A"
          ],
          "name": "stderr"
        },
        {
          "output_type": "stream",
          "text": [
            "Epoch 27, gen loss=0.6931337714195251,disc loss=1.0064536333084106\n"
          ],
          "name": "stdout"
        },
        {
          "output_type": "stream",
          "text": [
            "\n",
            "  1%|▏         | 28/2000 [01:02<1:08:09,  2.07s/it]\u001b[A"
          ],
          "name": "stderr"
        },
        {
          "output_type": "stream",
          "text": [
            "Epoch 28, gen loss=0.6931307315826416,disc loss=1.0064462423324585\n"
          ],
          "name": "stdout"
        },
        {
          "output_type": "stream",
          "text": [
            "\n",
            "  1%|▏         | 29/2000 [01:04<1:08:19,  2.08s/it]\u001b[A"
          ],
          "name": "stderr"
        },
        {
          "output_type": "stream",
          "text": [
            "Epoch 29, gen loss=0.693135142326355,disc loss=1.0064409971237183\n"
          ],
          "name": "stdout"
        },
        {
          "output_type": "stream",
          "text": [
            "\n",
            "  2%|▏         | 30/2000 [01:07<1:08:20,  2.08s/it]\u001b[A"
          ],
          "name": "stderr"
        },
        {
          "output_type": "stream",
          "text": [
            "Epoch 30, gen loss=0.6931363940238953,disc loss=1.0064489841461182\n"
          ],
          "name": "stdout"
        },
        {
          "output_type": "stream",
          "text": [
            "\n",
            "  2%|▏         | 31/2000 [01:09<1:08:18,  2.08s/it]\u001b[A"
          ],
          "name": "stderr"
        },
        {
          "output_type": "stream",
          "text": [
            "Epoch 31, gen loss=0.6931366324424744,disc loss=1.0064367055892944\n"
          ],
          "name": "stdout"
        },
        {
          "output_type": "stream",
          "text": [
            "\n",
            "  2%|▏         | 32/2000 [01:11<1:08:15,  2.08s/it]\u001b[A"
          ],
          "name": "stderr"
        },
        {
          "output_type": "stream",
          "text": [
            "Epoch 32, gen loss=0.693135142326355,disc loss=1.0064457654953003\n"
          ],
          "name": "stdout"
        },
        {
          "output_type": "stream",
          "text": [
            "\n",
            "  2%|▏         | 33/2000 [01:13<1:08:06,  2.08s/it]\u001b[A"
          ],
          "name": "stderr"
        },
        {
          "output_type": "stream",
          "text": [
            "Epoch 33, gen loss=0.6931352615356445,disc loss=1.006447434425354\n"
          ],
          "name": "stdout"
        },
        {
          "output_type": "stream",
          "text": [
            "\n",
            "  2%|▏         | 34/2000 [01:15<1:07:58,  2.07s/it]\u001b[A"
          ],
          "name": "stderr"
        },
        {
          "output_type": "stream",
          "text": [
            "Epoch 34, gen loss=0.6931325197219849,disc loss=1.0064475536346436\n"
          ],
          "name": "stdout"
        },
        {
          "output_type": "stream",
          "text": [
            "\n",
            "  2%|▏         | 35/2000 [01:17<1:07:59,  2.08s/it]\u001b[A"
          ],
          "name": "stderr"
        },
        {
          "output_type": "stream",
          "text": [
            "Epoch 35, gen loss=0.6931374073028564,disc loss=1.006438136100769\n"
          ],
          "name": "stdout"
        },
        {
          "output_type": "stream",
          "text": [
            "\n",
            "  2%|▏         | 36/2000 [01:19<1:07:52,  2.07s/it]\u001b[A"
          ],
          "name": "stderr"
        },
        {
          "output_type": "stream",
          "text": [
            "Epoch 36, gen loss=0.6931407451629639,disc loss=1.0064282417297363\n"
          ],
          "name": "stdout"
        },
        {
          "output_type": "stream",
          "text": [
            "\n",
            "  2%|▏         | 37/2000 [01:21<1:07:55,  2.08s/it]\u001b[A"
          ],
          "name": "stderr"
        },
        {
          "output_type": "stream",
          "text": [
            "Epoch 37, gen loss=0.6931410431861877,disc loss=1.0064300298690796\n"
          ],
          "name": "stdout"
        },
        {
          "output_type": "stream",
          "text": [
            "\n",
            "  2%|▏         | 38/2000 [01:23<1:07:45,  2.07s/it]\u001b[A"
          ],
          "name": "stderr"
        },
        {
          "output_type": "stream",
          "text": [
            "Epoch 38, gen loss=0.6931381821632385,disc loss=1.0064388513565063\n"
          ],
          "name": "stdout"
        },
        {
          "output_type": "stream",
          "text": [
            "\n",
            "  2%|▏         | 39/2000 [01:25<1:07:41,  2.07s/it]\u001b[A"
          ],
          "name": "stderr"
        },
        {
          "output_type": "stream",
          "text": [
            "Epoch 39, gen loss=0.693139374256134,disc loss=1.0064358711242676\n"
          ],
          "name": "stdout"
        },
        {
          "output_type": "stream",
          "text": [
            "\n",
            "  2%|▏         | 40/2000 [01:27<1:07:43,  2.07s/it]\u001b[A"
          ],
          "name": "stderr"
        },
        {
          "output_type": "stream",
          "text": [
            "Epoch 40, gen loss=0.6931380033493042,disc loss=1.0064343214035034\n"
          ],
          "name": "stdout"
        },
        {
          "output_type": "stream",
          "text": [
            "\n",
            "  2%|▏         | 41/2000 [01:29<1:07:36,  2.07s/it]\u001b[A"
          ],
          "name": "stderr"
        },
        {
          "output_type": "stream",
          "text": [
            "Epoch 41, gen loss=0.6931406855583191,disc loss=1.0064276456832886\n"
          ],
          "name": "stdout"
        },
        {
          "output_type": "stream",
          "text": [
            "\n",
            "  2%|▏         | 42/2000 [01:31<1:07:34,  2.07s/it]\u001b[A"
          ],
          "name": "stderr"
        },
        {
          "output_type": "stream",
          "text": [
            "Epoch 42, gen loss=0.6931389570236206,disc loss=1.0064305067062378\n"
          ],
          "name": "stdout"
        },
        {
          "output_type": "stream",
          "text": [
            "\n",
            "  2%|▏         | 43/2000 [01:34<1:07:34,  2.07s/it]\u001b[A"
          ],
          "name": "stderr"
        },
        {
          "output_type": "stream",
          "text": [
            "Epoch 43, gen loss=0.6931414604187012,disc loss=1.0064257383346558\n"
          ],
          "name": "stdout"
        },
        {
          "output_type": "stream",
          "text": [
            "\n",
            "  2%|▏         | 44/2000 [01:36<1:07:38,  2.07s/it]\u001b[A"
          ],
          "name": "stderr"
        },
        {
          "output_type": "stream",
          "text": [
            "Epoch 44, gen loss=0.6931386590003967,disc loss=1.006439208984375\n"
          ],
          "name": "stdout"
        },
        {
          "output_type": "stream",
          "text": [
            "\n",
            "  2%|▏         | 45/2000 [01:38<1:07:36,  2.07s/it]\u001b[A"
          ],
          "name": "stderr"
        },
        {
          "output_type": "stream",
          "text": [
            "Epoch 45, gen loss=0.6931411027908325,disc loss=1.006426215171814\n"
          ],
          "name": "stdout"
        },
        {
          "output_type": "stream",
          "text": [
            "\n",
            "  2%|▏         | 46/2000 [01:40<1:07:31,  2.07s/it]\u001b[A"
          ],
          "name": "stderr"
        },
        {
          "output_type": "stream",
          "text": [
            "Epoch 46, gen loss=0.693141520023346,disc loss=1.0064257383346558\n"
          ],
          "name": "stdout"
        },
        {
          "output_type": "stream",
          "text": [
            "\n",
            "  2%|▏         | 47/2000 [01:42<1:07:29,  2.07s/it]\u001b[A"
          ],
          "name": "stderr"
        },
        {
          "output_type": "stream",
          "text": [
            "Epoch 47, gen loss=0.6931431293487549,disc loss=1.0064198970794678\n"
          ],
          "name": "stdout"
        },
        {
          "output_type": "stream",
          "text": [
            "\n",
            "  2%|▏         | 48/2000 [01:44<1:07:27,  2.07s/it]\u001b[A"
          ],
          "name": "stderr"
        },
        {
          "output_type": "stream",
          "text": [
            "Epoch 48, gen loss=0.6931427717208862,disc loss=1.0064241886138916\n"
          ],
          "name": "stdout"
        },
        {
          "output_type": "stream",
          "text": [
            "\n",
            "  2%|▏         | 49/2000 [01:46<1:07:30,  2.08s/it]\u001b[A"
          ],
          "name": "stderr"
        },
        {
          "output_type": "stream",
          "text": [
            "Epoch 49, gen loss=0.6931424736976624,disc loss=1.0064226388931274\n"
          ],
          "name": "stdout"
        },
        {
          "output_type": "stream",
          "text": [
            "\n",
            "  2%|▎         | 50/2000 [01:48<1:07:30,  2.08s/it]\u001b[A"
          ],
          "name": "stderr"
        },
        {
          "output_type": "stream",
          "text": [
            "Epoch 50, gen loss=0.6931434273719788,disc loss=1.0064183473587036\n"
          ],
          "name": "stdout"
        },
        {
          "output_type": "stream",
          "text": [
            "\n",
            "  3%|▎         | 51/2000 [01:50<1:07:23,  2.07s/it]\u001b[A"
          ],
          "name": "stderr"
        },
        {
          "output_type": "stream",
          "text": [
            "Epoch 51, gen loss=0.6931437849998474,disc loss=1.0064200162887573\n"
          ],
          "name": "stdout"
        },
        {
          "output_type": "stream",
          "text": [
            "\n",
            "  3%|▎         | 52/2000 [01:52<1:07:23,  2.08s/it]\u001b[A"
          ],
          "name": "stderr"
        },
        {
          "output_type": "stream",
          "text": [
            "Epoch 52, gen loss=0.693143904209137,disc loss=1.0064173936843872\n"
          ],
          "name": "stdout"
        },
        {
          "output_type": "stream",
          "text": [
            "\n",
            "  3%|▎         | 53/2000 [01:54<1:07:37,  2.08s/it]\u001b[A"
          ],
          "name": "stderr"
        },
        {
          "output_type": "stream",
          "text": [
            "Epoch 53, gen loss=0.6931439638137817,disc loss=1.0064176321029663\n"
          ],
          "name": "stdout"
        },
        {
          "output_type": "stream",
          "text": [
            "\n",
            "  3%|▎         | 54/2000 [01:56<1:07:31,  2.08s/it]\u001b[A"
          ],
          "name": "stderr"
        },
        {
          "output_type": "stream",
          "text": [
            "Epoch 54, gen loss=0.6931443810462952,disc loss=1.0064185857772827\n"
          ],
          "name": "stdout"
        },
        {
          "output_type": "stream",
          "text": [
            "\n",
            "  3%|▎         | 55/2000 [01:58<1:07:33,  2.08s/it]\u001b[A"
          ],
          "name": "stderr"
        },
        {
          "output_type": "stream",
          "text": [
            "Epoch 55, gen loss=0.693143904209137,disc loss=1.006416916847229\n"
          ],
          "name": "stdout"
        },
        {
          "output_type": "stream",
          "text": [
            "\n",
            "  3%|▎         | 56/2000 [02:01<1:07:22,  2.08s/it]\u001b[A"
          ],
          "name": "stderr"
        },
        {
          "output_type": "stream",
          "text": [
            "Epoch 56, gen loss=0.6931440830230713,disc loss=1.0064201354980469\n"
          ],
          "name": "stdout"
        },
        {
          "output_type": "stream",
          "text": [
            "\n",
            "  3%|▎         | 57/2000 [02:03<1:07:10,  2.07s/it]\u001b[A"
          ],
          "name": "stderr"
        },
        {
          "output_type": "stream",
          "text": [
            "Epoch 57, gen loss=0.6931435465812683,disc loss=1.0064197778701782\n"
          ],
          "name": "stdout"
        },
        {
          "output_type": "stream",
          "text": [
            "\n",
            "  3%|▎         | 58/2000 [02:05<1:07:09,  2.07s/it]\u001b[A"
          ],
          "name": "stderr"
        },
        {
          "output_type": "stream",
          "text": [
            "Epoch 58, gen loss=0.6931441426277161,disc loss=1.00641930103302\n"
          ],
          "name": "stdout"
        },
        {
          "output_type": "stream",
          "text": [
            "\n",
            "  3%|▎         | 59/2000 [02:07<1:07:00,  2.07s/it]\u001b[A"
          ],
          "name": "stderr"
        },
        {
          "output_type": "stream",
          "text": [
            "Epoch 59, gen loss=0.6931438446044922,disc loss=1.0064170360565186\n"
          ],
          "name": "stdout"
        },
        {
          "output_type": "stream",
          "text": [
            "\n",
            "  3%|▎         | 60/2000 [02:09<1:06:55,  2.07s/it]\u001b[A"
          ],
          "name": "stderr"
        },
        {
          "output_type": "stream",
          "text": [
            "Epoch 60, gen loss=0.6931448578834534,disc loss=1.0064165592193604\n"
          ],
          "name": "stdout"
        },
        {
          "output_type": "stream",
          "text": [
            "\n",
            "  3%|▎         | 61/2000 [02:11<1:07:02,  2.07s/it]\u001b[A"
          ],
          "name": "stderr"
        },
        {
          "output_type": "stream",
          "text": [
            "Epoch 61, gen loss=0.693143904209137,disc loss=1.0064159631729126\n"
          ],
          "name": "stdout"
        },
        {
          "output_type": "stream",
          "text": [
            "\n",
            "  3%|▎         | 62/2000 [02:13<1:06:59,  2.07s/it]\u001b[A"
          ],
          "name": "stderr"
        },
        {
          "output_type": "stream",
          "text": [
            "Epoch 62, gen loss=0.693143904209137,disc loss=1.0064197778701782\n"
          ],
          "name": "stdout"
        },
        {
          "output_type": "stream",
          "text": [
            "\n",
            "  3%|▎         | 63/2000 [02:15<1:06:56,  2.07s/it]\u001b[A"
          ],
          "name": "stderr"
        },
        {
          "output_type": "stream",
          "text": [
            "Epoch 63, gen loss=0.6931437253952026,disc loss=1.0064159631729126\n"
          ],
          "name": "stdout"
        },
        {
          "output_type": "stream",
          "text": [
            "\n",
            "  3%|▎         | 64/2000 [02:17<1:06:55,  2.07s/it]\u001b[A"
          ],
          "name": "stderr"
        },
        {
          "output_type": "stream",
          "text": [
            "Epoch 64, gen loss=0.6931449174880981,disc loss=1.0064146518707275\n"
          ],
          "name": "stdout"
        },
        {
          "output_type": "stream",
          "text": [
            "\n",
            "  3%|▎         | 65/2000 [02:19<1:06:51,  2.07s/it]\u001b[A"
          ],
          "name": "stderr"
        },
        {
          "output_type": "stream",
          "text": [
            "Epoch 65, gen loss=0.6931447386741638,disc loss=1.0064177513122559\n"
          ],
          "name": "stdout"
        },
        {
          "output_type": "stream",
          "text": [
            "\n",
            "  3%|▎         | 66/2000 [02:21<1:06:54,  2.08s/it]\u001b[A"
          ],
          "name": "stderr"
        },
        {
          "output_type": "stream",
          "text": [
            "Epoch 66, gen loss=0.6931445002555847,disc loss=1.006415843963623\n"
          ],
          "name": "stdout"
        },
        {
          "output_type": "stream",
          "text": [
            "\n",
            "  3%|▎         | 67/2000 [02:23<1:06:52,  2.08s/it]\u001b[A"
          ],
          "name": "stderr"
        },
        {
          "output_type": "stream",
          "text": [
            "Epoch 67, gen loss=0.6931442022323608,disc loss=1.0064163208007812\n"
          ],
          "name": "stdout"
        },
        {
          "output_type": "stream",
          "text": [
            "\n",
            "  3%|▎         | 68/2000 [02:25<1:06:51,  2.08s/it]\u001b[A"
          ],
          "name": "stderr"
        },
        {
          "output_type": "stream",
          "text": [
            "Epoch 68, gen loss=0.6931453347206116,disc loss=1.0064163208007812\n"
          ],
          "name": "stdout"
        },
        {
          "output_type": "stream",
          "text": [
            "\n",
            "  3%|▎         | 69/2000 [02:28<1:06:53,  2.08s/it]\u001b[A"
          ],
          "name": "stderr"
        },
        {
          "output_type": "stream",
          "text": [
            "Epoch 69, gen loss=0.6931445002555847,disc loss=1.0064165592193604\n"
          ],
          "name": "stdout"
        },
        {
          "output_type": "stream",
          "text": [
            "\n",
            "  4%|▎         | 70/2000 [02:30<1:06:47,  2.08s/it]\u001b[A"
          ],
          "name": "stderr"
        },
        {
          "output_type": "stream",
          "text": [
            "Epoch 70, gen loss=0.6931449174880981,disc loss=1.0064154863357544\n"
          ],
          "name": "stdout"
        },
        {
          "output_type": "stream",
          "text": [
            "\n",
            "  4%|▎         | 71/2000 [02:32<1:06:45,  2.08s/it]\u001b[A"
          ],
          "name": "stderr"
        },
        {
          "output_type": "stream",
          "text": [
            "Epoch 71, gen loss=0.6931449770927429,disc loss=1.0064175128936768\n"
          ],
          "name": "stdout"
        },
        {
          "output_type": "stream",
          "text": [
            "\n",
            "  4%|▎         | 72/2000 [02:34<1:06:38,  2.07s/it]\u001b[A"
          ],
          "name": "stderr"
        },
        {
          "output_type": "stream",
          "text": [
            "Epoch 72, gen loss=0.6931437253952026,disc loss=1.0064407587051392\n"
          ],
          "name": "stdout"
        },
        {
          "output_type": "stream",
          "text": [
            "\n",
            "  4%|▎         | 73/2000 [02:36<1:06:36,  2.07s/it]\u001b[A"
          ],
          "name": "stderr"
        },
        {
          "output_type": "stream",
          "text": [
            "Epoch 73, gen loss=0.6931381821632385,disc loss=1.006428599357605\n"
          ],
          "name": "stdout"
        },
        {
          "output_type": "stream",
          "text": [
            "\n",
            "  4%|▎         | 74/2000 [02:38<1:06:41,  2.08s/it]\u001b[A"
          ],
          "name": "stderr"
        },
        {
          "output_type": "stream",
          "text": [
            "Epoch 74, gen loss=0.6931437253952026,disc loss=1.006415843963623\n"
          ],
          "name": "stdout"
        },
        {
          "output_type": "stream",
          "text": [
            "\n",
            "  4%|▍         | 75/2000 [02:40<1:06:37,  2.08s/it]\u001b[A"
          ],
          "name": "stderr"
        },
        {
          "output_type": "stream",
          "text": [
            "Epoch 75, gen loss=0.6931445598602295,disc loss=1.0064163208007812\n"
          ],
          "name": "stdout"
        },
        {
          "output_type": "stream",
          "text": [
            "\n",
            "  4%|▍         | 76/2000 [02:42<1:06:31,  2.07s/it]\u001b[A"
          ],
          "name": "stderr"
        },
        {
          "output_type": "stream",
          "text": [
            "Epoch 76, gen loss=0.6931455731391907,disc loss=1.006415843963623\n"
          ],
          "name": "stdout"
        },
        {
          "output_type": "stream",
          "text": [
            "\n",
            "  4%|▍         | 77/2000 [02:44<1:06:27,  2.07s/it]\u001b[A"
          ],
          "name": "stderr"
        },
        {
          "output_type": "stream",
          "text": [
            "Epoch 77, gen loss=0.6931451559066772,disc loss=1.006414532661438\n"
          ],
          "name": "stdout"
        },
        {
          "output_type": "stream",
          "text": [
            "\n",
            "  4%|▍         | 78/2000 [02:46<1:06:25,  2.07s/it]\u001b[A"
          ],
          "name": "stderr"
        },
        {
          "output_type": "stream",
          "text": [
            "Epoch 78, gen loss=0.6931449174880981,disc loss=1.0064151287078857\n"
          ],
          "name": "stdout"
        },
        {
          "output_type": "stream",
          "text": [
            "\n",
            "  4%|▍         | 79/2000 [02:48<1:06:24,  2.07s/it]\u001b[A"
          ],
          "name": "stderr"
        },
        {
          "output_type": "stream",
          "text": [
            "Epoch 79, gen loss=0.6931453943252563,disc loss=1.0064138174057007\n"
          ],
          "name": "stdout"
        },
        {
          "output_type": "stream",
          "text": [
            "\n",
            "  4%|▍         | 80/2000 [02:50<1:06:24,  2.08s/it]\u001b[A"
          ],
          "name": "stderr"
        },
        {
          "output_type": "stream",
          "text": [
            "Epoch 80, gen loss=0.6931453943252563,disc loss=1.0064133405685425\n"
          ],
          "name": "stdout"
        },
        {
          "output_type": "stream",
          "text": [
            "\n",
            "  4%|▍         | 81/2000 [02:52<1:06:21,  2.08s/it]\u001b[A"
          ],
          "name": "stderr"
        },
        {
          "output_type": "stream",
          "text": [
            "Epoch 81, gen loss=0.6931453347206116,disc loss=1.0064144134521484\n"
          ],
          "name": "stdout"
        },
        {
          "output_type": "stream",
          "text": [
            "\n",
            "  4%|▍         | 82/2000 [02:54<1:06:23,  2.08s/it]\u001b[A"
          ],
          "name": "stderr"
        },
        {
          "output_type": "stream",
          "text": [
            "Epoch 82, gen loss=0.6931447982788086,disc loss=1.0064154863357544\n"
          ],
          "name": "stdout"
        },
        {
          "output_type": "stream",
          "text": [
            "\n",
            "  4%|▍         | 83/2000 [02:57<1:06:19,  2.08s/it]\u001b[A"
          ],
          "name": "stderr"
        },
        {
          "output_type": "stream",
          "text": [
            "Epoch 83, gen loss=0.6931448578834534,disc loss=1.0064153671264648\n"
          ],
          "name": "stdout"
        },
        {
          "output_type": "stream",
          "text": [
            "\n",
            "  4%|▍         | 84/2000 [02:59<1:06:17,  2.08s/it]\u001b[A"
          ],
          "name": "stderr"
        },
        {
          "output_type": "stream",
          "text": [
            "Epoch 84, gen loss=0.6931449174880981,disc loss=1.0064175128936768\n"
          ],
          "name": "stdout"
        },
        {
          "output_type": "stream",
          "text": [
            "\n",
            "  4%|▍         | 85/2000 [03:01<1:06:19,  2.08s/it]\u001b[A"
          ],
          "name": "stderr"
        },
        {
          "output_type": "stream",
          "text": [
            "Epoch 85, gen loss=0.6931446194648743,disc loss=1.0064139366149902\n"
          ],
          "name": "stdout"
        },
        {
          "output_type": "stream",
          "text": [
            "\n",
            "  4%|▍         | 86/2000 [03:03<1:06:15,  2.08s/it]\u001b[A"
          ],
          "name": "stderr"
        },
        {
          "output_type": "stream",
          "text": [
            "Epoch 86, gen loss=0.6931447982788086,disc loss=1.0064153671264648\n"
          ],
          "name": "stdout"
        },
        {
          "output_type": "stream",
          "text": [
            "\n",
            "  4%|▍         | 87/2000 [03:05<1:06:12,  2.08s/it]\u001b[A"
          ],
          "name": "stderr"
        },
        {
          "output_type": "stream",
          "text": [
            "Epoch 87, gen loss=0.6931451559066772,disc loss=1.0064138174057007\n"
          ],
          "name": "stdout"
        },
        {
          "output_type": "stream",
          "text": [
            "\n",
            "  4%|▍         | 88/2000 [03:07<1:06:13,  2.08s/it]\u001b[A"
          ],
          "name": "stderr"
        },
        {
          "output_type": "stream",
          "text": [
            "Epoch 88, gen loss=0.6931447386741638,disc loss=1.0064141750335693\n"
          ],
          "name": "stdout"
        },
        {
          "output_type": "stream",
          "text": [
            "\n",
            "  4%|▍         | 89/2000 [03:09<1:06:09,  2.08s/it]\u001b[A"
          ],
          "name": "stderr"
        },
        {
          "output_type": "stream",
          "text": [
            "Epoch 89, gen loss=0.693145751953125,disc loss=1.0064127445220947\n"
          ],
          "name": "stdout"
        },
        {
          "output_type": "stream",
          "text": [
            "\n",
            "  4%|▍         | 90/2000 [03:11<1:06:07,  2.08s/it]\u001b[A"
          ],
          "name": "stderr"
        },
        {
          "output_type": "stream",
          "text": [
            "Epoch 90, gen loss=0.6931455135345459,disc loss=1.0064141750335693\n"
          ],
          "name": "stdout"
        },
        {
          "output_type": "stream",
          "text": [
            "\n",
            "  5%|▍         | 91/2000 [03:13<1:06:02,  2.08s/it]\u001b[A"
          ],
          "name": "stderr"
        },
        {
          "output_type": "stream",
          "text": [
            "Epoch 91, gen loss=0.6931446194648743,disc loss=1.0064151287078857\n"
          ],
          "name": "stdout"
        },
        {
          "output_type": "stream",
          "text": [
            "\n",
            "  5%|▍         | 92/2000 [03:15<1:05:54,  2.07s/it]\u001b[A"
          ],
          "name": "stderr"
        },
        {
          "output_type": "stream",
          "text": [
            "Epoch 92, gen loss=0.693145215511322,disc loss=1.0064138174057007\n"
          ],
          "name": "stdout"
        },
        {
          "output_type": "stream",
          "text": [
            "\n",
            "  5%|▍         | 93/2000 [03:17<1:05:56,  2.07s/it]\u001b[A"
          ],
          "name": "stderr"
        },
        {
          "output_type": "stream",
          "text": [
            "Epoch 93, gen loss=0.6931450963020325,disc loss=1.0064144134521484\n"
          ],
          "name": "stdout"
        },
        {
          "output_type": "stream",
          "text": [
            "\n",
            "  5%|▍         | 94/2000 [03:19<1:05:49,  2.07s/it]\u001b[A"
          ],
          "name": "stderr"
        },
        {
          "output_type": "stream",
          "text": [
            "Epoch 94, gen loss=0.6931455135345459,disc loss=1.0064127445220947\n"
          ],
          "name": "stdout"
        },
        {
          "output_type": "stream",
          "text": [
            "\n",
            "  5%|▍         | 95/2000 [03:21<1:05:51,  2.07s/it]\u001b[A"
          ],
          "name": "stderr"
        },
        {
          "output_type": "stream",
          "text": [
            "Epoch 95, gen loss=0.6931459307670593,disc loss=1.006412386894226\n"
          ],
          "name": "stdout"
        },
        {
          "output_type": "stream",
          "text": [
            "\n",
            "  5%|▍         | 96/2000 [03:24<1:05:57,  2.08s/it]\u001b[A"
          ],
          "name": "stderr"
        },
        {
          "output_type": "stream",
          "text": [
            "Epoch 96, gen loss=0.6931455731391907,disc loss=1.0064151287078857\n"
          ],
          "name": "stdout"
        },
        {
          "output_type": "stream",
          "text": [
            "\n",
            "  5%|▍         | 97/2000 [03:26<1:05:46,  2.07s/it]\u001b[A"
          ],
          "name": "stderr"
        },
        {
          "output_type": "stream",
          "text": [
            "Epoch 97, gen loss=0.6931453347206116,disc loss=1.0064133405685425\n"
          ],
          "name": "stdout"
        },
        {
          "output_type": "stream",
          "text": [
            "\n",
            "  5%|▍         | 98/2000 [03:28<1:05:51,  2.08s/it]\u001b[A"
          ],
          "name": "stderr"
        },
        {
          "output_type": "stream",
          "text": [
            "Epoch 98, gen loss=0.6931451559066772,disc loss=1.0064141750335693\n"
          ],
          "name": "stdout"
        },
        {
          "output_type": "stream",
          "text": [
            "\n",
            "  5%|▍         | 99/2000 [03:30<1:05:48,  2.08s/it]\u001b[A"
          ],
          "name": "stderr"
        },
        {
          "output_type": "stream",
          "text": [
            "Epoch 99, gen loss=0.6931448578834534,disc loss=1.0064140558242798\n"
          ],
          "name": "stdout"
        },
        {
          "output_type": "stream",
          "text": [
            "\n",
            "  5%|▌         | 100/2000 [03:32<1:05:41,  2.07s/it]\u001b[A"
          ],
          "name": "stderr"
        },
        {
          "output_type": "stream",
          "text": [
            "Epoch 100, gen loss=0.6931461095809937,disc loss=1.006413221359253\n"
          ],
          "name": "stdout"
        },
        {
          "output_type": "stream",
          "text": [
            "\n",
            "  5%|▌         | 101/2000 [03:34<1:07:12,  2.12s/it]\u001b[A"
          ],
          "name": "stderr"
        },
        {
          "output_type": "stream",
          "text": [
            "Epoch 101, gen loss=0.6931440830230713,disc loss=1.0064170360565186\n"
          ],
          "name": "stdout"
        },
        {
          "output_type": "stream",
          "text": [
            "\n",
            "  5%|▌         | 102/2000 [03:36<1:06:40,  2.11s/it]\u001b[A"
          ],
          "name": "stderr"
        },
        {
          "output_type": "stream",
          "text": [
            "Epoch 102, gen loss=0.6931445002555847,disc loss=1.006415843963623\n"
          ],
          "name": "stdout"
        },
        {
          "output_type": "stream",
          "text": [
            "\n",
            "  5%|▌         | 103/2000 [03:38<1:06:17,  2.10s/it]\u001b[A"
          ],
          "name": "stderr"
        },
        {
          "output_type": "stream",
          "text": [
            "Epoch 103, gen loss=0.6931443214416504,disc loss=1.0064162015914917\n"
          ],
          "name": "stdout"
        },
        {
          "output_type": "stream",
          "text": [
            "\n",
            "  5%|▌         | 104/2000 [03:40<1:06:06,  2.09s/it]\u001b[A"
          ],
          "name": "stderr"
        },
        {
          "output_type": "stream",
          "text": [
            "Epoch 104, gen loss=0.693145215511322,disc loss=1.0064139366149902\n"
          ],
          "name": "stdout"
        },
        {
          "output_type": "stream",
          "text": [
            "\n",
            "  5%|▌         | 105/2000 [03:42<1:05:53,  2.09s/it]\u001b[A"
          ],
          "name": "stderr"
        },
        {
          "output_type": "stream",
          "text": [
            "Epoch 105, gen loss=0.693145215511322,disc loss=1.0064140558242798\n"
          ],
          "name": "stdout"
        },
        {
          "output_type": "stream",
          "text": [
            "\n",
            "  5%|▌         | 106/2000 [03:44<1:05:45,  2.08s/it]\u001b[A"
          ],
          "name": "stderr"
        },
        {
          "output_type": "stream",
          "text": [
            "Epoch 106, gen loss=0.6931454539299011,disc loss=1.006414532661438\n"
          ],
          "name": "stdout"
        },
        {
          "output_type": "stream",
          "text": [
            "\n",
            "  5%|▌         | 107/2000 [03:47<1:05:37,  2.08s/it]\u001b[A"
          ],
          "name": "stderr"
        },
        {
          "output_type": "stream",
          "text": [
            "Epoch 107, gen loss=0.6931450963020325,disc loss=1.0064150094985962\n"
          ],
          "name": "stdout"
        },
        {
          "output_type": "stream",
          "text": [
            "\n",
            "  5%|▌         | 108/2000 [03:49<1:05:28,  2.08s/it]\u001b[A"
          ],
          "name": "stderr"
        },
        {
          "output_type": "stream",
          "text": [
            "Epoch 108, gen loss=0.6931451559066772,disc loss=1.006413221359253\n"
          ],
          "name": "stdout"
        },
        {
          "output_type": "stream",
          "text": [
            "\n",
            "  5%|▌         | 109/2000 [03:51<1:05:26,  2.08s/it]\u001b[A"
          ],
          "name": "stderr"
        },
        {
          "output_type": "stream",
          "text": [
            "Epoch 109, gen loss=0.6931456327438354,disc loss=1.0064146518707275\n"
          ],
          "name": "stdout"
        },
        {
          "output_type": "stream",
          "text": [
            "\n",
            "  6%|▌         | 110/2000 [03:53<1:05:21,  2.07s/it]\u001b[A"
          ],
          "name": "stderr"
        },
        {
          "output_type": "stream",
          "text": [
            "Epoch 110, gen loss=0.6931448578834534,disc loss=1.0064153671264648\n"
          ],
          "name": "stdout"
        },
        {
          "output_type": "stream",
          "text": [
            "\n",
            "  6%|▌         | 111/2000 [03:55<1:05:23,  2.08s/it]\u001b[A"
          ],
          "name": "stderr"
        },
        {
          "output_type": "stream",
          "text": [
            "Epoch 111, gen loss=0.6931448578834534,disc loss=1.0064141750335693\n"
          ],
          "name": "stdout"
        },
        {
          "output_type": "stream",
          "text": [
            "\n",
            "  6%|▌         | 112/2000 [03:57<1:05:23,  2.08s/it]\u001b[A"
          ],
          "name": "stderr"
        },
        {
          "output_type": "stream",
          "text": [
            "Epoch 112, gen loss=0.6931443810462952,disc loss=1.006415843963623\n"
          ],
          "name": "stdout"
        },
        {
          "output_type": "stream",
          "text": [
            "\n",
            "  6%|▌         | 113/2000 [03:59<1:05:15,  2.07s/it]\u001b[A"
          ],
          "name": "stderr"
        },
        {
          "output_type": "stream",
          "text": [
            "Epoch 113, gen loss=0.6931455731391907,disc loss=1.0064135789871216\n"
          ],
          "name": "stdout"
        },
        {
          "output_type": "stream",
          "text": [
            "\n",
            "  6%|▌         | 114/2000 [04:01<1:05:11,  2.07s/it]\u001b[A"
          ],
          "name": "stderr"
        },
        {
          "output_type": "stream",
          "text": [
            "Epoch 114, gen loss=0.6931439638137817,disc loss=1.0064181089401245\n"
          ],
          "name": "stdout"
        },
        {
          "output_type": "stream",
          "text": [
            "\n",
            "  6%|▌         | 115/2000 [04:03<1:05:12,  2.08s/it]\u001b[A"
          ],
          "name": "stderr"
        },
        {
          "output_type": "stream",
          "text": [
            "Epoch 115, gen loss=0.6931453347206116,disc loss=1.0064140558242798\n"
          ],
          "name": "stdout"
        },
        {
          "output_type": "stream",
          "text": [
            "\n",
            "  6%|▌         | 116/2000 [04:05<1:05:10,  2.08s/it]\u001b[A"
          ],
          "name": "stderr"
        },
        {
          "output_type": "stream",
          "text": [
            "Epoch 116, gen loss=0.6931456327438354,disc loss=1.0064136981964111\n"
          ],
          "name": "stdout"
        },
        {
          "output_type": "stream",
          "text": [
            "\n",
            "  6%|▌         | 117/2000 [04:07<1:05:12,  2.08s/it]\u001b[A"
          ],
          "name": "stderr"
        },
        {
          "output_type": "stream",
          "text": [
            "Epoch 117, gen loss=0.6931452751159668,disc loss=1.0064139366149902\n"
          ],
          "name": "stdout"
        },
        {
          "output_type": "stream",
          "text": [
            "\n",
            "  6%|▌         | 118/2000 [04:09<1:05:12,  2.08s/it]\u001b[A"
          ],
          "name": "stderr"
        },
        {
          "output_type": "stream",
          "text": [
            "Epoch 118, gen loss=0.6931452751159668,disc loss=1.006414532661438\n"
          ],
          "name": "stdout"
        },
        {
          "output_type": "stream",
          "text": [
            "\n",
            "  6%|▌         | 119/2000 [04:11<1:05:15,  2.08s/it]\u001b[A"
          ],
          "name": "stderr"
        },
        {
          "output_type": "stream",
          "text": [
            "Epoch 119, gen loss=0.6931449174880981,disc loss=1.006414771080017\n"
          ],
          "name": "stdout"
        },
        {
          "output_type": "stream",
          "text": [
            "\n",
            "  6%|▌         | 120/2000 [04:14<1:05:11,  2.08s/it]\u001b[A"
          ],
          "name": "stderr"
        },
        {
          "output_type": "stream",
          "text": [
            "Epoch 120, gen loss=0.6931442022323608,disc loss=1.006415605545044\n"
          ],
          "name": "stdout"
        },
        {
          "output_type": "stream",
          "text": [
            "\n",
            "  6%|▌         | 121/2000 [04:16<1:05:04,  2.08s/it]\u001b[A"
          ],
          "name": "stderr"
        },
        {
          "output_type": "stream",
          "text": [
            "Epoch 121, gen loss=0.6931452751159668,disc loss=1.0064151287078857\n"
          ],
          "name": "stdout"
        },
        {
          "output_type": "stream",
          "text": [
            "\n",
            "  6%|▌         | 122/2000 [04:18<1:05:03,  2.08s/it]\u001b[A"
          ],
          "name": "stderr"
        },
        {
          "output_type": "stream",
          "text": [
            "Epoch 122, gen loss=0.6931443810462952,disc loss=1.0064154863357544\n"
          ],
          "name": "stdout"
        },
        {
          "output_type": "stream",
          "text": [
            "\n",
            "  6%|▌         | 123/2000 [04:20<1:04:56,  2.08s/it]\u001b[A"
          ],
          "name": "stderr"
        },
        {
          "output_type": "stream",
          "text": [
            "Epoch 123, gen loss=0.6931455731391907,disc loss=1.0064142942428589\n"
          ],
          "name": "stdout"
        },
        {
          "output_type": "stream",
          "text": [
            "\n",
            "  6%|▌         | 124/2000 [04:22<1:04:49,  2.07s/it]\u001b[A"
          ],
          "name": "stderr"
        },
        {
          "output_type": "stream",
          "text": [
            "Epoch 124, gen loss=0.693140983581543,disc loss=1.0064247846603394\n"
          ],
          "name": "stdout"
        },
        {
          "output_type": "stream",
          "text": [
            "\n",
            "  6%|▋         | 125/2000 [04:24<1:04:55,  2.08s/it]\u001b[A"
          ],
          "name": "stderr"
        },
        {
          "output_type": "stream",
          "text": [
            "Epoch 125, gen loss=0.6381694674491882,disc loss=1.2497353553771973\n"
          ],
          "name": "stdout"
        },
        {
          "output_type": "stream",
          "text": [
            "\n",
            "  6%|▋         | 126/2000 [04:26<1:04:49,  2.08s/it]\u001b[A"
          ],
          "name": "stderr"
        },
        {
          "output_type": "stream",
          "text": [
            "Epoch 126, gen loss=0.6864253878593445,disc loss=1.0699816942214966\n"
          ],
          "name": "stdout"
        },
        {
          "output_type": "stream",
          "text": [
            "\n",
            "  6%|▋         | 127/2000 [04:28<1:04:40,  2.07s/it]\u001b[A"
          ],
          "name": "stderr"
        },
        {
          "output_type": "stream",
          "text": [
            "Epoch 127, gen loss=0.6929664611816406,disc loss=1.0070314407348633\n"
          ],
          "name": "stdout"
        },
        {
          "output_type": "stream",
          "text": [
            "\n",
            "  6%|▋         | 128/2000 [04:30<1:04:41,  2.07s/it]\u001b[A"
          ],
          "name": "stderr"
        },
        {
          "output_type": "stream",
          "text": [
            "Epoch 128, gen loss=0.6882821321487427,disc loss=1.014802098274231\n"
          ],
          "name": "stdout"
        },
        {
          "output_type": "stream",
          "text": [
            "\n",
            "  6%|▋         | 129/2000 [04:32<1:04:43,  2.08s/it]\u001b[A"
          ],
          "name": "stderr"
        },
        {
          "output_type": "stream",
          "text": [
            "Epoch 129, gen loss=0.6929577589035034,disc loss=1.0094095468521118\n"
          ],
          "name": "stdout"
        },
        {
          "output_type": "stream",
          "text": [
            "\n",
            "  6%|▋         | 130/2000 [04:34<1:04:37,  2.07s/it]\u001b[A"
          ],
          "name": "stderr"
        },
        {
          "output_type": "stream",
          "text": [
            "Epoch 130, gen loss=0.6931368708610535,disc loss=1.00648033618927\n"
          ],
          "name": "stdout"
        },
        {
          "output_type": "stream",
          "text": [
            "\n",
            "  7%|▋         | 131/2000 [04:36<1:04:36,  2.07s/it]\u001b[A"
          ],
          "name": "stderr"
        },
        {
          "output_type": "stream",
          "text": [
            "Epoch 131, gen loss=0.6931379437446594,disc loss=1.0064632892608643\n"
          ],
          "name": "stdout"
        },
        {
          "output_type": "stream",
          "text": [
            "\n",
            "  7%|▋         | 132/2000 [04:38<1:04:31,  2.07s/it]\u001b[A"
          ],
          "name": "stderr"
        },
        {
          "output_type": "stream",
          "text": [
            "Epoch 132, gen loss=0.6930505633354187,disc loss=1.0065760612487793\n"
          ],
          "name": "stdout"
        },
        {
          "output_type": "stream",
          "text": [
            "\n",
            "  7%|▋         | 133/2000 [04:40<1:04:33,  2.07s/it]\u001b[A"
          ],
          "name": "stderr"
        },
        {
          "output_type": "stream",
          "text": [
            "Epoch 133, gen loss=0.6931467652320862,disc loss=1.0064278841018677\n"
          ],
          "name": "stdout"
        },
        {
          "output_type": "stream",
          "text": [
            "\n",
            "  7%|▋         | 134/2000 [04:43<1:04:28,  2.07s/it]\u001b[A"
          ],
          "name": "stderr"
        },
        {
          "output_type": "stream",
          "text": [
            "Epoch 134, gen loss=0.693132758140564,disc loss=1.0064697265625\n"
          ],
          "name": "stdout"
        },
        {
          "output_type": "stream",
          "text": [
            "\n",
            "  7%|▋         | 135/2000 [04:45<1:04:29,  2.08s/it]\u001b[A"
          ],
          "name": "stderr"
        },
        {
          "output_type": "stream",
          "text": [
            "Epoch 135, gen loss=0.6931450366973877,disc loss=1.0064232349395752\n"
          ],
          "name": "stdout"
        },
        {
          "output_type": "stream",
          "text": [
            "\n",
            "  7%|▋         | 136/2000 [04:47<1:04:32,  2.08s/it]\u001b[A"
          ],
          "name": "stderr"
        },
        {
          "output_type": "stream",
          "text": [
            "Epoch 136, gen loss=0.6931465268135071,disc loss=1.006424069404602\n"
          ],
          "name": "stdout"
        },
        {
          "output_type": "stream",
          "text": [
            "\n",
            "  7%|▋         | 137/2000 [04:49<1:04:29,  2.08s/it]\u001b[A"
          ],
          "name": "stderr"
        },
        {
          "output_type": "stream",
          "text": [
            "Epoch 137, gen loss=0.6931132674217224,disc loss=1.006460428237915\n"
          ],
          "name": "stdout"
        },
        {
          "output_type": "stream",
          "text": [
            "\n",
            "  7%|▋         | 138/2000 [04:51<1:04:27,  2.08s/it]\u001b[A"
          ],
          "name": "stderr"
        },
        {
          "output_type": "stream",
          "text": [
            "Epoch 138, gen loss=0.693146824836731,disc loss=1.006436824798584\n"
          ],
          "name": "stdout"
        },
        {
          "output_type": "stream",
          "text": [
            "\n",
            "  7%|▋         | 139/2000 [04:53<1:04:21,  2.07s/it]\u001b[A"
          ],
          "name": "stderr"
        },
        {
          "output_type": "stream",
          "text": [
            "Epoch 139, gen loss=0.6931471228599548,disc loss=1.0064170360565186\n"
          ],
          "name": "stdout"
        },
        {
          "output_type": "stream",
          "text": [
            "\n",
            "  7%|▋         | 140/2000 [04:55<1:04:16,  2.07s/it]\u001b[A"
          ],
          "name": "stderr"
        },
        {
          "output_type": "stream",
          "text": [
            "Epoch 140, gen loss=0.693146288394928,disc loss=1.006417989730835\n"
          ],
          "name": "stdout"
        },
        {
          "output_type": "stream",
          "text": [
            "\n",
            "  7%|▋         | 141/2000 [04:57<1:04:13,  2.07s/it]\u001b[A"
          ],
          "name": "stderr"
        },
        {
          "output_type": "stream",
          "text": [
            "Epoch 141, gen loss=0.6931468844413757,disc loss=1.0064406394958496\n"
          ],
          "name": "stdout"
        },
        {
          "output_type": "stream",
          "text": [
            "\n",
            "  7%|▋         | 142/2000 [04:59<1:04:12,  2.07s/it]\u001b[A"
          ],
          "name": "stderr"
        },
        {
          "output_type": "stream",
          "text": [
            "Epoch 142, gen loss=0.6931445598602295,disc loss=1.0064142942428589\n"
          ],
          "name": "stdout"
        },
        {
          "output_type": "stream",
          "text": [
            "\n",
            "  7%|▋         | 143/2000 [05:01<1:04:08,  2.07s/it]\u001b[A"
          ],
          "name": "stderr"
        },
        {
          "output_type": "stream",
          "text": [
            "Epoch 143, gen loss=0.693143904209137,disc loss=1.0064142942428589\n"
          ],
          "name": "stdout"
        },
        {
          "output_type": "stream",
          "text": [
            "\n",
            "  7%|▋         | 144/2000 [05:03<1:04:05,  2.07s/it]\u001b[A"
          ],
          "name": "stderr"
        },
        {
          "output_type": "stream",
          "text": [
            "Epoch 144, gen loss=0.6931430697441101,disc loss=1.0064191818237305\n"
          ],
          "name": "stdout"
        },
        {
          "output_type": "stream",
          "text": [
            "\n",
            "  7%|▋         | 145/2000 [05:05<1:04:07,  2.07s/it]\u001b[A"
          ],
          "name": "stderr"
        },
        {
          "output_type": "stream",
          "text": [
            "Epoch 145, gen loss=0.6931462287902832,disc loss=1.0064125061035156\n"
          ],
          "name": "stdout"
        },
        {
          "output_type": "stream",
          "text": [
            "\n",
            "  7%|▋         | 146/2000 [05:07<1:03:59,  2.07s/it]\u001b[A"
          ],
          "name": "stderr"
        },
        {
          "output_type": "stream",
          "text": [
            "Epoch 146, gen loss=0.6931440234184265,disc loss=1.00641667842865\n"
          ],
          "name": "stdout"
        },
        {
          "output_type": "stream",
          "text": [
            "\n",
            "  7%|▋         | 147/2000 [05:10<1:04:01,  2.07s/it]\u001b[A"
          ],
          "name": "stderr"
        },
        {
          "output_type": "stream",
          "text": [
            "Epoch 147, gen loss=0.6931462287902832,disc loss=1.0064114332199097\n"
          ],
          "name": "stdout"
        },
        {
          "output_type": "stream",
          "text": [
            "\n",
            "  7%|▋         | 148/2000 [05:12<1:03:58,  2.07s/it]\u001b[A"
          ],
          "name": "stderr"
        },
        {
          "output_type": "stream",
          "text": [
            "Epoch 148, gen loss=0.6931458711624146,disc loss=1.0064138174057007\n"
          ],
          "name": "stdout"
        },
        {
          "output_type": "stream",
          "text": [
            "\n",
            "  7%|▋         | 149/2000 [05:14<1:03:51,  2.07s/it]\u001b[A"
          ],
          "name": "stderr"
        },
        {
          "output_type": "stream",
          "text": [
            "Epoch 149, gen loss=0.6931461691856384,disc loss=1.0064128637313843\n"
          ],
          "name": "stdout"
        },
        {
          "output_type": "stream",
          "text": [
            "\n",
            "  8%|▊         | 150/2000 [05:16<1:03:48,  2.07s/it]\u001b[A"
          ],
          "name": "stderr"
        },
        {
          "output_type": "stream",
          "text": [
            "Epoch 150, gen loss=0.6931441426277161,disc loss=1.0064151287078857\n"
          ],
          "name": "stdout"
        },
        {
          "output_type": "stream",
          "text": [
            "\n",
            "  8%|▊         | 151/2000 [05:18<1:03:46,  2.07s/it]\u001b[A"
          ],
          "name": "stderr"
        },
        {
          "output_type": "stream",
          "text": [
            "Epoch 151, gen loss=0.6931453347206116,disc loss=1.0064148902893066\n"
          ],
          "name": "stdout"
        },
        {
          "output_type": "stream",
          "text": [
            "\n",
            "  8%|▊         | 152/2000 [05:20<1:03:43,  2.07s/it]\u001b[A"
          ],
          "name": "stderr"
        },
        {
          "output_type": "stream",
          "text": [
            "Epoch 152, gen loss=0.6931413412094116,disc loss=1.0064185857772827\n"
          ],
          "name": "stdout"
        },
        {
          "output_type": "stream",
          "text": [
            "\n",
            "  8%|▊         | 153/2000 [05:22<1:03:51,  2.07s/it]\u001b[A"
          ],
          "name": "stderr"
        },
        {
          "output_type": "stream",
          "text": [
            "Epoch 153, gen loss=0.6931455731391907,disc loss=1.0064140558242798\n"
          ],
          "name": "stdout"
        },
        {
          "output_type": "stream",
          "text": [
            "\n",
            "  8%|▊         | 154/2000 [05:24<1:03:49,  2.07s/it]\u001b[A"
          ],
          "name": "stderr"
        },
        {
          "output_type": "stream",
          "text": [
            "Epoch 154, gen loss=0.6931462287902832,disc loss=1.0064117908477783\n"
          ],
          "name": "stdout"
        },
        {
          "output_type": "stream",
          "text": [
            "\n",
            "  8%|▊         | 155/2000 [05:26<1:03:50,  2.08s/it]\u001b[A"
          ],
          "name": "stderr"
        },
        {
          "output_type": "stream",
          "text": [
            "Epoch 155, gen loss=0.693145751953125,disc loss=1.0064127445220947\n"
          ],
          "name": "stdout"
        },
        {
          "output_type": "stream",
          "text": [
            "\n",
            "  8%|▊         | 156/2000 [05:28<1:03:52,  2.08s/it]\u001b[A"
          ],
          "name": "stderr"
        },
        {
          "output_type": "stream",
          "text": [
            "Epoch 156, gen loss=0.6931442022323608,disc loss=1.006415605545044\n"
          ],
          "name": "stdout"
        },
        {
          "output_type": "stream",
          "text": [
            "\n",
            "  8%|▊         | 157/2000 [05:30<1:03:50,  2.08s/it]\u001b[A"
          ],
          "name": "stderr"
        },
        {
          "output_type": "stream",
          "text": [
            "Epoch 157, gen loss=0.6931458711624146,disc loss=1.0064133405685425\n"
          ],
          "name": "stdout"
        },
        {
          "output_type": "stream",
          "text": [
            "\n",
            "  8%|▊         | 158/2000 [05:32<1:03:47,  2.08s/it]\u001b[A"
          ],
          "name": "stderr"
        },
        {
          "output_type": "stream",
          "text": [
            "Epoch 158, gen loss=0.6931249499320984,disc loss=1.0064359903335571\n"
          ],
          "name": "stdout"
        },
        {
          "output_type": "stream",
          "text": [
            "\n",
            "  8%|▊         | 159/2000 [05:34<1:03:46,  2.08s/it]\u001b[A"
          ],
          "name": "stderr"
        },
        {
          "output_type": "stream",
          "text": [
            "Epoch 159, gen loss=0.6931463479995728,disc loss=1.006415605545044\n"
          ],
          "name": "stdout"
        },
        {
          "output_type": "stream",
          "text": [
            "\n",
            "  8%|▊         | 160/2000 [05:36<1:03:36,  2.07s/it]\u001b[A"
          ],
          "name": "stderr"
        },
        {
          "output_type": "stream",
          "text": [
            "Epoch 160, gen loss=0.693094789981842,disc loss=1.0064789056777954\n"
          ],
          "name": "stdout"
        },
        {
          "output_type": "stream",
          "text": [
            "\n",
            "  8%|▊         | 161/2000 [05:39<1:03:30,  2.07s/it]\u001b[A"
          ],
          "name": "stderr"
        },
        {
          "output_type": "stream",
          "text": [
            "Epoch 161, gen loss=0.6931324005126953,disc loss=1.0065007209777832\n"
          ],
          "name": "stdout"
        },
        {
          "output_type": "stream",
          "text": [
            "\n",
            "  8%|▊         | 162/2000 [05:41<1:03:25,  2.07s/it]\u001b[A"
          ],
          "name": "stderr"
        },
        {
          "output_type": "stream",
          "text": [
            "Epoch 162, gen loss=0.6931374073028564,disc loss=1.0064213275909424\n"
          ],
          "name": "stdout"
        },
        {
          "output_type": "stream",
          "text": [
            "\n",
            "  8%|▊         | 163/2000 [05:43<1:03:22,  2.07s/it]\u001b[A"
          ],
          "name": "stderr"
        },
        {
          "output_type": "stream",
          "text": [
            "Epoch 163, gen loss=0.6931440830230713,disc loss=1.0067640542984009\n"
          ],
          "name": "stdout"
        },
        {
          "output_type": "stream",
          "text": [
            "\n",
            "  8%|▊         | 164/2000 [05:45<1:03:22,  2.07s/it]\u001b[A"
          ],
          "name": "stderr"
        },
        {
          "output_type": "stream",
          "text": [
            "Epoch 164, gen loss=0.6835461854934692,disc loss=1.3034707307815552\n"
          ],
          "name": "stdout"
        },
        {
          "output_type": "stream",
          "text": [
            "\n",
            "  8%|▊         | 165/2000 [05:47<1:03:19,  2.07s/it]\u001b[A"
          ],
          "name": "stderr"
        },
        {
          "output_type": "stream",
          "text": [
            "Epoch 165, gen loss=0.6437087655067444,disc loss=1.270546793937683\n"
          ],
          "name": "stdout"
        },
        {
          "output_type": "stream",
          "text": [
            "\n",
            "  8%|▊         | 166/2000 [05:49<1:03:18,  2.07s/it]\u001b[A"
          ],
          "name": "stderr"
        },
        {
          "output_type": "stream",
          "text": [
            "Epoch 166, gen loss=0.6265155673027039,disc loss=1.2470206022262573\n"
          ],
          "name": "stdout"
        },
        {
          "output_type": "stream",
          "text": [
            "\n",
            "  8%|▊         | 167/2000 [05:51<1:03:19,  2.07s/it]\u001b[A"
          ],
          "name": "stderr"
        },
        {
          "output_type": "stream",
          "text": [
            "Epoch 167, gen loss=0.6722666025161743,disc loss=1.3141353130340576\n"
          ],
          "name": "stdout"
        },
        {
          "output_type": "stream",
          "text": [
            "\n",
            "  8%|▊         | 168/2000 [05:53<1:03:16,  2.07s/it]\u001b[A"
          ],
          "name": "stderr"
        },
        {
          "output_type": "stream",
          "text": [
            "Epoch 168, gen loss=0.651753306388855,disc loss=1.1773744821548462\n"
          ],
          "name": "stdout"
        },
        {
          "output_type": "stream",
          "text": [
            "\n",
            "  8%|▊         | 169/2000 [05:55<1:03:15,  2.07s/it]\u001b[A"
          ],
          "name": "stderr"
        },
        {
          "output_type": "stream",
          "text": [
            "Epoch 169, gen loss=0.6538509130477905,disc loss=1.192582607269287\n"
          ],
          "name": "stdout"
        },
        {
          "output_type": "stream",
          "text": [
            "\n",
            "  8%|▊         | 170/2000 [05:57<1:03:18,  2.08s/it]\u001b[A"
          ],
          "name": "stderr"
        },
        {
          "output_type": "stream",
          "text": [
            "Epoch 170, gen loss=0.651783287525177,disc loss=1.1574006080627441\n"
          ],
          "name": "stdout"
        },
        {
          "output_type": "stream",
          "text": [
            "\n",
            "  9%|▊         | 171/2000 [05:59<1:03:15,  2.08s/it]\u001b[A"
          ],
          "name": "stderr"
        },
        {
          "output_type": "stream",
          "text": [
            "Epoch 171, gen loss=0.6559047698974609,disc loss=1.14393150806427\n"
          ],
          "name": "stdout"
        },
        {
          "output_type": "stream",
          "text": [
            "\n",
            "  9%|▊         | 172/2000 [06:01<1:03:12,  2.07s/it]\u001b[A"
          ],
          "name": "stderr"
        },
        {
          "output_type": "stream",
          "text": [
            "Epoch 172, gen loss=0.6624962687492371,disc loss=1.1241871118545532\n"
          ],
          "name": "stdout"
        },
        {
          "output_type": "stream",
          "text": [
            "\n",
            "  9%|▊         | 173/2000 [06:03<1:03:17,  2.08s/it]\u001b[A"
          ],
          "name": "stderr"
        },
        {
          "output_type": "stream",
          "text": [
            "Epoch 173, gen loss=0.6665627956390381,disc loss=1.1086523532867432\n"
          ],
          "name": "stdout"
        },
        {
          "output_type": "stream",
          "text": [
            "\n",
            "  9%|▊         | 174/2000 [06:06<1:03:09,  2.08s/it]\u001b[A"
          ],
          "name": "stderr"
        },
        {
          "output_type": "stream",
          "text": [
            "Epoch 174, gen loss=0.6610413193702698,disc loss=1.1316014528274536\n"
          ],
          "name": "stdout"
        },
        {
          "output_type": "stream",
          "text": [
            "\n",
            "  9%|▉         | 175/2000 [06:08<1:03:08,  2.08s/it]\u001b[A"
          ],
          "name": "stderr"
        },
        {
          "output_type": "stream",
          "text": [
            "Epoch 175, gen loss=0.6601118445396423,disc loss=1.116798758506775\n"
          ],
          "name": "stdout"
        },
        {
          "output_type": "stream",
          "text": [
            "\n",
            "  9%|▉         | 176/2000 [06:10<1:03:02,  2.07s/it]\u001b[A"
          ],
          "name": "stderr"
        },
        {
          "output_type": "stream",
          "text": [
            "Epoch 176, gen loss=0.667415976524353,disc loss=1.092840552330017\n"
          ],
          "name": "stdout"
        },
        {
          "output_type": "stream",
          "text": [
            "\n",
            "  9%|▉         | 177/2000 [06:12<1:03:01,  2.07s/it]\u001b[A"
          ],
          "name": "stderr"
        },
        {
          "output_type": "stream",
          "text": [
            "Epoch 177, gen loss=0.6669020652770996,disc loss=1.0890270471572876\n"
          ],
          "name": "stdout"
        },
        {
          "output_type": "stream",
          "text": [
            "\n",
            "  9%|▉         | 178/2000 [06:14<1:02:58,  2.07s/it]\u001b[A"
          ],
          "name": "stderr"
        },
        {
          "output_type": "stream",
          "text": [
            "Epoch 178, gen loss=0.6681038737297058,disc loss=1.0901621580123901\n"
          ],
          "name": "stdout"
        },
        {
          "output_type": "stream",
          "text": [
            "\n",
            "  9%|▉         | 179/2000 [06:16<1:02:52,  2.07s/it]\u001b[A"
          ],
          "name": "stderr"
        },
        {
          "output_type": "stream",
          "text": [
            "Epoch 179, gen loss=0.6648942828178406,disc loss=1.101475715637207\n"
          ],
          "name": "stdout"
        },
        {
          "output_type": "stream",
          "text": [
            "\n",
            "  9%|▉         | 180/2000 [06:18<1:03:03,  2.08s/it]\u001b[A"
          ],
          "name": "stderr"
        },
        {
          "output_type": "stream",
          "text": [
            "Epoch 180, gen loss=0.6627672910690308,disc loss=1.1052864789962769\n"
          ],
          "name": "stdout"
        },
        {
          "output_type": "stream",
          "text": [
            "\n",
            "  9%|▉         | 181/2000 [06:20<1:03:01,  2.08s/it]\u001b[A"
          ],
          "name": "stderr"
        },
        {
          "output_type": "stream",
          "text": [
            "Epoch 181, gen loss=0.6701839566230774,disc loss=1.085261344909668\n"
          ],
          "name": "stdout"
        },
        {
          "output_type": "stream",
          "text": [
            "\n",
            "  9%|▉         | 182/2000 [06:22<1:03:06,  2.08s/it]\u001b[A"
          ],
          "name": "stderr"
        },
        {
          "output_type": "stream",
          "text": [
            "Epoch 182, gen loss=0.6615530848503113,disc loss=1.1104739904403687\n"
          ],
          "name": "stdout"
        },
        {
          "output_type": "stream",
          "text": [
            "\n",
            "  9%|▉         | 183/2000 [06:24<1:03:03,  2.08s/it]\u001b[A"
          ],
          "name": "stderr"
        },
        {
          "output_type": "stream",
          "text": [
            "Epoch 183, gen loss=0.6636582016944885,disc loss=1.0901964902877808\n"
          ],
          "name": "stdout"
        },
        {
          "output_type": "stream",
          "text": [
            "\n",
            "  9%|▉         | 184/2000 [06:26<1:02:56,  2.08s/it]\u001b[A"
          ],
          "name": "stderr"
        },
        {
          "output_type": "stream",
          "text": [
            "Epoch 184, gen loss=0.6717871427536011,disc loss=1.0665454864501953\n"
          ],
          "name": "stdout"
        },
        {
          "output_type": "stream",
          "text": [
            "\n",
            "  9%|▉         | 185/2000 [06:28<1:02:53,  2.08s/it]\u001b[A"
          ],
          "name": "stderr"
        },
        {
          "output_type": "stream",
          "text": [
            "Epoch 185, gen loss=0.6767203211784363,disc loss=1.0548874139785767\n"
          ],
          "name": "stdout"
        },
        {
          "output_type": "stream",
          "text": [
            "\n",
            "  9%|▉         | 186/2000 [06:30<1:02:48,  2.08s/it]\u001b[A"
          ],
          "name": "stderr"
        },
        {
          "output_type": "stream",
          "text": [
            "Epoch 186, gen loss=0.675484836101532,disc loss=1.059720754623413\n"
          ],
          "name": "stdout"
        },
        {
          "output_type": "stream",
          "text": [
            "\n",
            "  9%|▉         | 187/2000 [06:33<1:02:49,  2.08s/it]\u001b[A"
          ],
          "name": "stderr"
        },
        {
          "output_type": "stream",
          "text": [
            "Epoch 187, gen loss=0.6682445406913757,disc loss=1.141940712928772\n"
          ],
          "name": "stdout"
        },
        {
          "output_type": "stream",
          "text": [
            "\n",
            "  9%|▉         | 188/2000 [06:35<1:02:46,  2.08s/it]\u001b[A"
          ],
          "name": "stderr"
        },
        {
          "output_type": "stream",
          "text": [
            "Epoch 188, gen loss=0.6732487678527832,disc loss=1.0776382684707642\n"
          ],
          "name": "stdout"
        },
        {
          "output_type": "stream",
          "text": [
            "\n",
            "  9%|▉         | 189/2000 [06:37<1:02:43,  2.08s/it]\u001b[A"
          ],
          "name": "stderr"
        },
        {
          "output_type": "stream",
          "text": [
            "Epoch 189, gen loss=0.6651216745376587,disc loss=1.0862340927124023\n"
          ],
          "name": "stdout"
        },
        {
          "output_type": "stream",
          "text": [
            "\n",
            " 10%|▉         | 190/2000 [06:39<1:02:43,  2.08s/it]\u001b[A"
          ],
          "name": "stderr"
        },
        {
          "output_type": "stream",
          "text": [
            "Epoch 190, gen loss=0.6682127714157104,disc loss=1.0987491607666016\n"
          ],
          "name": "stdout"
        },
        {
          "output_type": "stream",
          "text": [
            "\n",
            " 10%|▉         | 191/2000 [06:41<1:02:45,  2.08s/it]\u001b[A"
          ],
          "name": "stderr"
        },
        {
          "output_type": "stream",
          "text": [
            "Epoch 191, gen loss=0.6745209097862244,disc loss=1.0648233890533447\n"
          ],
          "name": "stdout"
        },
        {
          "output_type": "stream",
          "text": [
            "\n",
            " 10%|▉         | 192/2000 [06:43<1:02:39,  2.08s/it]\u001b[A"
          ],
          "name": "stderr"
        },
        {
          "output_type": "stream",
          "text": [
            "Epoch 192, gen loss=0.6763554215431213,disc loss=1.0573192834854126\n"
          ],
          "name": "stdout"
        },
        {
          "output_type": "stream",
          "text": [
            "\n",
            " 10%|▉         | 193/2000 [06:45<1:02:36,  2.08s/it]\u001b[A"
          ],
          "name": "stderr"
        },
        {
          "output_type": "stream",
          "text": [
            "Epoch 193, gen loss=0.6733961701393127,disc loss=1.0692307949066162\n"
          ],
          "name": "stdout"
        },
        {
          "output_type": "stream",
          "text": [
            "\n",
            " 10%|▉         | 194/2000 [06:47<1:02:31,  2.08s/it]\u001b[A"
          ],
          "name": "stderr"
        },
        {
          "output_type": "stream",
          "text": [
            "Epoch 194, gen loss=0.6615701913833618,disc loss=1.1011345386505127\n"
          ],
          "name": "stdout"
        },
        {
          "output_type": "stream",
          "text": [
            "\n",
            " 10%|▉         | 195/2000 [06:49<1:02:28,  2.08s/it]\u001b[A"
          ],
          "name": "stderr"
        },
        {
          "output_type": "stream",
          "text": [
            "Epoch 195, gen loss=0.6646909713745117,disc loss=1.0885846614837646\n"
          ],
          "name": "stdout"
        },
        {
          "output_type": "stream",
          "text": [
            "\n",
            " 10%|▉         | 196/2000 [06:51<1:02:24,  2.08s/it]\u001b[A"
          ],
          "name": "stderr"
        },
        {
          "output_type": "stream",
          "text": [
            "Epoch 196, gen loss=0.6645904183387756,disc loss=1.0938419103622437\n"
          ],
          "name": "stdout"
        },
        {
          "output_type": "stream",
          "text": [
            "\n",
            " 10%|▉         | 197/2000 [06:53<1:02:24,  2.08s/it]\u001b[A"
          ],
          "name": "stderr"
        },
        {
          "output_type": "stream",
          "text": [
            "Epoch 197, gen loss=0.6586965322494507,disc loss=1.098379135131836\n"
          ],
          "name": "stdout"
        },
        {
          "output_type": "stream",
          "text": [
            "\n",
            " 10%|▉         | 198/2000 [06:55<1:02:21,  2.08s/it]\u001b[A"
          ],
          "name": "stderr"
        },
        {
          "output_type": "stream",
          "text": [
            "Epoch 198, gen loss=0.6643518805503845,disc loss=1.102455973625183\n"
          ],
          "name": "stdout"
        },
        {
          "output_type": "stream",
          "text": [
            "\n",
            " 10%|▉         | 199/2000 [06:57<1:02:15,  2.07s/it]\u001b[A"
          ],
          "name": "stderr"
        },
        {
          "output_type": "stream",
          "text": [
            "Epoch 199, gen loss=0.663192868232727,disc loss=1.0932540893554688\n"
          ],
          "name": "stdout"
        },
        {
          "output_type": "stream",
          "text": [
            "\n",
            " 10%|█         | 200/2000 [07:00<1:02:22,  2.08s/it]\u001b[A"
          ],
          "name": "stderr"
        },
        {
          "output_type": "stream",
          "text": [
            "Epoch 200, gen loss=0.665212094783783,disc loss=1.098214864730835\n"
          ],
          "name": "stdout"
        },
        {
          "output_type": "stream",
          "text": [
            "\n",
            " 10%|█         | 201/2000 [07:02<1:04:02,  2.14s/it]\u001b[A"
          ],
          "name": "stderr"
        },
        {
          "output_type": "stream",
          "text": [
            "Epoch 201, gen loss=0.6647886633872986,disc loss=1.0903359651565552\n"
          ],
          "name": "stdout"
        },
        {
          "output_type": "stream",
          "text": [
            "\n",
            " 10%|█         | 202/2000 [07:04<1:03:28,  2.12s/it]\u001b[A"
          ],
          "name": "stderr"
        },
        {
          "output_type": "stream",
          "text": [
            "Epoch 202, gen loss=0.6658179759979248,disc loss=1.0900511741638184\n"
          ],
          "name": "stdout"
        },
        {
          "output_type": "stream",
          "text": [
            "\n",
            " 10%|█         | 203/2000 [07:06<1:03:05,  2.11s/it]\u001b[A"
          ],
          "name": "stderr"
        },
        {
          "output_type": "stream",
          "text": [
            "Epoch 203, gen loss=0.6693013906478882,disc loss=1.0743714570999146\n"
          ],
          "name": "stdout"
        },
        {
          "output_type": "stream",
          "text": [
            "\n",
            " 10%|█         | 204/2000 [07:08<1:02:48,  2.10s/it]\u001b[A"
          ],
          "name": "stderr"
        },
        {
          "output_type": "stream",
          "text": [
            "Epoch 204, gen loss=0.6704856157302856,disc loss=1.0780994892120361\n"
          ],
          "name": "stdout"
        },
        {
          "output_type": "stream",
          "text": [
            "\n",
            " 10%|█         | 205/2000 [07:10<1:02:33,  2.09s/it]\u001b[A"
          ],
          "name": "stderr"
        },
        {
          "output_type": "stream",
          "text": [
            "Epoch 205, gen loss=0.6666197180747986,disc loss=1.08515202999115\n"
          ],
          "name": "stdout"
        },
        {
          "output_type": "stream",
          "text": [
            "\n",
            " 10%|█         | 206/2000 [07:12<1:02:22,  2.09s/it]\u001b[A"
          ],
          "name": "stderr"
        },
        {
          "output_type": "stream",
          "text": [
            "Epoch 206, gen loss=0.6769318580627441,disc loss=1.0549356937408447\n"
          ],
          "name": "stdout"
        },
        {
          "output_type": "stream",
          "text": [
            "\n",
            " 10%|█         | 207/2000 [07:14<1:02:15,  2.08s/it]\u001b[A"
          ],
          "name": "stderr"
        },
        {
          "output_type": "stream",
          "text": [
            "Epoch 207, gen loss=0.6657360196113586,disc loss=1.0858045816421509\n"
          ],
          "name": "stdout"
        },
        {
          "output_type": "stream",
          "text": [
            "\n",
            " 10%|█         | 208/2000 [07:16<1:02:09,  2.08s/it]\u001b[A"
          ],
          "name": "stderr"
        },
        {
          "output_type": "stream",
          "text": [
            "Epoch 208, gen loss=0.6693834662437439,disc loss=1.07974374294281\n"
          ],
          "name": "stdout"
        },
        {
          "output_type": "stream",
          "text": [
            "\n",
            " 10%|█         | 209/2000 [07:18<1:02:03,  2.08s/it]\u001b[A"
          ],
          "name": "stderr"
        },
        {
          "output_type": "stream",
          "text": [
            "Epoch 209, gen loss=0.6737017035484314,disc loss=1.0609593391418457\n"
          ],
          "name": "stdout"
        },
        {
          "output_type": "stream",
          "text": [
            "\n",
            " 10%|█         | 210/2000 [07:21<1:02:00,  2.08s/it]\u001b[A"
          ],
          "name": "stderr"
        },
        {
          "output_type": "stream",
          "text": [
            "Epoch 210, gen loss=0.6707800030708313,disc loss=1.0654528141021729\n"
          ],
          "name": "stdout"
        },
        {
          "output_type": "stream",
          "text": [
            "\n",
            " 11%|█         | 211/2000 [07:23<1:01:55,  2.08s/it]\u001b[A"
          ],
          "name": "stderr"
        },
        {
          "output_type": "stream",
          "text": [
            "Epoch 211, gen loss=0.6701789498329163,disc loss=1.0713380575180054\n"
          ],
          "name": "stdout"
        },
        {
          "output_type": "stream",
          "text": [
            "\n",
            " 11%|█         | 212/2000 [07:25<1:01:47,  2.07s/it]\u001b[A"
          ],
          "name": "stderr"
        },
        {
          "output_type": "stream",
          "text": [
            "Epoch 212, gen loss=0.673389196395874,disc loss=1.0625382661819458\n"
          ],
          "name": "stdout"
        },
        {
          "output_type": "stream",
          "text": [
            "\n",
            " 11%|█         | 213/2000 [07:27<1:01:48,  2.08s/it]\u001b[A"
          ],
          "name": "stderr"
        },
        {
          "output_type": "stream",
          "text": [
            "Epoch 213, gen loss=0.6761685609817505,disc loss=1.0542596578598022\n"
          ],
          "name": "stdout"
        },
        {
          "output_type": "stream",
          "text": [
            "\n",
            " 11%|█         | 214/2000 [07:29<1:01:49,  2.08s/it]\u001b[A"
          ],
          "name": "stderr"
        },
        {
          "output_type": "stream",
          "text": [
            "Epoch 214, gen loss=0.6767662167549133,disc loss=1.0587570667266846\n"
          ],
          "name": "stdout"
        },
        {
          "output_type": "stream",
          "text": [
            "\n",
            " 11%|█         | 215/2000 [07:31<1:01:51,  2.08s/it]\u001b[A"
          ],
          "name": "stderr"
        },
        {
          "output_type": "stream",
          "text": [
            "Epoch 215, gen loss=0.6779531240463257,disc loss=1.047624945640564\n"
          ],
          "name": "stdout"
        },
        {
          "output_type": "stream",
          "text": [
            "\n",
            " 11%|█         | 216/2000 [07:33<1:01:52,  2.08s/it]\u001b[A"
          ],
          "name": "stderr"
        },
        {
          "output_type": "stream",
          "text": [
            "Epoch 216, gen loss=0.6811364889144897,disc loss=1.042445182800293\n"
          ],
          "name": "stdout"
        },
        {
          "output_type": "stream",
          "text": [
            "\n",
            " 11%|█         | 217/2000 [07:35<1:01:49,  2.08s/it]\u001b[A"
          ],
          "name": "stderr"
        },
        {
          "output_type": "stream",
          "text": [
            "Epoch 217, gen loss=0.679129958152771,disc loss=1.0518146753311157\n"
          ],
          "name": "stdout"
        },
        {
          "output_type": "stream",
          "text": [
            "\n",
            " 11%|█         | 218/2000 [07:37<1:01:50,  2.08s/it]\u001b[A"
          ],
          "name": "stderr"
        },
        {
          "output_type": "stream",
          "text": [
            "Epoch 218, gen loss=0.6754227876663208,disc loss=1.0558457374572754\n"
          ],
          "name": "stdout"
        },
        {
          "output_type": "stream",
          "text": [
            "\n",
            " 11%|█         | 219/2000 [07:39<1:01:42,  2.08s/it]\u001b[A"
          ],
          "name": "stderr"
        },
        {
          "output_type": "stream",
          "text": [
            "Epoch 219, gen loss=0.6718185544013977,disc loss=1.0761692523956299\n"
          ],
          "name": "stdout"
        },
        {
          "output_type": "stream",
          "text": [
            "\n",
            " 11%|█         | 220/2000 [07:41<1:01:41,  2.08s/it]\u001b[A"
          ],
          "name": "stderr"
        },
        {
          "output_type": "stream",
          "text": [
            "Epoch 220, gen loss=0.6778937578201294,disc loss=1.0540735721588135\n"
          ],
          "name": "stdout"
        },
        {
          "output_type": "stream",
          "text": [
            "\n",
            " 11%|█         | 221/2000 [07:43<1:01:43,  2.08s/it]\u001b[A"
          ],
          "name": "stderr"
        },
        {
          "output_type": "stream",
          "text": [
            "Epoch 221, gen loss=0.6743295788764954,disc loss=1.0622843503952026\n"
          ],
          "name": "stdout"
        },
        {
          "output_type": "stream",
          "text": [
            "\n",
            " 11%|█         | 222/2000 [07:45<1:01:37,  2.08s/it]\u001b[A"
          ],
          "name": "stderr"
        },
        {
          "output_type": "stream",
          "text": [
            "Epoch 222, gen loss=0.6701653003692627,disc loss=1.0732316970825195\n"
          ],
          "name": "stdout"
        },
        {
          "output_type": "stream",
          "text": [
            "\n",
            " 11%|█         | 223/2000 [07:48<1:01:33,  2.08s/it]\u001b[A"
          ],
          "name": "stderr"
        },
        {
          "output_type": "stream",
          "text": [
            "Epoch 223, gen loss=0.6711201071739197,disc loss=1.1190904378890991\n"
          ],
          "name": "stdout"
        },
        {
          "output_type": "stream",
          "text": [
            "\n",
            " 11%|█         | 224/2000 [07:50<1:01:26,  2.08s/it]\u001b[A"
          ],
          "name": "stderr"
        },
        {
          "output_type": "stream",
          "text": [
            "Epoch 224, gen loss=0.6749088764190674,disc loss=1.0612318515777588\n"
          ],
          "name": "stdout"
        },
        {
          "output_type": "stream",
          "text": [
            "\n",
            " 11%|█▏        | 225/2000 [07:52<1:01:22,  2.07s/it]\u001b[A"
          ],
          "name": "stderr"
        },
        {
          "output_type": "stream",
          "text": [
            "Epoch 225, gen loss=0.6696241497993469,disc loss=1.0708210468292236\n"
          ],
          "name": "stdout"
        },
        {
          "output_type": "stream",
          "text": [
            "\n",
            " 11%|█▏        | 226/2000 [07:54<1:01:23,  2.08s/it]\u001b[A"
          ],
          "name": "stderr"
        },
        {
          "output_type": "stream",
          "text": [
            "Epoch 226, gen loss=0.6765010356903076,disc loss=1.0568656921386719\n"
          ],
          "name": "stdout"
        },
        {
          "output_type": "stream",
          "text": [
            "\n",
            " 11%|█▏        | 227/2000 [07:56<1:01:18,  2.07s/it]\u001b[A"
          ],
          "name": "stderr"
        },
        {
          "output_type": "stream",
          "text": [
            "Epoch 227, gen loss=0.67280513048172,disc loss=1.065792441368103\n"
          ],
          "name": "stdout"
        },
        {
          "output_type": "stream",
          "text": [
            "\n",
            " 11%|█▏        | 228/2000 [07:58<1:01:20,  2.08s/it]\u001b[A"
          ],
          "name": "stderr"
        },
        {
          "output_type": "stream",
          "text": [
            "Epoch 228, gen loss=0.6720653176307678,disc loss=1.0716630220413208\n"
          ],
          "name": "stdout"
        },
        {
          "output_type": "stream",
          "text": [
            "\n",
            " 11%|█▏        | 229/2000 [08:00<1:01:18,  2.08s/it]\u001b[A"
          ],
          "name": "stderr"
        },
        {
          "output_type": "stream",
          "text": [
            "Epoch 229, gen loss=0.674932599067688,disc loss=1.0536855459213257\n"
          ],
          "name": "stdout"
        },
        {
          "output_type": "stream",
          "text": [
            "\n",
            " 12%|█▏        | 230/2000 [08:02<1:01:14,  2.08s/it]\u001b[A"
          ],
          "name": "stderr"
        },
        {
          "output_type": "stream",
          "text": [
            "Epoch 230, gen loss=0.6753259897232056,disc loss=1.0533372163772583\n"
          ],
          "name": "stdout"
        },
        {
          "output_type": "stream",
          "text": [
            "\n",
            " 12%|█▏        | 231/2000 [08:04<1:01:16,  2.08s/it]\u001b[A"
          ],
          "name": "stderr"
        },
        {
          "output_type": "stream",
          "text": [
            "Epoch 231, gen loss=0.6750695705413818,disc loss=1.0567024946212769\n"
          ],
          "name": "stdout"
        },
        {
          "output_type": "stream",
          "text": [
            "\n",
            " 12%|█▏        | 232/2000 [08:06<1:01:15,  2.08s/it]\u001b[A"
          ],
          "name": "stderr"
        },
        {
          "output_type": "stream",
          "text": [
            "Epoch 232, gen loss=0.6785111427307129,disc loss=1.0490736961364746\n"
          ],
          "name": "stdout"
        },
        {
          "output_type": "stream",
          "text": [
            "\n",
            " 12%|█▏        | 233/2000 [08:08<1:01:07,  2.08s/it]\u001b[A"
          ],
          "name": "stderr"
        },
        {
          "output_type": "stream",
          "text": [
            "Epoch 233, gen loss=0.6773548126220703,disc loss=1.0479754209518433\n"
          ],
          "name": "stdout"
        },
        {
          "output_type": "stream",
          "text": [
            "\n",
            " 12%|█▏        | 234/2000 [08:10<1:01:02,  2.07s/it]\u001b[A"
          ],
          "name": "stderr"
        },
        {
          "output_type": "stream",
          "text": [
            "Epoch 234, gen loss=0.6750487089157104,disc loss=1.0554252862930298\n"
          ],
          "name": "stdout"
        },
        {
          "output_type": "stream",
          "text": [
            "\n",
            " 12%|█▏        | 235/2000 [08:12<1:00:48,  2.07s/it]\u001b[A"
          ],
          "name": "stderr"
        },
        {
          "output_type": "stream",
          "text": [
            "Epoch 235, gen loss=0.6792871356010437,disc loss=1.0555920600891113\n"
          ],
          "name": "stdout"
        },
        {
          "output_type": "stream",
          "text": [
            "\n",
            " 12%|█▏        | 236/2000 [08:14<1:00:44,  2.07s/it]\u001b[A"
          ],
          "name": "stderr"
        },
        {
          "output_type": "stream",
          "text": [
            "Epoch 236, gen loss=0.6777656078338623,disc loss=1.0543289184570312\n"
          ],
          "name": "stdout"
        },
        {
          "output_type": "stream",
          "text": [
            "\n",
            " 12%|█▏        | 237/2000 [08:17<1:00:43,  2.07s/it]\u001b[A"
          ],
          "name": "stderr"
        },
        {
          "output_type": "stream",
          "text": [
            "Epoch 237, gen loss=0.6756201386451721,disc loss=1.0566256046295166\n"
          ],
          "name": "stdout"
        },
        {
          "output_type": "stream",
          "text": [
            "\n",
            " 12%|█▏        | 238/2000 [08:19<1:00:37,  2.06s/it]\u001b[A"
          ],
          "name": "stderr"
        },
        {
          "output_type": "stream",
          "text": [
            "Epoch 238, gen loss=0.671672523021698,disc loss=1.0672903060913086\n"
          ],
          "name": "stdout"
        },
        {
          "output_type": "stream",
          "text": [
            "\n",
            " 12%|█▏        | 239/2000 [08:21<1:00:39,  2.07s/it]\u001b[A"
          ],
          "name": "stderr"
        },
        {
          "output_type": "stream",
          "text": [
            "Epoch 239, gen loss=0.6734796762466431,disc loss=1.0576566457748413\n"
          ],
          "name": "stdout"
        },
        {
          "output_type": "stream",
          "text": [
            "\n",
            " 12%|█▏        | 240/2000 [08:23<1:00:38,  2.07s/it]\u001b[A"
          ],
          "name": "stderr"
        },
        {
          "output_type": "stream",
          "text": [
            "Epoch 240, gen loss=0.6750718355178833,disc loss=1.058847427368164\n"
          ],
          "name": "stdout"
        },
        {
          "output_type": "stream",
          "text": [
            "\n",
            " 12%|█▏        | 241/2000 [08:25<1:00:34,  2.07s/it]\u001b[A"
          ],
          "name": "stderr"
        },
        {
          "output_type": "stream",
          "text": [
            "Epoch 241, gen loss=0.6788381934165955,disc loss=1.049792766571045\n"
          ],
          "name": "stdout"
        },
        {
          "output_type": "stream",
          "text": [
            "\n",
            " 12%|█▏        | 242/2000 [08:27<1:00:28,  2.06s/it]\u001b[A"
          ],
          "name": "stderr"
        },
        {
          "output_type": "stream",
          "text": [
            "Epoch 242, gen loss=0.6787636280059814,disc loss=1.052484154701233\n"
          ],
          "name": "stdout"
        },
        {
          "output_type": "stream",
          "text": [
            "\n",
            " 12%|█▏        | 243/2000 [08:29<1:00:29,  2.07s/it]\u001b[A"
          ],
          "name": "stderr"
        },
        {
          "output_type": "stream",
          "text": [
            "Epoch 243, gen loss=0.671705424785614,disc loss=1.0679547786712646\n"
          ],
          "name": "stdout"
        },
        {
          "output_type": "stream",
          "text": [
            "\n",
            " 12%|█▏        | 244/2000 [08:31<1:00:25,  2.06s/it]\u001b[A"
          ],
          "name": "stderr"
        },
        {
          "output_type": "stream",
          "text": [
            "Epoch 244, gen loss=0.6730203032493591,disc loss=1.0631132125854492\n"
          ],
          "name": "stdout"
        },
        {
          "output_type": "stream",
          "text": [
            "\n",
            " 12%|█▏        | 245/2000 [08:33<1:00:23,  2.06s/it]\u001b[A"
          ],
          "name": "stderr"
        },
        {
          "output_type": "stream",
          "text": [
            "Epoch 245, gen loss=0.6728017330169678,disc loss=1.0627716779708862\n"
          ],
          "name": "stdout"
        },
        {
          "output_type": "stream",
          "text": [
            "\n",
            " 12%|█▏        | 246/2000 [08:35<1:00:19,  2.06s/it]\u001b[A"
          ],
          "name": "stderr"
        },
        {
          "output_type": "stream",
          "text": [
            "Epoch 246, gen loss=0.6741084456443787,disc loss=1.0615075826644897\n"
          ],
          "name": "stdout"
        },
        {
          "output_type": "stream",
          "text": [
            "\n",
            " 12%|█▏        | 247/2000 [08:37<1:00:16,  2.06s/it]\u001b[A"
          ],
          "name": "stderr"
        },
        {
          "output_type": "stream",
          "text": [
            "Epoch 247, gen loss=0.6767922639846802,disc loss=1.0592652559280396\n"
          ],
          "name": "stdout"
        },
        {
          "output_type": "stream",
          "text": [
            "\n",
            " 12%|█▏        | 248/2000 [08:39<1:00:16,  2.06s/it]\u001b[A"
          ],
          "name": "stderr"
        },
        {
          "output_type": "stream",
          "text": [
            "Epoch 248, gen loss=0.6756128668785095,disc loss=1.0592354536056519\n"
          ],
          "name": "stdout"
        },
        {
          "output_type": "stream",
          "text": [
            "\n",
            " 12%|█▏        | 249/2000 [08:41<1:00:09,  2.06s/it]\u001b[A"
          ],
          "name": "stderr"
        },
        {
          "output_type": "stream",
          "text": [
            "Epoch 249, gen loss=0.6764672994613647,disc loss=1.0534354448318481\n"
          ],
          "name": "stdout"
        },
        {
          "output_type": "stream",
          "text": [
            "\n",
            " 12%|█▎        | 250/2000 [08:43<1:00:07,  2.06s/it]\u001b[A"
          ],
          "name": "stderr"
        },
        {
          "output_type": "stream",
          "text": [
            "Epoch 250, gen loss=0.6805739402770996,disc loss=1.0469818115234375\n"
          ],
          "name": "stdout"
        },
        {
          "output_type": "stream",
          "text": [
            "\n",
            " 13%|█▎        | 251/2000 [08:45<1:00:03,  2.06s/it]\u001b[A"
          ],
          "name": "stderr"
        },
        {
          "output_type": "stream",
          "text": [
            "Epoch 251, gen loss=0.6807551980018616,disc loss=1.0417441129684448\n"
          ],
          "name": "stdout"
        },
        {
          "output_type": "stream",
          "text": [
            "\n",
            " 13%|█▎        | 252/2000 [08:47<59:58,  2.06s/it]  \u001b[A"
          ],
          "name": "stderr"
        },
        {
          "output_type": "stream",
          "text": [
            "Epoch 252, gen loss=0.6791552305221558,disc loss=1.0475666522979736\n"
          ],
          "name": "stdout"
        },
        {
          "output_type": "stream",
          "text": [
            "\n",
            " 13%|█▎        | 253/2000 [08:50<59:55,  2.06s/it]\u001b[A"
          ],
          "name": "stderr"
        },
        {
          "output_type": "stream",
          "text": [
            "Epoch 253, gen loss=0.6755071878433228,disc loss=1.060367465019226\n"
          ],
          "name": "stdout"
        },
        {
          "output_type": "stream",
          "text": [
            "\n",
            " 13%|█▎        | 254/2000 [08:52<59:52,  2.06s/it]\u001b[A"
          ],
          "name": "stderr"
        },
        {
          "output_type": "stream",
          "text": [
            "Epoch 254, gen loss=0.6773195266723633,disc loss=1.0474213361740112\n"
          ],
          "name": "stdout"
        },
        {
          "output_type": "stream",
          "text": [
            "\n",
            " 13%|█▎        | 255/2000 [08:54<59:50,  2.06s/it]\u001b[A"
          ],
          "name": "stderr"
        },
        {
          "output_type": "stream",
          "text": [
            "Epoch 255, gen loss=0.677230954170227,disc loss=1.0500363111495972\n"
          ],
          "name": "stdout"
        },
        {
          "output_type": "stream",
          "text": [
            "\n",
            " 13%|█▎        | 256/2000 [08:56<59:48,  2.06s/it]\u001b[A"
          ],
          "name": "stderr"
        },
        {
          "output_type": "stream",
          "text": [
            "Epoch 256, gen loss=0.6758034229278564,disc loss=1.0606091022491455\n"
          ],
          "name": "stdout"
        },
        {
          "output_type": "stream",
          "text": [
            "\n",
            " 13%|█▎        | 257/2000 [08:58<59:50,  2.06s/it]\u001b[A"
          ],
          "name": "stderr"
        },
        {
          "output_type": "stream",
          "text": [
            "Epoch 257, gen loss=0.679229199886322,disc loss=1.0436257123947144\n"
          ],
          "name": "stdout"
        },
        {
          "output_type": "stream",
          "text": [
            "\n",
            " 13%|█▎        | 258/2000 [09:00<59:53,  2.06s/it]\u001b[A"
          ],
          "name": "stderr"
        },
        {
          "output_type": "stream",
          "text": [
            "Epoch 258, gen loss=0.6772950291633606,disc loss=1.0495429039001465\n"
          ],
          "name": "stdout"
        },
        {
          "output_type": "stream",
          "text": [
            "\n",
            " 13%|█▎        | 259/2000 [09:02<59:48,  2.06s/it]\u001b[A"
          ],
          "name": "stderr"
        },
        {
          "output_type": "stream",
          "text": [
            "Epoch 259, gen loss=0.6722679734230042,disc loss=1.0693196058273315\n"
          ],
          "name": "stdout"
        },
        {
          "output_type": "stream",
          "text": [
            "\n",
            " 13%|█▎        | 260/2000 [09:04<59:49,  2.06s/it]\u001b[A"
          ],
          "name": "stderr"
        },
        {
          "output_type": "stream",
          "text": [
            "Epoch 260, gen loss=0.6771252155303955,disc loss=1.053756594657898\n"
          ],
          "name": "stdout"
        },
        {
          "output_type": "stream",
          "text": [
            "\n",
            " 13%|█▎        | 261/2000 [09:06<59:50,  2.06s/it]\u001b[A"
          ],
          "name": "stderr"
        },
        {
          "output_type": "stream",
          "text": [
            "Epoch 261, gen loss=0.6748960614204407,disc loss=1.0611032247543335\n"
          ],
          "name": "stdout"
        },
        {
          "output_type": "stream",
          "text": [
            "\n",
            " 13%|█▎        | 262/2000 [09:08<59:48,  2.06s/it]\u001b[A"
          ],
          "name": "stderr"
        },
        {
          "output_type": "stream",
          "text": [
            "Epoch 262, gen loss=0.6771575212478638,disc loss=1.0518559217453003\n"
          ],
          "name": "stdout"
        },
        {
          "output_type": "stream",
          "text": [
            "\n",
            " 13%|█▎        | 263/2000 [09:10<59:42,  2.06s/it]\u001b[A"
          ],
          "name": "stderr"
        },
        {
          "output_type": "stream",
          "text": [
            "Epoch 263, gen loss=0.6764194369316101,disc loss=1.0562481880187988\n"
          ],
          "name": "stdout"
        },
        {
          "output_type": "stream",
          "text": [
            "\n",
            " 13%|█▎        | 264/2000 [09:12<59:44,  2.06s/it]\u001b[A"
          ],
          "name": "stderr"
        },
        {
          "output_type": "stream",
          "text": [
            "Epoch 264, gen loss=0.682808518409729,disc loss=1.0364052057266235\n"
          ],
          "name": "stdout"
        },
        {
          "output_type": "stream",
          "text": [
            "\n",
            " 13%|█▎        | 265/2000 [09:14<59:40,  2.06s/it]\u001b[A"
          ],
          "name": "stderr"
        },
        {
          "output_type": "stream",
          "text": [
            "Epoch 265, gen loss=0.6796815991401672,disc loss=1.0469425916671753\n"
          ],
          "name": "stdout"
        },
        {
          "output_type": "stream",
          "text": [
            "\n",
            " 13%|█▎        | 266/2000 [09:16<59:37,  2.06s/it]\u001b[A"
          ],
          "name": "stderr"
        },
        {
          "output_type": "stream",
          "text": [
            "Epoch 266, gen loss=0.6744112968444824,disc loss=1.0545852184295654\n"
          ],
          "name": "stdout"
        },
        {
          "output_type": "stream",
          "text": [
            "\n",
            " 13%|█▎        | 267/2000 [09:18<59:34,  2.06s/it]\u001b[A"
          ],
          "name": "stderr"
        },
        {
          "output_type": "stream",
          "text": [
            "Epoch 267, gen loss=0.6799514293670654,disc loss=1.0441274642944336\n"
          ],
          "name": "stdout"
        },
        {
          "output_type": "stream",
          "text": [
            "\n",
            " 13%|█▎        | 268/2000 [09:20<59:37,  2.07s/it]\u001b[A"
          ],
          "name": "stderr"
        },
        {
          "output_type": "stream",
          "text": [
            "Epoch 268, gen loss=0.6756392121315002,disc loss=1.0572360754013062\n"
          ],
          "name": "stdout"
        },
        {
          "output_type": "stream",
          "text": [
            "\n",
            " 13%|█▎        | 269/2000 [09:23<59:32,  2.06s/it]\u001b[A"
          ],
          "name": "stderr"
        },
        {
          "output_type": "stream",
          "text": [
            "Epoch 269, gen loss=0.6773840188980103,disc loss=1.0527759790420532\n"
          ],
          "name": "stdout"
        },
        {
          "output_type": "stream",
          "text": [
            "\n",
            " 14%|█▎        | 270/2000 [09:25<59:28,  2.06s/it]\u001b[A"
          ],
          "name": "stderr"
        },
        {
          "output_type": "stream",
          "text": [
            "Epoch 270, gen loss=0.6791775226593018,disc loss=1.0487618446350098\n"
          ],
          "name": "stdout"
        },
        {
          "output_type": "stream",
          "text": [
            "\n",
            " 14%|█▎        | 271/2000 [09:27<59:22,  2.06s/it]\u001b[A"
          ],
          "name": "stderr"
        },
        {
          "output_type": "stream",
          "text": [
            "Epoch 271, gen loss=0.6757892370223999,disc loss=1.057319164276123\n"
          ],
          "name": "stdout"
        },
        {
          "output_type": "stream",
          "text": [
            "\n",
            " 14%|█▎        | 272/2000 [09:29<59:15,  2.06s/it]\u001b[A"
          ],
          "name": "stderr"
        },
        {
          "output_type": "stream",
          "text": [
            "Epoch 272, gen loss=0.6784173250198364,disc loss=1.045319676399231\n"
          ],
          "name": "stdout"
        },
        {
          "output_type": "stream",
          "text": [
            "\n",
            " 14%|█▎        | 273/2000 [09:31<59:12,  2.06s/it]\u001b[A"
          ],
          "name": "stderr"
        },
        {
          "output_type": "stream",
          "text": [
            "Epoch 273, gen loss=0.6762149930000305,disc loss=1.056350827217102\n"
          ],
          "name": "stdout"
        },
        {
          "output_type": "stream",
          "text": [
            "\n",
            " 14%|█▎        | 274/2000 [09:33<59:11,  2.06s/it]\u001b[A"
          ],
          "name": "stderr"
        },
        {
          "output_type": "stream",
          "text": [
            "Epoch 274, gen loss=0.676629364490509,disc loss=1.0619893074035645\n"
          ],
          "name": "stdout"
        },
        {
          "output_type": "stream",
          "text": [
            "\n",
            " 14%|█▍        | 275/2000 [09:35<59:11,  2.06s/it]\u001b[A"
          ],
          "name": "stderr"
        },
        {
          "output_type": "stream",
          "text": [
            "Epoch 275, gen loss=0.6821491122245789,disc loss=1.0409390926361084\n"
          ],
          "name": "stdout"
        },
        {
          "output_type": "stream",
          "text": [
            "\n",
            " 14%|█▍        | 276/2000 [09:37<59:06,  2.06s/it]\u001b[A"
          ],
          "name": "stderr"
        },
        {
          "output_type": "stream",
          "text": [
            "Epoch 276, gen loss=0.675824761390686,disc loss=1.0543608665466309\n"
          ],
          "name": "stdout"
        },
        {
          "output_type": "stream",
          "text": [
            "\n",
            " 14%|█▍        | 277/2000 [09:39<59:05,  2.06s/it]\u001b[A"
          ],
          "name": "stderr"
        },
        {
          "output_type": "stream",
          "text": [
            "Epoch 277, gen loss=0.6777321100234985,disc loss=1.0552690029144287\n"
          ],
          "name": "stdout"
        },
        {
          "output_type": "stream",
          "text": [
            "\n",
            " 14%|█▍        | 278/2000 [09:41<58:59,  2.06s/it]\u001b[A"
          ],
          "name": "stderr"
        },
        {
          "output_type": "stream",
          "text": [
            "Epoch 278, gen loss=0.6798884868621826,disc loss=1.046470284461975\n"
          ],
          "name": "stdout"
        },
        {
          "output_type": "stream",
          "text": [
            "\n",
            " 14%|█▍        | 279/2000 [09:43<59:01,  2.06s/it]\u001b[A"
          ],
          "name": "stderr"
        },
        {
          "output_type": "stream",
          "text": [
            "Epoch 279, gen loss=0.6800981163978577,disc loss=1.0501266717910767\n"
          ],
          "name": "stdout"
        },
        {
          "output_type": "stream",
          "text": [
            "\n",
            " 14%|█▍        | 280/2000 [09:45<58:54,  2.06s/it]\u001b[A"
          ],
          "name": "stderr"
        },
        {
          "output_type": "stream",
          "text": [
            "Epoch 280, gen loss=0.6786812543869019,disc loss=1.04693603515625\n"
          ],
          "name": "stdout"
        },
        {
          "output_type": "stream",
          "text": [
            "\n",
            " 14%|█▍        | 281/2000 [09:47<58:55,  2.06s/it]\u001b[A"
          ],
          "name": "stderr"
        },
        {
          "output_type": "stream",
          "text": [
            "Epoch 281, gen loss=0.6774693727493286,disc loss=1.05003023147583\n"
          ],
          "name": "stdout"
        },
        {
          "output_type": "stream",
          "text": [
            "\n",
            " 14%|█▍        | 282/2000 [09:49<58:58,  2.06s/it]\u001b[A"
          ],
          "name": "stderr"
        },
        {
          "output_type": "stream",
          "text": [
            "Epoch 282, gen loss=0.6794909834861755,disc loss=1.0442090034484863\n"
          ],
          "name": "stdout"
        },
        {
          "output_type": "stream",
          "text": [
            "\n",
            " 14%|█▍        | 283/2000 [09:51<58:58,  2.06s/it]\u001b[A"
          ],
          "name": "stderr"
        },
        {
          "output_type": "stream",
          "text": [
            "Epoch 283, gen loss=0.6829233169555664,disc loss=1.0352380275726318\n"
          ],
          "name": "stdout"
        },
        {
          "output_type": "stream",
          "text": [
            "\n",
            " 14%|█▍        | 284/2000 [09:53<58:55,  2.06s/it]\u001b[A"
          ],
          "name": "stderr"
        },
        {
          "output_type": "stream",
          "text": [
            "Epoch 284, gen loss=0.6800103187561035,disc loss=1.0444962978363037\n"
          ],
          "name": "stdout"
        },
        {
          "output_type": "stream",
          "text": [
            "\n",
            " 14%|█▍        | 285/2000 [09:55<58:55,  2.06s/it]\u001b[A"
          ],
          "name": "stderr"
        },
        {
          "output_type": "stream",
          "text": [
            "Epoch 285, gen loss=0.6811570525169373,disc loss=1.0414855480194092\n"
          ],
          "name": "stdout"
        },
        {
          "output_type": "stream",
          "text": [
            "\n",
            " 14%|█▍        | 286/2000 [09:58<58:55,  2.06s/it]\u001b[A"
          ],
          "name": "stderr"
        },
        {
          "output_type": "stream",
          "text": [
            "Epoch 286, gen loss=0.6787064075469971,disc loss=1.0628316402435303\n"
          ],
          "name": "stdout"
        },
        {
          "output_type": "stream",
          "text": [
            "\n",
            " 14%|█▍        | 287/2000 [10:00<58:50,  2.06s/it]\u001b[A"
          ],
          "name": "stderr"
        },
        {
          "output_type": "stream",
          "text": [
            "Epoch 287, gen loss=0.6768127679824829,disc loss=1.0525459051132202\n"
          ],
          "name": "stdout"
        },
        {
          "output_type": "stream",
          "text": [
            "\n",
            " 14%|█▍        | 288/2000 [10:02<58:43,  2.06s/it]\u001b[A"
          ],
          "name": "stderr"
        },
        {
          "output_type": "stream",
          "text": [
            "Epoch 288, gen loss=0.6768419742584229,disc loss=1.0497162342071533\n"
          ],
          "name": "stdout"
        },
        {
          "output_type": "stream",
          "text": [
            "\n",
            " 14%|█▍        | 289/2000 [10:04<58:45,  2.06s/it]\u001b[A"
          ],
          "name": "stderr"
        },
        {
          "output_type": "stream",
          "text": [
            "Epoch 289, gen loss=0.6802119016647339,disc loss=1.0440330505371094\n"
          ],
          "name": "stdout"
        },
        {
          "output_type": "stream",
          "text": [
            "\n",
            " 14%|█▍        | 290/2000 [10:06<58:39,  2.06s/it]\u001b[A"
          ],
          "name": "stderr"
        },
        {
          "output_type": "stream",
          "text": [
            "Epoch 290, gen loss=0.669299304485321,disc loss=1.0722863674163818\n"
          ],
          "name": "stdout"
        },
        {
          "output_type": "stream",
          "text": [
            "\n",
            " 15%|█▍        | 291/2000 [10:08<58:32,  2.06s/it]\u001b[A"
          ],
          "name": "stderr"
        },
        {
          "output_type": "stream",
          "text": [
            "Epoch 291, gen loss=0.6772454977035522,disc loss=1.0513625144958496\n"
          ],
          "name": "stdout"
        },
        {
          "output_type": "stream",
          "text": [
            "\n",
            " 15%|█▍        | 292/2000 [10:10<58:28,  2.05s/it]\u001b[A"
          ],
          "name": "stderr"
        },
        {
          "output_type": "stream",
          "text": [
            "Epoch 292, gen loss=0.6822219491004944,disc loss=1.0380460023880005\n"
          ],
          "name": "stdout"
        },
        {
          "output_type": "stream",
          "text": [
            "\n",
            " 15%|█▍        | 293/2000 [10:12<58:27,  2.05s/it]\u001b[A"
          ],
          "name": "stderr"
        },
        {
          "output_type": "stream",
          "text": [
            "Epoch 293, gen loss=0.6793555021286011,disc loss=1.0466936826705933\n"
          ],
          "name": "stdout"
        },
        {
          "output_type": "stream",
          "text": [
            "\n",
            " 15%|█▍        | 294/2000 [10:14<58:25,  2.05s/it]\u001b[A"
          ],
          "name": "stderr"
        },
        {
          "output_type": "stream",
          "text": [
            "Epoch 294, gen loss=0.6816110014915466,disc loss=1.0427299737930298\n"
          ],
          "name": "stdout"
        },
        {
          "output_type": "stream",
          "text": [
            "\n",
            " 15%|█▍        | 295/2000 [10:16<58:25,  2.06s/it]\u001b[A"
          ],
          "name": "stderr"
        },
        {
          "output_type": "stream",
          "text": [
            "Epoch 295, gen loss=0.6781372427940369,disc loss=1.0497517585754395\n"
          ],
          "name": "stdout"
        },
        {
          "output_type": "stream",
          "text": [
            "\n",
            " 15%|█▍        | 296/2000 [10:18<58:32,  2.06s/it]\u001b[A"
          ],
          "name": "stderr"
        },
        {
          "output_type": "stream",
          "text": [
            "Epoch 296, gen loss=0.6785649657249451,disc loss=1.049730896949768\n"
          ],
          "name": "stdout"
        },
        {
          "output_type": "stream",
          "text": [
            "\n",
            " 15%|█▍        | 297/2000 [10:20<58:26,  2.06s/it]\u001b[A"
          ],
          "name": "stderr"
        },
        {
          "output_type": "stream",
          "text": [
            "Epoch 297, gen loss=0.6787809729576111,disc loss=1.0488085746765137\n"
          ],
          "name": "stdout"
        },
        {
          "output_type": "stream",
          "text": [
            "\n",
            " 15%|█▍        | 298/2000 [10:22<58:19,  2.06s/it]\u001b[A"
          ],
          "name": "stderr"
        },
        {
          "output_type": "stream",
          "text": [
            "Epoch 298, gen loss=0.6813157796859741,disc loss=1.0384159088134766\n"
          ],
          "name": "stdout"
        },
        {
          "output_type": "stream",
          "text": [
            "\n",
            " 15%|█▍        | 299/2000 [10:24<58:16,  2.06s/it]\u001b[A"
          ],
          "name": "stderr"
        },
        {
          "output_type": "stream",
          "text": [
            "Epoch 299, gen loss=0.681291401386261,disc loss=1.0489352941513062\n"
          ],
          "name": "stdout"
        },
        {
          "output_type": "stream",
          "text": [
            "\n",
            " 15%|█▌        | 300/2000 [10:26<58:15,  2.06s/it]\u001b[A"
          ],
          "name": "stderr"
        },
        {
          "output_type": "stream",
          "text": [
            "Epoch 300, gen loss=0.6789188981056213,disc loss=1.0502126216888428\n"
          ],
          "name": "stdout"
        },
        {
          "output_type": "stream",
          "text": [
            "\n",
            " 15%|█▌        | 301/2000 [10:29<59:49,  2.11s/it]\u001b[A"
          ],
          "name": "stderr"
        },
        {
          "output_type": "stream",
          "text": [
            "Epoch 301, gen loss=0.6808493137359619,disc loss=1.037305474281311\n"
          ],
          "name": "stdout"
        },
        {
          "output_type": "stream",
          "text": [
            "\n",
            " 15%|█▌        | 302/2000 [10:31<59:22,  2.10s/it]\u001b[A"
          ],
          "name": "stderr"
        },
        {
          "output_type": "stream",
          "text": [
            "Epoch 302, gen loss=0.6783530712127686,disc loss=1.045426845550537\n"
          ],
          "name": "stdout"
        },
        {
          "output_type": "stream",
          "text": [
            "\n",
            " 15%|█▌        | 303/2000 [10:33<58:59,  2.09s/it]\u001b[A"
          ],
          "name": "stderr"
        },
        {
          "output_type": "stream",
          "text": [
            "Epoch 303, gen loss=0.6773471236228943,disc loss=1.0482741594314575\n"
          ],
          "name": "stdout"
        },
        {
          "output_type": "stream",
          "text": [
            "\n",
            " 15%|█▌        | 304/2000 [10:35<58:40,  2.08s/it]\u001b[A"
          ],
          "name": "stderr"
        },
        {
          "output_type": "stream",
          "text": [
            "Epoch 304, gen loss=0.67672199010849,disc loss=1.0550915002822876\n"
          ],
          "name": "stdout"
        },
        {
          "output_type": "stream",
          "text": [
            "\n",
            " 15%|█▌        | 305/2000 [10:37<58:28,  2.07s/it]\u001b[A"
          ],
          "name": "stderr"
        },
        {
          "output_type": "stream",
          "text": [
            "Epoch 305, gen loss=0.6780620217323303,disc loss=1.0399446487426758\n"
          ],
          "name": "stdout"
        },
        {
          "output_type": "stream",
          "text": [
            "\n",
            " 15%|█▌        | 306/2000 [10:39<58:17,  2.06s/it]\u001b[A"
          ],
          "name": "stderr"
        },
        {
          "output_type": "stream",
          "text": [
            "Epoch 306, gen loss=0.6788723468780518,disc loss=1.05087411403656\n"
          ],
          "name": "stdout"
        },
        {
          "output_type": "stream",
          "text": [
            "\n",
            " 15%|█▌        | 307/2000 [10:41<58:06,  2.06s/it]\u001b[A"
          ],
          "name": "stderr"
        },
        {
          "output_type": "stream",
          "text": [
            "Epoch 307, gen loss=0.6822152733802795,disc loss=1.0393275022506714\n"
          ],
          "name": "stdout"
        },
        {
          "output_type": "stream",
          "text": [
            "\n",
            " 15%|█▌        | 308/2000 [10:43<58:03,  2.06s/it]\u001b[A"
          ],
          "name": "stderr"
        },
        {
          "output_type": "stream",
          "text": [
            "Epoch 308, gen loss=0.6753658652305603,disc loss=1.0573523044586182\n"
          ],
          "name": "stdout"
        },
        {
          "output_type": "stream",
          "text": [
            "\n",
            " 15%|█▌        | 309/2000 [10:45<57:55,  2.06s/it]\u001b[A"
          ],
          "name": "stderr"
        },
        {
          "output_type": "stream",
          "text": [
            "Epoch 309, gen loss=0.6770539283752441,disc loss=1.049192190170288\n"
          ],
          "name": "stdout"
        },
        {
          "output_type": "stream",
          "text": [
            "\n",
            " 16%|█▌        | 310/2000 [10:47<57:54,  2.06s/it]\u001b[A"
          ],
          "name": "stderr"
        },
        {
          "output_type": "stream",
          "text": [
            "Epoch 310, gen loss=0.6788908839225769,disc loss=1.041981816291809\n"
          ],
          "name": "stdout"
        },
        {
          "output_type": "stream",
          "text": [
            "\n",
            " 16%|█▌        | 311/2000 [10:49<57:53,  2.06s/it]\u001b[A"
          ],
          "name": "stderr"
        },
        {
          "output_type": "stream",
          "text": [
            "Epoch 311, gen loss=0.6802128553390503,disc loss=1.0436429977416992\n"
          ],
          "name": "stdout"
        },
        {
          "output_type": "stream",
          "text": [
            "\n",
            " 16%|█▌        | 312/2000 [10:51<57:57,  2.06s/it]\u001b[A"
          ],
          "name": "stderr"
        },
        {
          "output_type": "stream",
          "text": [
            "Epoch 312, gen loss=0.6814588308334351,disc loss=1.040446162223816\n"
          ],
          "name": "stdout"
        },
        {
          "output_type": "stream",
          "text": [
            "\n",
            " 16%|█▌        | 313/2000 [10:53<57:55,  2.06s/it]\u001b[A"
          ],
          "name": "stderr"
        },
        {
          "output_type": "stream",
          "text": [
            "Epoch 313, gen loss=0.6792709827423096,disc loss=1.0409058332443237\n"
          ],
          "name": "stdout"
        },
        {
          "output_type": "stream",
          "text": [
            "\n",
            " 16%|█▌        | 314/2000 [10:55<57:52,  2.06s/it]\u001b[A"
          ],
          "name": "stderr"
        },
        {
          "output_type": "stream",
          "text": [
            "Epoch 314, gen loss=0.6770623922348022,disc loss=1.0483471155166626\n"
          ],
          "name": "stdout"
        },
        {
          "output_type": "stream",
          "text": [
            "\n",
            " 16%|█▌        | 315/2000 [10:57<57:57,  2.06s/it]\u001b[A"
          ],
          "name": "stderr"
        },
        {
          "output_type": "stream",
          "text": [
            "Epoch 315, gen loss=0.6840724349021912,disc loss=1.0305428504943848\n"
          ],
          "name": "stdout"
        },
        {
          "output_type": "stream",
          "text": [
            "\n",
            " 16%|█▌        | 316/2000 [10:59<57:56,  2.06s/it]\u001b[A"
          ],
          "name": "stderr"
        },
        {
          "output_type": "stream",
          "text": [
            "Epoch 316, gen loss=0.6793559193611145,disc loss=1.0418905019760132\n"
          ],
          "name": "stdout"
        },
        {
          "output_type": "stream",
          "text": [
            "\n",
            " 16%|█▌        | 317/2000 [11:02<57:52,  2.06s/it]\u001b[A"
          ],
          "name": "stderr"
        },
        {
          "output_type": "stream",
          "text": [
            "Epoch 317, gen loss=0.6785904169082642,disc loss=1.0468873977661133\n"
          ],
          "name": "stdout"
        },
        {
          "output_type": "stream",
          "text": [
            "\n",
            " 16%|█▌        | 318/2000 [11:04<57:50,  2.06s/it]\u001b[A"
          ],
          "name": "stderr"
        },
        {
          "output_type": "stream",
          "text": [
            "Epoch 318, gen loss=0.676278829574585,disc loss=1.0544599294662476\n"
          ],
          "name": "stdout"
        },
        {
          "output_type": "stream",
          "text": [
            "\n",
            " 16%|█▌        | 319/2000 [11:06<57:47,  2.06s/it]\u001b[A"
          ],
          "name": "stderr"
        },
        {
          "output_type": "stream",
          "text": [
            "Epoch 319, gen loss=0.6698170900344849,disc loss=1.0783027410507202\n"
          ],
          "name": "stdout"
        },
        {
          "output_type": "stream",
          "text": [
            "\n",
            " 16%|█▌        | 320/2000 [11:08<57:40,  2.06s/it]\u001b[A"
          ],
          "name": "stderr"
        },
        {
          "output_type": "stream",
          "text": [
            "Epoch 320, gen loss=0.6765240430831909,disc loss=1.0529651641845703\n"
          ],
          "name": "stdout"
        },
        {
          "output_type": "stream",
          "text": [
            "\n",
            " 16%|█▌        | 321/2000 [11:10<57:37,  2.06s/it]\u001b[A"
          ],
          "name": "stderr"
        },
        {
          "output_type": "stream",
          "text": [
            "Epoch 321, gen loss=0.674262523651123,disc loss=1.060339093208313\n"
          ],
          "name": "stdout"
        },
        {
          "output_type": "stream",
          "text": [
            "\n",
            " 16%|█▌        | 322/2000 [11:12<57:37,  2.06s/it]\u001b[A"
          ],
          "name": "stderr"
        },
        {
          "output_type": "stream",
          "text": [
            "Epoch 322, gen loss=0.6804651618003845,disc loss=1.048020839691162\n"
          ],
          "name": "stdout"
        },
        {
          "output_type": "stream",
          "text": [
            "\n",
            " 16%|█▌        | 323/2000 [11:14<57:33,  2.06s/it]\u001b[A"
          ],
          "name": "stderr"
        },
        {
          "output_type": "stream",
          "text": [
            "Epoch 323, gen loss=0.6766552329063416,disc loss=1.0546499490737915\n"
          ],
          "name": "stdout"
        },
        {
          "output_type": "stream",
          "text": [
            "\n",
            " 16%|█▌        | 324/2000 [11:16<57:37,  2.06s/it]\u001b[A"
          ],
          "name": "stderr"
        },
        {
          "output_type": "stream",
          "text": [
            "Epoch 324, gen loss=0.6740149855613708,disc loss=1.0518442392349243\n"
          ],
          "name": "stdout"
        },
        {
          "output_type": "stream",
          "text": [
            "\n",
            " 16%|█▋        | 325/2000 [11:18<57:26,  2.06s/it]\u001b[A"
          ],
          "name": "stderr"
        },
        {
          "output_type": "stream",
          "text": [
            "Epoch 325, gen loss=0.6812923550605774,disc loss=1.0393400192260742\n"
          ],
          "name": "stdout"
        },
        {
          "output_type": "stream",
          "text": [
            "\n",
            " 16%|█▋        | 326/2000 [11:20<57:27,  2.06s/it]\u001b[A"
          ],
          "name": "stderr"
        },
        {
          "output_type": "stream",
          "text": [
            "Epoch 326, gen loss=0.6814079284667969,disc loss=1.0387001037597656\n"
          ],
          "name": "stdout"
        },
        {
          "output_type": "stream",
          "text": [
            "\n",
            " 16%|█▋        | 327/2000 [11:22<57:22,  2.06s/it]\u001b[A"
          ],
          "name": "stderr"
        },
        {
          "output_type": "stream",
          "text": [
            "Epoch 327, gen loss=0.6799798011779785,disc loss=1.0413190126419067\n"
          ],
          "name": "stdout"
        },
        {
          "output_type": "stream",
          "text": [
            "\n",
            " 16%|█▋        | 328/2000 [11:24<57:24,  2.06s/it]\u001b[A"
          ],
          "name": "stderr"
        },
        {
          "output_type": "stream",
          "text": [
            "Epoch 328, gen loss=0.6746021509170532,disc loss=1.0540345907211304\n"
          ],
          "name": "stdout"
        },
        {
          "output_type": "stream",
          "text": [
            "\n",
            " 16%|█▋        | 329/2000 [11:26<57:20,  2.06s/it]\u001b[A"
          ],
          "name": "stderr"
        },
        {
          "output_type": "stream",
          "text": [
            "Epoch 329, gen loss=0.6776548624038696,disc loss=1.046968698501587\n"
          ],
          "name": "stdout"
        },
        {
          "output_type": "stream",
          "text": [
            "\n",
            " 16%|█▋        | 330/2000 [11:28<57:19,  2.06s/it]\u001b[A"
          ],
          "name": "stderr"
        },
        {
          "output_type": "stream",
          "text": [
            "Epoch 330, gen loss=0.6790266036987305,disc loss=1.050358772277832\n"
          ],
          "name": "stdout"
        },
        {
          "output_type": "error",
          "ename": "KeyboardInterrupt",
          "evalue": "ignored",
          "traceback": [
            "\u001b[0;31m---------------------------------------------------------------------------\u001b[0m",
            "\u001b[0;31mKeyboardInterrupt\u001b[0m                         Traceback (most recent call last)",
            "\u001b[0;32m<ipython-input-22-d152560ca122>\u001b[0m in \u001b[0;36m<module>\u001b[0;34m()\u001b[0m\n\u001b[0;32m----> 1\u001b[0;31m \u001b[0mtrain\u001b[0m\u001b[0;34m(\u001b[0m\u001b[0mtrain_dataset\u001b[0m\u001b[0;34m,\u001b[0m \u001b[0mEPOCHS\u001b[0m\u001b[0;34m)\u001b[0m\u001b[0;34m\u001b[0m\u001b[0;34m\u001b[0m\u001b[0m\n\u001b[0m",
            "\u001b[0;32m<ipython-input-21-0e7b23b16a65>\u001b[0m in \u001b[0;36mtrain\u001b[0;34m(dataset, epochs)\u001b[0m\n\u001b[1;32m      9\u001b[0m \u001b[0;34m\u001b[0m\u001b[0m\n\u001b[1;32m     10\u001b[0m     \u001b[0;32mfor\u001b[0m \u001b[0mimage_batch\u001b[0m \u001b[0;32min\u001b[0m \u001b[0mdataset\u001b[0m\u001b[0;34m:\u001b[0m\u001b[0;34m\u001b[0m\u001b[0;34m\u001b[0m\u001b[0m\n\u001b[0;32m---> 11\u001b[0;31m       \u001b[0mt\u001b[0m \u001b[0;34m=\u001b[0m \u001b[0mtrain_step\u001b[0m\u001b[0;34m(\u001b[0m\u001b[0mimage_batch\u001b[0m\u001b[0;34m)\u001b[0m\u001b[0;34m\u001b[0m\u001b[0;34m\u001b[0m\u001b[0m\n\u001b[0m\u001b[1;32m     12\u001b[0m       \u001b[0mgen_loss_list\u001b[0m\u001b[0;34m.\u001b[0m\u001b[0mappend\u001b[0m\u001b[0;34m(\u001b[0m\u001b[0mt\u001b[0m\u001b[0;34m[\u001b[0m\u001b[0;36m0\u001b[0m\u001b[0;34m]\u001b[0m\u001b[0;34m)\u001b[0m\u001b[0;34m\u001b[0m\u001b[0;34m\u001b[0m\u001b[0m\n\u001b[1;32m     13\u001b[0m       \u001b[0mdisc_loss_list\u001b[0m\u001b[0;34m.\u001b[0m\u001b[0mappend\u001b[0m\u001b[0;34m(\u001b[0m\u001b[0mt\u001b[0m\u001b[0;34m[\u001b[0m\u001b[0;36m1\u001b[0m\u001b[0;34m]\u001b[0m\u001b[0;34m)\u001b[0m\u001b[0;34m\u001b[0m\u001b[0;34m\u001b[0m\u001b[0m\n",
            "\u001b[0;32m/usr/local/lib/python3.6/dist-packages/tensorflow/python/eager/def_function.py\u001b[0m in \u001b[0;36m__call__\u001b[0;34m(self, *args, **kwds)\u001b[0m\n\u001b[1;32m    578\u001b[0m         \u001b[0mxla_context\u001b[0m\u001b[0;34m.\u001b[0m\u001b[0mExit\u001b[0m\u001b[0;34m(\u001b[0m\u001b[0;34m)\u001b[0m\u001b[0;34m\u001b[0m\u001b[0;34m\u001b[0m\u001b[0m\n\u001b[1;32m    579\u001b[0m     \u001b[0;32melse\u001b[0m\u001b[0;34m:\u001b[0m\u001b[0;34m\u001b[0m\u001b[0;34m\u001b[0m\u001b[0m\n\u001b[0;32m--> 580\u001b[0;31m       \u001b[0mresult\u001b[0m \u001b[0;34m=\u001b[0m \u001b[0mself\u001b[0m\u001b[0;34m.\u001b[0m\u001b[0m_call\u001b[0m\u001b[0;34m(\u001b[0m\u001b[0;34m*\u001b[0m\u001b[0margs\u001b[0m\u001b[0;34m,\u001b[0m \u001b[0;34m**\u001b[0m\u001b[0mkwds\u001b[0m\u001b[0;34m)\u001b[0m\u001b[0;34m\u001b[0m\u001b[0;34m\u001b[0m\u001b[0m\n\u001b[0m\u001b[1;32m    581\u001b[0m \u001b[0;34m\u001b[0m\u001b[0m\n\u001b[1;32m    582\u001b[0m     \u001b[0;32mif\u001b[0m \u001b[0mtracing_count\u001b[0m \u001b[0;34m==\u001b[0m \u001b[0mself\u001b[0m\u001b[0;34m.\u001b[0m\u001b[0m_get_tracing_count\u001b[0m\u001b[0;34m(\u001b[0m\u001b[0;34m)\u001b[0m\u001b[0;34m:\u001b[0m\u001b[0;34m\u001b[0m\u001b[0;34m\u001b[0m\u001b[0m\n",
            "\u001b[0;32m/usr/local/lib/python3.6/dist-packages/tensorflow/python/eager/def_function.py\u001b[0m in \u001b[0;36m_call\u001b[0;34m(self, *args, **kwds)\u001b[0m\n\u001b[1;32m    609\u001b[0m       \u001b[0;31m# In this case we have created variables on the first call, so we run the\u001b[0m\u001b[0;34m\u001b[0m\u001b[0;34m\u001b[0m\u001b[0;34m\u001b[0m\u001b[0m\n\u001b[1;32m    610\u001b[0m       \u001b[0;31m# defunned version which is guaranteed to never create variables.\u001b[0m\u001b[0;34m\u001b[0m\u001b[0;34m\u001b[0m\u001b[0;34m\u001b[0m\u001b[0m\n\u001b[0;32m--> 611\u001b[0;31m       \u001b[0;32mreturn\u001b[0m \u001b[0mself\u001b[0m\u001b[0;34m.\u001b[0m\u001b[0m_stateless_fn\u001b[0m\u001b[0;34m(\u001b[0m\u001b[0;34m*\u001b[0m\u001b[0margs\u001b[0m\u001b[0;34m,\u001b[0m \u001b[0;34m**\u001b[0m\u001b[0mkwds\u001b[0m\u001b[0;34m)\u001b[0m  \u001b[0;31m# pylint: disable=not-callable\u001b[0m\u001b[0;34m\u001b[0m\u001b[0;34m\u001b[0m\u001b[0m\n\u001b[0m\u001b[1;32m    612\u001b[0m     \u001b[0;32melif\u001b[0m \u001b[0mself\u001b[0m\u001b[0;34m.\u001b[0m\u001b[0m_stateful_fn\u001b[0m \u001b[0;32mis\u001b[0m \u001b[0;32mnot\u001b[0m \u001b[0;32mNone\u001b[0m\u001b[0;34m:\u001b[0m\u001b[0;34m\u001b[0m\u001b[0;34m\u001b[0m\u001b[0m\n\u001b[1;32m    613\u001b[0m       \u001b[0;31m# Release the lock early so that multiple threads can perform the call\u001b[0m\u001b[0;34m\u001b[0m\u001b[0;34m\u001b[0m\u001b[0;34m\u001b[0m\u001b[0m\n",
            "\u001b[0;32m/usr/local/lib/python3.6/dist-packages/tensorflow/python/eager/function.py\u001b[0m in \u001b[0;36m__call__\u001b[0;34m(self, *args, **kwargs)\u001b[0m\n\u001b[1;32m   2418\u001b[0m     \u001b[0;32mwith\u001b[0m \u001b[0mself\u001b[0m\u001b[0;34m.\u001b[0m\u001b[0m_lock\u001b[0m\u001b[0;34m:\u001b[0m\u001b[0;34m\u001b[0m\u001b[0;34m\u001b[0m\u001b[0m\n\u001b[1;32m   2419\u001b[0m       \u001b[0mgraph_function\u001b[0m\u001b[0;34m,\u001b[0m \u001b[0margs\u001b[0m\u001b[0;34m,\u001b[0m \u001b[0mkwargs\u001b[0m \u001b[0;34m=\u001b[0m \u001b[0mself\u001b[0m\u001b[0;34m.\u001b[0m\u001b[0m_maybe_define_function\u001b[0m\u001b[0;34m(\u001b[0m\u001b[0margs\u001b[0m\u001b[0;34m,\u001b[0m \u001b[0mkwargs\u001b[0m\u001b[0;34m)\u001b[0m\u001b[0;34m\u001b[0m\u001b[0;34m\u001b[0m\u001b[0m\n\u001b[0;32m-> 2420\u001b[0;31m     \u001b[0;32mreturn\u001b[0m \u001b[0mgraph_function\u001b[0m\u001b[0;34m.\u001b[0m\u001b[0m_filtered_call\u001b[0m\u001b[0;34m(\u001b[0m\u001b[0margs\u001b[0m\u001b[0;34m,\u001b[0m \u001b[0mkwargs\u001b[0m\u001b[0;34m)\u001b[0m  \u001b[0;31m# pylint: disable=protected-access\u001b[0m\u001b[0;34m\u001b[0m\u001b[0;34m\u001b[0m\u001b[0m\n\u001b[0m\u001b[1;32m   2421\u001b[0m \u001b[0;34m\u001b[0m\u001b[0m\n\u001b[1;32m   2422\u001b[0m   \u001b[0;34m@\u001b[0m\u001b[0mproperty\u001b[0m\u001b[0;34m\u001b[0m\u001b[0;34m\u001b[0m\u001b[0m\n",
            "\u001b[0;32m/usr/local/lib/python3.6/dist-packages/tensorflow/python/eager/function.py\u001b[0m in \u001b[0;36m_filtered_call\u001b[0;34m(self, args, kwargs)\u001b[0m\n\u001b[1;32m   1663\u001b[0m          if isinstance(t, (ops.Tensor,\n\u001b[1;32m   1664\u001b[0m                            resource_variable_ops.BaseResourceVariable))),\n\u001b[0;32m-> 1665\u001b[0;31m         self.captured_inputs)\n\u001b[0m\u001b[1;32m   1666\u001b[0m \u001b[0;34m\u001b[0m\u001b[0m\n\u001b[1;32m   1667\u001b[0m   \u001b[0;32mdef\u001b[0m \u001b[0m_call_flat\u001b[0m\u001b[0;34m(\u001b[0m\u001b[0mself\u001b[0m\u001b[0;34m,\u001b[0m \u001b[0margs\u001b[0m\u001b[0;34m,\u001b[0m \u001b[0mcaptured_inputs\u001b[0m\u001b[0;34m,\u001b[0m \u001b[0mcancellation_manager\u001b[0m\u001b[0;34m=\u001b[0m\u001b[0;32mNone\u001b[0m\u001b[0;34m)\u001b[0m\u001b[0;34m:\u001b[0m\u001b[0;34m\u001b[0m\u001b[0;34m\u001b[0m\u001b[0m\n",
            "\u001b[0;32m/usr/local/lib/python3.6/dist-packages/tensorflow/python/eager/function.py\u001b[0m in \u001b[0;36m_call_flat\u001b[0;34m(self, args, captured_inputs, cancellation_manager)\u001b[0m\n\u001b[1;32m   1744\u001b[0m       \u001b[0;31m# No tape is watching; skip to running the function.\u001b[0m\u001b[0;34m\u001b[0m\u001b[0;34m\u001b[0m\u001b[0;34m\u001b[0m\u001b[0m\n\u001b[1;32m   1745\u001b[0m       return self._build_call_outputs(self._inference_function.call(\n\u001b[0;32m-> 1746\u001b[0;31m           ctx, args, cancellation_manager=cancellation_manager))\n\u001b[0m\u001b[1;32m   1747\u001b[0m     forward_backward = self._select_forward_and_backward_functions(\n\u001b[1;32m   1748\u001b[0m         \u001b[0margs\u001b[0m\u001b[0;34m,\u001b[0m\u001b[0;34m\u001b[0m\u001b[0;34m\u001b[0m\u001b[0m\n",
            "\u001b[0;32m/usr/local/lib/python3.6/dist-packages/tensorflow/python/eager/function.py\u001b[0m in \u001b[0;36mcall\u001b[0;34m(self, ctx, args, cancellation_manager)\u001b[0m\n\u001b[1;32m    596\u001b[0m               \u001b[0minputs\u001b[0m\u001b[0;34m=\u001b[0m\u001b[0margs\u001b[0m\u001b[0;34m,\u001b[0m\u001b[0;34m\u001b[0m\u001b[0;34m\u001b[0m\u001b[0m\n\u001b[1;32m    597\u001b[0m               \u001b[0mattrs\u001b[0m\u001b[0;34m=\u001b[0m\u001b[0mattrs\u001b[0m\u001b[0;34m,\u001b[0m\u001b[0;34m\u001b[0m\u001b[0;34m\u001b[0m\u001b[0m\n\u001b[0;32m--> 598\u001b[0;31m               ctx=ctx)\n\u001b[0m\u001b[1;32m    599\u001b[0m         \u001b[0;32melse\u001b[0m\u001b[0;34m:\u001b[0m\u001b[0;34m\u001b[0m\u001b[0;34m\u001b[0m\u001b[0m\n\u001b[1;32m    600\u001b[0m           outputs = execute.execute_with_cancellation(\n",
            "\u001b[0;32m/usr/local/lib/python3.6/dist-packages/tensorflow/python/eager/execute.py\u001b[0m in \u001b[0;36mquick_execute\u001b[0;34m(op_name, num_outputs, inputs, attrs, ctx, name)\u001b[0m\n\u001b[1;32m     58\u001b[0m     \u001b[0mctx\u001b[0m\u001b[0;34m.\u001b[0m\u001b[0mensure_initialized\u001b[0m\u001b[0;34m(\u001b[0m\u001b[0;34m)\u001b[0m\u001b[0;34m\u001b[0m\u001b[0;34m\u001b[0m\u001b[0m\n\u001b[1;32m     59\u001b[0m     tensors = pywrap_tfe.TFE_Py_Execute(ctx._handle, device_name, op_name,\n\u001b[0;32m---> 60\u001b[0;31m                                         inputs, attrs, num_outputs)\n\u001b[0m\u001b[1;32m     61\u001b[0m   \u001b[0;32mexcept\u001b[0m \u001b[0mcore\u001b[0m\u001b[0;34m.\u001b[0m\u001b[0m_NotOkStatusException\u001b[0m \u001b[0;32mas\u001b[0m \u001b[0me\u001b[0m\u001b[0;34m:\u001b[0m\u001b[0;34m\u001b[0m\u001b[0;34m\u001b[0m\u001b[0m\n\u001b[1;32m     62\u001b[0m     \u001b[0;32mif\u001b[0m \u001b[0mname\u001b[0m \u001b[0;32mis\u001b[0m \u001b[0;32mnot\u001b[0m \u001b[0;32mNone\u001b[0m\u001b[0;34m:\u001b[0m\u001b[0;34m\u001b[0m\u001b[0;34m\u001b[0m\u001b[0m\n",
            "\u001b[0;31mKeyboardInterrupt\u001b[0m: "
          ]
        }
      ]
    },
    {
      "cell_type": "markdown",
      "metadata": {
        "id": "biO-kawQL1SM",
        "colab_type": "text"
      },
      "source": [
        "# Generating images"
      ]
    },
    {
      "cell_type": "markdown",
      "metadata": {
        "id": "-23wK378BCI7",
        "colab_type": "text"
      },
      "source": [
        "**In this section 500 generated images are saved.**\n"
      ]
    },
    {
      "cell_type": "code",
      "metadata": {
        "id": "T7lWylzxNina",
        "colab_type": "code",
        "colab": {}
      },
      "source": [
        "from keras.models import load_model"
      ],
      "execution_count": 27,
      "outputs": []
    },
    {
      "cell_type": "markdown",
      "metadata": {
        "id": "pgCSgnWVP3uT",
        "colab_type": "text"
      },
      "source": [
        "**Load the best model to generate images of insect**"
      ]
    },
    {
      "cell_type": "code",
      "metadata": {
        "id": "Xn28QXDhHEL_",
        "colab_type": "code",
        "colab": {
          "base_uri": "https://localhost:8080/",
          "height": 34
        },
        "outputId": "597d3ed3-aa21-4cf7-e238-bbcd847f0e6e"
      },
      "source": [
        "#loading best model\n",
        "generator = keras.models.load_model('/content/drive/My Drive/minor/final_aloa/output-200/face_generator-200.h5')"
      ],
      "execution_count": 28,
      "outputs": [
        {
          "output_type": "stream",
          "text": [
            "WARNING:tensorflow:No training configuration found in the save file, so the model was *not* compiled. Compile it manually.\n"
          ],
          "name": "stdout"
        }
      ]
    },
    {
      "cell_type": "markdown",
      "metadata": {
        "id": "boH-RvYeP9h3",
        "colab_type": "text"
      },
      "source": [
        "**Check generator's working by plotting a generated image**"
      ]
    },
    {
      "cell_type": "code",
      "metadata": {
        "id": "Ve5TDxkaJKJx",
        "colab_type": "code",
        "colab": {
          "base_uri": "https://localhost:8080/",
          "height": 286
        },
        "outputId": "1fedbd86-1bb4-4f47-b72b-f1fa15bcb212"
      },
      "source": [
        "noise = tf.random.normal([1, SEED_SIZE])\n",
        "generated_image = generator(noise, training=False)\n",
        "generated_image = 0.5 * generated_image + 0.5\n",
        "plt.imshow(generated_image[0, :, :, :])"
      ],
      "execution_count": 29,
      "outputs": [
        {
          "output_type": "execute_result",
          "data": {
            "text/plain": [
              "<matplotlib.image.AxesImage at 0x7fe28e7351d0>"
            ]
          },
          "metadata": {
            "tags": []
          },
          "execution_count": 29
        },
        {
          "output_type": "display_data",
          "data": {
            "image/png": "[encoded data removed]",
            "text/plain": [
              "<Figure size 432x288 with 1 Axes>"
            ]
          },
          "metadata": {
            "tags": [],
            "needs_background": "light"
          }
        }
      ]
    },
    {
      "cell_type": "code",
      "metadata": {
        "id": "WIf6KZc5Oiq5",
        "colab_type": "code",
        "colab": {}
      },
      "source": [
        "import numpy as np\n"
      ],
      "execution_count": 30,
      "outputs": []
    },
    {
      "cell_type": "markdown",
      "metadata": {
        "id": "337ql8SsQGl5",
        "colab_type": "text"
      },
      "source": [
        "**Define the directory where results folder will be made**"
      ]
    },
    {
      "cell_type": "code",
      "metadata": {
        "id": "tVDFw923OCog",
        "colab_type": "code",
        "colab": {}
      },
      "source": [
        "OUT_PATH_samples='/content/drive/My Drive/minor/final_aloa'"
      ],
      "execution_count": 41,
      "outputs": []
    },
    {
      "cell_type": "code",
      "metadata": {
        "id": "1IXnsaAMOHub",
        "colab_type": "code",
        "colab": {}
      },
      "source": [
        "output_samples_path = os.path.join(OUT_PATH_samples,f\"results\")"
      ],
      "execution_count": 42,
      "outputs": []
    },
    {
      "cell_type": "markdown",
      "metadata": {
        "id": "kzKFvnQ6QUfM",
        "colab_type": "text"
      },
      "source": [
        "**Make results folder in OUT_PATH_SAMPLES**"
      ]
    },
    {
      "cell_type": "code",
      "metadata": {
        "id": "lOHJxCCeOLGD",
        "colab_type": "code",
        "colab": {}
      },
      "source": [
        "!mkdir '/content/drive/My Drive/minor/final_aloa/results'"
      ],
      "execution_count": 40,
      "outputs": []
    },
    {
      "cell_type": "markdown",
      "metadata": {
        "id": "XBcklNYyQdrs",
        "colab_type": "text"
      },
      "source": [
        "**Below cell saves 500 synthetically generated images to the output_samples_path.**"
      ]
    },
    {
      "cell_type": "code",
      "metadata": {
        "id": "PlmIVIp1OOp-",
        "colab_type": "code",
        "colab": {}
      },
      "source": [
        "x=500 # no of samples to be generated\n",
        "for i in range(x):\n",
        "  noise = tf.random.normal([1, SEED_SIZE])\n",
        "  generated_image = generator(noise, training=False)\n",
        "  generated_image = 0.5 * generated_image + 0.5\n",
        "  generated_image=generated_image[0, :, :, :]\n",
        "  filename = os.path.join(output_samples_path,f\"aloa-{i}.png\")\n",
        "  generated_image=np.asarray(generated_image)\n",
        "  im = Image.fromarray((generated_image * 255).astype(np.uint8))\n",
        "  im.save(filename)\n"
      ],
      "execution_count": 43,
      "outputs": []
    }
  ]
}